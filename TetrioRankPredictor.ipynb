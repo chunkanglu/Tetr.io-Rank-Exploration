{
  "nbformat": 4,
  "nbformat_minor": 0,
  "metadata": {
    "colab": {
      "name": "Copy of TetrioData for github.ipynb",
      "provenance": [],
      "authorship_tag": "ABX9TyP6L4wio75GAIeZI+mYrHgI",
      "include_colab_link": true
    },
    "kernelspec": {
      "name": "python3",
      "display_name": "Python 3"
    }
  },
  "cells": [
    {
      "cell_type": "markdown",
      "metadata": {
        "id": "view-in-github",
        "colab_type": "text"
      },
      "source": [
        "<a href=\"https://colab.research.google.com/github/chunkanglu/Tetr.io-Rank-Predictor/blob/main/TetrioRankPredictor.ipynb\" target=\"_parent\"><img src=\"https://colab.research.google.com/assets/colab-badge.svg\" alt=\"Open In Colab\"/></a>"
      ]
    },
    {
      "cell_type": "markdown",
      "metadata": {
        "id": "FlBH0ElXtvsm"
      },
      "source": [
        "# Tetr.io Rank Predictor \r\n",
        "\r\n",
        "Goal: To predict Tetr.io rank based on other player statistics such as **APM (Attack-per-Minute)**, **PPS (Pieces-per-Second)**, and **VS Score**.\r\n",
        "\r\n",
        "### Note: \r\n",
        "The comments here derive from the data taken on Februrary 17, 2021. Since this program collects the current live data, there may be variations in the results. "
      ]
    },
    {
      "cell_type": "code",
      "metadata": {
        "id": "jrUpwkGTrMaH"
      },
      "source": [
        "import requests\r\n",
        "import numpy as np\r\n",
        "import pandas as pd\r\n",
        "import json\r\n",
        "import matplotlib.pyplot as plt\r\n",
        "import seaborn as sns\r\n",
        "\r\n",
        "from sklearn.linear_model import LogisticRegression\r\n",
        "from sklearn.neighbors import KNeighborsClassifier\r\n",
        "from sklearn.ensemble import RandomForestClassifier\r\n",
        "\r\n",
        "from sklearn.model_selection import train_test_split, RandomizedSearchCV"
      ],
      "execution_count": 10,
      "outputs": []
    },
    {
      "cell_type": "markdown",
      "metadata": {
        "id": "FhBMZIk2lLxk"
      },
      "source": [
        "Get Tetr.io Tetra League data from API"
      ]
    },
    {
      "cell_type": "code",
      "metadata": {
        "id": "mKPLHMEBilrl"
      },
      "source": [
        "full_data = requests.get(\"https://ch.tetr.io/api/users/lists/league/all\")"
      ],
      "execution_count": 11,
      "outputs": []
    },
    {
      "cell_type": "markdown",
      "metadata": {
        "id": "pie3iEp-l-b9"
      },
      "source": [
        "Turn data from JSON file into a Pandas DataFrame. We only include the user data and disregard the rest."
      ]
    },
    {
      "cell_type": "code",
      "metadata": {
        "id": "Co8ONhIuj9km"
      },
      "source": [
        "full_dict = json.loads(full_data.text)\r\n",
        "\r\n",
        "all_players = []\r\n",
        "\r\n",
        "working_dict = full_dict['data']['users']\r\n",
        "\r\n",
        "for p in range(len(working_dict)): # For every player\r\n",
        "\r\n",
        "  player = {}\r\n",
        "\r\n",
        "  for a in working_dict[p]: # For every attribute of player\r\n",
        "\r\n",
        "    if a != \"league\":\r\n",
        "\r\n",
        "      player[a] = working_dict[p][a] # Add attributes that are not part of league\r\n",
        "\r\n",
        "  for a in working_dict[p][\"league\"]:\r\n",
        "\r\n",
        "    player[a] = working_dict[p][\"league\"][a]\r\n",
        "\r\n",
        "  all_players.append(player)\r\n",
        "\r\n",
        "df = pd.DataFrame(all_players, index=[i for i in range(len(all_players))])\r\n",
        "\r\n",
        "# Optionally save to csv\r\n",
        "# df.to_csv('TetrioAll.csv') \r\n"
      ],
      "execution_count": 12,
      "outputs": []
    },
    {
      "cell_type": "code",
      "metadata": {
        "colab": {
          "base_uri": "https://localhost:8080/",
          "height": 402
        },
        "id": "jiwQSX2H0TU-",
        "outputId": "b224ebc1-cdfa-4b03-95f8-415ed6b5050f"
      },
      "source": [
        "df"
      ],
      "execution_count": 13,
      "outputs": [
        {
          "output_type": "execute_result",
          "data": {
            "text/html": [
              "<div>\n",
              "<style scoped>\n",
              "    .dataframe tbody tr th:only-of-type {\n",
              "        vertical-align: middle;\n",
              "    }\n",
              "\n",
              "    .dataframe tbody tr th {\n",
              "        vertical-align: top;\n",
              "    }\n",
              "\n",
              "    .dataframe thead th {\n",
              "        text-align: right;\n",
              "    }\n",
              "</style>\n",
              "<table border=\"1\" class=\"dataframe\">\n",
              "  <thead>\n",
              "    <tr style=\"text-align: right;\">\n",
              "      <th></th>\n",
              "      <th>_id</th>\n",
              "      <th>username</th>\n",
              "      <th>role</th>\n",
              "      <th>verified</th>\n",
              "      <th>country</th>\n",
              "      <th>gamesplayed</th>\n",
              "      <th>gameswon</th>\n",
              "      <th>rating</th>\n",
              "      <th>glicko</th>\n",
              "      <th>rd</th>\n",
              "      <th>rank</th>\n",
              "      <th>apm</th>\n",
              "      <th>pps</th>\n",
              "      <th>vs</th>\n",
              "      <th>decaying</th>\n",
              "      <th>supporter</th>\n",
              "    </tr>\n",
              "  </thead>\n",
              "  <tbody>\n",
              "    <tr>\n",
              "      <th>0</th>\n",
              "      <td>5e697bbf77aba60f95fb38da</td>\n",
              "      <td>firestorm</td>\n",
              "      <td>user</td>\n",
              "      <td>True</td>\n",
              "      <td>US</td>\n",
              "      <td>420</td>\n",
              "      <td>379</td>\n",
              "      <td>2.498421e+04</td>\n",
              "      <td>3455.023332</td>\n",
              "      <td>99.691619</td>\n",
              "      <td>x</td>\n",
              "      <td>161.54</td>\n",
              "      <td>3.70</td>\n",
              "      <td>327.45</td>\n",
              "      <td>False</td>\n",
              "      <td>NaN</td>\n",
              "    </tr>\n",
              "    <tr>\n",
              "      <th>1</th>\n",
              "      <td>5e844b0868270e617d52c990</td>\n",
              "      <td>czsmall0402</td>\n",
              "      <td>user</td>\n",
              "      <td>False</td>\n",
              "      <td>None</td>\n",
              "      <td>243</td>\n",
              "      <td>220</td>\n",
              "      <td>2.497982e+04</td>\n",
              "      <td>3377.895770</td>\n",
              "      <td>83.678807</td>\n",
              "      <td>x</td>\n",
              "      <td>146.59</td>\n",
              "      <td>3.08</td>\n",
              "      <td>315.33</td>\n",
              "      <td>False</td>\n",
              "      <td>True</td>\n",
              "    </tr>\n",
              "    <tr>\n",
              "      <th>2</th>\n",
              "      <td>5f5dbcc4454e942b4fdfc5fa</td>\n",
              "      <td>vincehd_</td>\n",
              "      <td>user</td>\n",
              "      <td>True</td>\n",
              "      <td>PH</td>\n",
              "      <td>168</td>\n",
              "      <td>155</td>\n",
              "      <td>2.497936e+04</td>\n",
              "      <td>3361.819973</td>\n",
              "      <td>67.266272</td>\n",
              "      <td>x</td>\n",
              "      <td>147.86</td>\n",
              "      <td>3.41</td>\n",
              "      <td>321.52</td>\n",
              "      <td>False</td>\n",
              "      <td>True</td>\n",
              "    </tr>\n",
              "    <tr>\n",
              "      <th>3</th>\n",
              "      <td>5e7cd9b6552a596c95f3c0a0</td>\n",
              "      <td>jason0107</td>\n",
              "      <td>user</td>\n",
              "      <td>False</td>\n",
              "      <td>TW</td>\n",
              "      <td>209</td>\n",
              "      <td>179</td>\n",
              "      <td>2.496990e+04</td>\n",
              "      <td>3263.479440</td>\n",
              "      <td>68.653978</td>\n",
              "      <td>x</td>\n",
              "      <td>101.06</td>\n",
              "      <td>3.62</td>\n",
              "      <td>225.07</td>\n",
              "      <td>False</td>\n",
              "      <td>NaN</td>\n",
              "    </tr>\n",
              "    <tr>\n",
              "      <th>4</th>\n",
              "      <td>6005c355413441e94a56c91f</td>\n",
              "      <td>seunghun1004</td>\n",
              "      <td>user</td>\n",
              "      <td>False</td>\n",
              "      <td>KR</td>\n",
              "      <td>133</td>\n",
              "      <td>121</td>\n",
              "      <td>2.496965e+04</td>\n",
              "      <td>3262.660942</td>\n",
              "      <td>71.211274</td>\n",
              "      <td>x</td>\n",
              "      <td>119.61</td>\n",
              "      <td>3.25</td>\n",
              "      <td>274.29</td>\n",
              "      <td>False</td>\n",
              "      <td>NaN</td>\n",
              "    </tr>\n",
              "    <tr>\n",
              "      <th>...</th>\n",
              "      <td>...</td>\n",
              "      <td>...</td>\n",
              "      <td>...</td>\n",
              "      <td>...</td>\n",
              "      <td>...</td>\n",
              "      <td>...</td>\n",
              "      <td>...</td>\n",
              "      <td>...</td>\n",
              "      <td>...</td>\n",
              "      <td>...</td>\n",
              "      <td>...</td>\n",
              "      <td>...</td>\n",
              "      <td>...</td>\n",
              "      <td>...</td>\n",
              "      <td>...</td>\n",
              "      <td>...</td>\n",
              "    </tr>\n",
              "    <tr>\n",
              "      <th>15549</th>\n",
              "      <td>5fdbade9e3ea3a3755f37ebf</td>\n",
              "      <td>sis25</td>\n",
              "      <td>user</td>\n",
              "      <td>False</td>\n",
              "      <td>AR</td>\n",
              "      <td>291</td>\n",
              "      <td>72</td>\n",
              "      <td>2.173199e+02</td>\n",
              "      <td>257.507800</td>\n",
              "      <td>78.842107</td>\n",
              "      <td>d</td>\n",
              "      <td>6.57</td>\n",
              "      <td>0.87</td>\n",
              "      <td>11.89</td>\n",
              "      <td>True</td>\n",
              "      <td>NaN</td>\n",
              "    </tr>\n",
              "    <tr>\n",
              "      <th>15550</th>\n",
              "      <td>6013a88bf5c57ce9662953b5</td>\n",
              "      <td>ramsesin</td>\n",
              "      <td>user</td>\n",
              "      <td>False</td>\n",
              "      <td>MX</td>\n",
              "      <td>89</td>\n",
              "      <td>16</td>\n",
              "      <td>2.126569e+02</td>\n",
              "      <td>251.015453</td>\n",
              "      <td>70.827004</td>\n",
              "      <td>d</td>\n",
              "      <td>4.11</td>\n",
              "      <td>0.48</td>\n",
              "      <td>7.85</td>\n",
              "      <td>True</td>\n",
              "      <td>NaN</td>\n",
              "    </tr>\n",
              "    <tr>\n",
              "      <th>15551</th>\n",
              "      <td>6008b7a9092f1be95870b82b</td>\n",
              "      <td>astroortsa</td>\n",
              "      <td>user</td>\n",
              "      <td>False</td>\n",
              "      <td>US</td>\n",
              "      <td>69</td>\n",
              "      <td>5</td>\n",
              "      <td>1.978836e+02</td>\n",
              "      <td>232.816112</td>\n",
              "      <td>67.601285</td>\n",
              "      <td>d</td>\n",
              "      <td>2.21</td>\n",
              "      <td>0.58</td>\n",
              "      <td>4.35</td>\n",
              "      <td>False</td>\n",
              "      <td>NaN</td>\n",
              "    </tr>\n",
              "    <tr>\n",
              "      <th>15552</th>\n",
              "      <td>5e9d195ae6f1903fa6604b4f</td>\n",
              "      <td>slowandstupid</td>\n",
              "      <td>user</td>\n",
              "      <td>False</td>\n",
              "      <td>None</td>\n",
              "      <td>2975</td>\n",
              "      <td>10</td>\n",
              "      <td>3.632676e-49</td>\n",
              "      <td>-30547.857640</td>\n",
              "      <td>80.579890</td>\n",
              "      <td>d</td>\n",
              "      <td>0.00</td>\n",
              "      <td>0.01</td>\n",
              "      <td>NaN</td>\n",
              "      <td>False</td>\n",
              "      <td>NaN</td>\n",
              "    </tr>\n",
              "    <tr>\n",
              "      <th>15553</th>\n",
              "      <td>5e76fc8745f1592235060f55</td>\n",
              "      <td>737210</td>\n",
              "      <td>user</td>\n",
              "      <td>False</td>\n",
              "      <td>None</td>\n",
              "      <td>2949</td>\n",
              "      <td>8</td>\n",
              "      <td>3.547185e-49</td>\n",
              "      <td>-30553.860558</td>\n",
              "      <td>80.555999</td>\n",
              "      <td>d</td>\n",
              "      <td>1.65</td>\n",
              "      <td>0.02</td>\n",
              "      <td>NaN</td>\n",
              "      <td>False</td>\n",
              "      <td>NaN</td>\n",
              "    </tr>\n",
              "  </tbody>\n",
              "</table>\n",
              "<p>15554 rows × 16 columns</p>\n",
              "</div>"
            ],
            "text/plain": [
              "                            _id       username  ... decaying  supporter\n",
              "0      5e697bbf77aba60f95fb38da      firestorm  ...    False        NaN\n",
              "1      5e844b0868270e617d52c990    czsmall0402  ...    False       True\n",
              "2      5f5dbcc4454e942b4fdfc5fa       vincehd_  ...    False       True\n",
              "3      5e7cd9b6552a596c95f3c0a0      jason0107  ...    False        NaN\n",
              "4      6005c355413441e94a56c91f   seunghun1004  ...    False        NaN\n",
              "...                         ...            ...  ...      ...        ...\n",
              "15549  5fdbade9e3ea3a3755f37ebf          sis25  ...     True        NaN\n",
              "15550  6013a88bf5c57ce9662953b5       ramsesin  ...     True        NaN\n",
              "15551  6008b7a9092f1be95870b82b     astroortsa  ...    False        NaN\n",
              "15552  5e9d195ae6f1903fa6604b4f  slowandstupid  ...    False        NaN\n",
              "15553  5e76fc8745f1592235060f55         737210  ...    False        NaN\n",
              "\n",
              "[15554 rows x 16 columns]"
            ]
          },
          "metadata": {
            "tags": []
          },
          "execution_count": 13
        }
      ]
    },
    {
      "cell_type": "code",
      "metadata": {
        "colab": {
          "base_uri": "https://localhost:8080/"
        },
        "id": "pCtHbbB2TOtp",
        "outputId": "79c977ba-e5ae-4af3-ac3c-ca8c21051f81"
      },
      "source": [
        "df.info()"
      ],
      "execution_count": 14,
      "outputs": [
        {
          "output_type": "stream",
          "text": [
            "<class 'pandas.core.frame.DataFrame'>\n",
            "Int64Index: 15554 entries, 0 to 15553\n",
            "Data columns (total 16 columns):\n",
            " #   Column       Non-Null Count  Dtype  \n",
            "---  ------       --------------  -----  \n",
            " 0   _id          15554 non-null  object \n",
            " 1   username     15554 non-null  object \n",
            " 2   role         15554 non-null  object \n",
            " 3   verified     15554 non-null  bool   \n",
            " 4   country      15237 non-null  object \n",
            " 5   gamesplayed  15554 non-null  int64  \n",
            " 6   gameswon     15554 non-null  int64  \n",
            " 7   rating       15554 non-null  float64\n",
            " 8   glicko       15554 non-null  float64\n",
            " 9   rd           15554 non-null  float64\n",
            " 10  rank         15554 non-null  object \n",
            " 11  apm          15554 non-null  float64\n",
            " 12  pps          15554 non-null  float64\n",
            " 13  vs           15552 non-null  float64\n",
            " 14  decaying     15554 non-null  bool   \n",
            " 15  supporter    353 non-null    object \n",
            "dtypes: bool(2), float64(6), int64(2), object(6)\n",
            "memory usage: 1.8+ MB\n"
          ],
          "name": "stdout"
        }
      ]
    },
    {
      "cell_type": "markdown",
      "metadata": {
        "id": "lzC-vh7PnADm"
      },
      "source": [
        "I see there are 2 random rows in `vs` that have missing values so I drop them"
      ]
    },
    {
      "cell_type": "code",
      "metadata": {
        "id": "Mahd6Z6rUcMD"
      },
      "source": [
        "df.dropna(axis=0, subset=['vs'], inplace=True)"
      ],
      "execution_count": 15,
      "outputs": []
    },
    {
      "cell_type": "markdown",
      "metadata": {
        "id": "GzkFEj3LnTal"
      },
      "source": [
        "A `Z` in the rank column means unranked, so we also drop those rows as they don't provide value."
      ]
    },
    {
      "cell_type": "code",
      "metadata": {
        "colab": {
          "base_uri": "https://localhost:8080/"
        },
        "id": "aAPow0WCa0fD",
        "outputId": "fb027607-a65c-4177-d0bd-80696fdadd3c"
      },
      "source": [
        "df['rank'].value_counts()"
      ],
      "execution_count": 16,
      "outputs": [
        {
          "output_type": "execute_result",
          "data": {
            "text/plain": [
              "a-    1260\n",
              "b-    1259\n",
              "a+    1242\n",
              "b     1242\n",
              "a     1236\n",
              "b+    1226\n",
              "s-    1086\n",
              "c      950\n",
              "ss     925\n",
              "s+     923\n",
              "s      921\n",
              "c+     918\n",
              "c-     789\n",
              "u      612\n",
              "d+     403\n",
              "d      396\n",
              "x      162\n",
              "z        2\n",
              "Name: rank, dtype: int64"
            ]
          },
          "metadata": {
            "tags": []
          },
          "execution_count": 16
        }
      ]
    },
    {
      "cell_type": "code",
      "metadata": {
        "id": "jktUozQcWIeG"
      },
      "source": [
        "df = df[df['rank'] != 'z']"
      ],
      "execution_count": 17,
      "outputs": []
    },
    {
      "cell_type": "markdown",
      "metadata": {
        "id": "xcs2xwjrnyAo"
      },
      "source": [
        "First, I try to map each rank into a numerical value. (This isn't the best solution as later on it shows that there are too many categories to predict and too few data)"
      ]
    },
    {
      "cell_type": "code",
      "metadata": {
        "colab": {
          "base_uri": "https://localhost:8080/",
          "height": 502
        },
        "id": "jGEISEPKarbT",
        "outputId": "3024c677-1198-42ee-b135-d35d23e1964d"
      },
      "source": [
        "ranks = {'d': 1, 'd+': 2, 'c-': 3, 'c': 4, 'c+': 5, 'b-': 6, 'b': 7, 'b+': 8, 'a-': 9, 'a':10, 'a+': 11, 's-': 12, 's': 13, 's+': 14, 'ss': 15, 'u': 16, 'x': 17}\r\n",
        "df['rank_num'] = df['rank'].map(ranks)\r\n",
        "df"
      ],
      "execution_count": 18,
      "outputs": [
        {
          "output_type": "stream",
          "text": [
            "/usr/local/lib/python3.6/dist-packages/ipykernel_launcher.py:2: SettingWithCopyWarning: \n",
            "A value is trying to be set on a copy of a slice from a DataFrame.\n",
            "Try using .loc[row_indexer,col_indexer] = value instead\n",
            "\n",
            "See the caveats in the documentation: https://pandas.pydata.org/pandas-docs/stable/user_guide/indexing.html#returning-a-view-versus-a-copy\n",
            "  \n"
          ],
          "name": "stderr"
        },
        {
          "output_type": "execute_result",
          "data": {
            "text/html": [
              "<div>\n",
              "<style scoped>\n",
              "    .dataframe tbody tr th:only-of-type {\n",
              "        vertical-align: middle;\n",
              "    }\n",
              "\n",
              "    .dataframe tbody tr th {\n",
              "        vertical-align: top;\n",
              "    }\n",
              "\n",
              "    .dataframe thead th {\n",
              "        text-align: right;\n",
              "    }\n",
              "</style>\n",
              "<table border=\"1\" class=\"dataframe\">\n",
              "  <thead>\n",
              "    <tr style=\"text-align: right;\">\n",
              "      <th></th>\n",
              "      <th>_id</th>\n",
              "      <th>username</th>\n",
              "      <th>role</th>\n",
              "      <th>verified</th>\n",
              "      <th>country</th>\n",
              "      <th>gamesplayed</th>\n",
              "      <th>gameswon</th>\n",
              "      <th>rating</th>\n",
              "      <th>glicko</th>\n",
              "      <th>rd</th>\n",
              "      <th>rank</th>\n",
              "      <th>apm</th>\n",
              "      <th>pps</th>\n",
              "      <th>vs</th>\n",
              "      <th>decaying</th>\n",
              "      <th>supporter</th>\n",
              "      <th>rank_num</th>\n",
              "    </tr>\n",
              "  </thead>\n",
              "  <tbody>\n",
              "    <tr>\n",
              "      <th>0</th>\n",
              "      <td>5e697bbf77aba60f95fb38da</td>\n",
              "      <td>firestorm</td>\n",
              "      <td>user</td>\n",
              "      <td>True</td>\n",
              "      <td>US</td>\n",
              "      <td>420</td>\n",
              "      <td>379</td>\n",
              "      <td>24984.207686</td>\n",
              "      <td>3455.023332</td>\n",
              "      <td>99.691619</td>\n",
              "      <td>x</td>\n",
              "      <td>161.54</td>\n",
              "      <td>3.70</td>\n",
              "      <td>327.45</td>\n",
              "      <td>False</td>\n",
              "      <td>NaN</td>\n",
              "      <td>17</td>\n",
              "    </tr>\n",
              "    <tr>\n",
              "      <th>1</th>\n",
              "      <td>5e844b0868270e617d52c990</td>\n",
              "      <td>czsmall0402</td>\n",
              "      <td>user</td>\n",
              "      <td>False</td>\n",
              "      <td>None</td>\n",
              "      <td>243</td>\n",
              "      <td>220</td>\n",
              "      <td>24979.819835</td>\n",
              "      <td>3377.895770</td>\n",
              "      <td>83.678807</td>\n",
              "      <td>x</td>\n",
              "      <td>146.59</td>\n",
              "      <td>3.08</td>\n",
              "      <td>315.33</td>\n",
              "      <td>False</td>\n",
              "      <td>True</td>\n",
              "      <td>17</td>\n",
              "    </tr>\n",
              "    <tr>\n",
              "      <th>2</th>\n",
              "      <td>5f5dbcc4454e942b4fdfc5fa</td>\n",
              "      <td>vincehd_</td>\n",
              "      <td>user</td>\n",
              "      <td>True</td>\n",
              "      <td>PH</td>\n",
              "      <td>168</td>\n",
              "      <td>155</td>\n",
              "      <td>24979.362628</td>\n",
              "      <td>3361.819973</td>\n",
              "      <td>67.266272</td>\n",
              "      <td>x</td>\n",
              "      <td>147.86</td>\n",
              "      <td>3.41</td>\n",
              "      <td>321.52</td>\n",
              "      <td>False</td>\n",
              "      <td>True</td>\n",
              "      <td>17</td>\n",
              "    </tr>\n",
              "    <tr>\n",
              "      <th>3</th>\n",
              "      <td>5e7cd9b6552a596c95f3c0a0</td>\n",
              "      <td>jason0107</td>\n",
              "      <td>user</td>\n",
              "      <td>False</td>\n",
              "      <td>TW</td>\n",
              "      <td>209</td>\n",
              "      <td>179</td>\n",
              "      <td>24969.901499</td>\n",
              "      <td>3263.479440</td>\n",
              "      <td>68.653978</td>\n",
              "      <td>x</td>\n",
              "      <td>101.06</td>\n",
              "      <td>3.62</td>\n",
              "      <td>225.07</td>\n",
              "      <td>False</td>\n",
              "      <td>NaN</td>\n",
              "      <td>17</td>\n",
              "    </tr>\n",
              "    <tr>\n",
              "      <th>4</th>\n",
              "      <td>6005c355413441e94a56c91f</td>\n",
              "      <td>seunghun1004</td>\n",
              "      <td>user</td>\n",
              "      <td>False</td>\n",
              "      <td>KR</td>\n",
              "      <td>133</td>\n",
              "      <td>121</td>\n",
              "      <td>24969.647383</td>\n",
              "      <td>3262.660942</td>\n",
              "      <td>71.211274</td>\n",
              "      <td>x</td>\n",
              "      <td>119.61</td>\n",
              "      <td>3.25</td>\n",
              "      <td>274.29</td>\n",
              "      <td>False</td>\n",
              "      <td>NaN</td>\n",
              "      <td>17</td>\n",
              "    </tr>\n",
              "    <tr>\n",
              "      <th>...</th>\n",
              "      <td>...</td>\n",
              "      <td>...</td>\n",
              "      <td>...</td>\n",
              "      <td>...</td>\n",
              "      <td>...</td>\n",
              "      <td>...</td>\n",
              "      <td>...</td>\n",
              "      <td>...</td>\n",
              "      <td>...</td>\n",
              "      <td>...</td>\n",
              "      <td>...</td>\n",
              "      <td>...</td>\n",
              "      <td>...</td>\n",
              "      <td>...</td>\n",
              "      <td>...</td>\n",
              "      <td>...</td>\n",
              "      <td>...</td>\n",
              "    </tr>\n",
              "    <tr>\n",
              "      <th>15547</th>\n",
              "      <td>5fc40de613e8c021da3a03fe</td>\n",
              "      <td>blindsixx</td>\n",
              "      <td>user</td>\n",
              "      <td>False</td>\n",
              "      <td>DO</td>\n",
              "      <td>101</td>\n",
              "      <td>13</td>\n",
              "      <td>234.876448</td>\n",
              "      <td>278.324268</td>\n",
              "      <td>75.153043</td>\n",
              "      <td>d</td>\n",
              "      <td>3.31</td>\n",
              "      <td>0.16</td>\n",
              "      <td>7.32</td>\n",
              "      <td>True</td>\n",
              "      <td>NaN</td>\n",
              "      <td>1</td>\n",
              "    </tr>\n",
              "    <tr>\n",
              "      <th>15548</th>\n",
              "      <td>5fe95de14529400ba470617e</td>\n",
              "      <td>shootinstar</td>\n",
              "      <td>user</td>\n",
              "      <td>False</td>\n",
              "      <td>US</td>\n",
              "      <td>49</td>\n",
              "      <td>4</td>\n",
              "      <td>232.492803</td>\n",
              "      <td>271.673481</td>\n",
              "      <td>93.279333</td>\n",
              "      <td>d</td>\n",
              "      <td>2.65</td>\n",
              "      <td>0.51</td>\n",
              "      <td>6.33</td>\n",
              "      <td>True</td>\n",
              "      <td>NaN</td>\n",
              "      <td>1</td>\n",
              "    </tr>\n",
              "    <tr>\n",
              "      <th>15549</th>\n",
              "      <td>5fdbade9e3ea3a3755f37ebf</td>\n",
              "      <td>sis25</td>\n",
              "      <td>user</td>\n",
              "      <td>False</td>\n",
              "      <td>AR</td>\n",
              "      <td>291</td>\n",
              "      <td>72</td>\n",
              "      <td>217.319911</td>\n",
              "      <td>257.507800</td>\n",
              "      <td>78.842107</td>\n",
              "      <td>d</td>\n",
              "      <td>6.57</td>\n",
              "      <td>0.87</td>\n",
              "      <td>11.89</td>\n",
              "      <td>True</td>\n",
              "      <td>NaN</td>\n",
              "      <td>1</td>\n",
              "    </tr>\n",
              "    <tr>\n",
              "      <th>15550</th>\n",
              "      <td>6013a88bf5c57ce9662953b5</td>\n",
              "      <td>ramsesin</td>\n",
              "      <td>user</td>\n",
              "      <td>False</td>\n",
              "      <td>MX</td>\n",
              "      <td>89</td>\n",
              "      <td>16</td>\n",
              "      <td>212.656891</td>\n",
              "      <td>251.015453</td>\n",
              "      <td>70.827004</td>\n",
              "      <td>d</td>\n",
              "      <td>4.11</td>\n",
              "      <td>0.48</td>\n",
              "      <td>7.85</td>\n",
              "      <td>True</td>\n",
              "      <td>NaN</td>\n",
              "      <td>1</td>\n",
              "    </tr>\n",
              "    <tr>\n",
              "      <th>15551</th>\n",
              "      <td>6008b7a9092f1be95870b82b</td>\n",
              "      <td>astroortsa</td>\n",
              "      <td>user</td>\n",
              "      <td>False</td>\n",
              "      <td>US</td>\n",
              "      <td>69</td>\n",
              "      <td>5</td>\n",
              "      <td>197.883555</td>\n",
              "      <td>232.816112</td>\n",
              "      <td>67.601285</td>\n",
              "      <td>d</td>\n",
              "      <td>2.21</td>\n",
              "      <td>0.58</td>\n",
              "      <td>4.35</td>\n",
              "      <td>False</td>\n",
              "      <td>NaN</td>\n",
              "      <td>1</td>\n",
              "    </tr>\n",
              "  </tbody>\n",
              "</table>\n",
              "<p>15550 rows × 17 columns</p>\n",
              "</div>"
            ],
            "text/plain": [
              "                            _id      username  ... supporter  rank_num\n",
              "0      5e697bbf77aba60f95fb38da     firestorm  ...       NaN        17\n",
              "1      5e844b0868270e617d52c990   czsmall0402  ...      True        17\n",
              "2      5f5dbcc4454e942b4fdfc5fa      vincehd_  ...      True        17\n",
              "3      5e7cd9b6552a596c95f3c0a0     jason0107  ...       NaN        17\n",
              "4      6005c355413441e94a56c91f  seunghun1004  ...       NaN        17\n",
              "...                         ...           ...  ...       ...       ...\n",
              "15547  5fc40de613e8c021da3a03fe     blindsixx  ...       NaN         1\n",
              "15548  5fe95de14529400ba470617e   shootinstar  ...       NaN         1\n",
              "15549  5fdbade9e3ea3a3755f37ebf         sis25  ...       NaN         1\n",
              "15550  6013a88bf5c57ce9662953b5      ramsesin  ...       NaN         1\n",
              "15551  6008b7a9092f1be95870b82b    astroortsa  ...       NaN         1\n",
              "\n",
              "[15550 rows x 17 columns]"
            ]
          },
          "metadata": {
            "tags": []
          },
          "execution_count": 18
        }
      ]
    },
    {
      "cell_type": "markdown",
      "metadata": {
        "id": "PFwZp6FCoFLA"
      },
      "source": [
        "The data is currently organized in descending order by rank. As this will cause problems when I later go to split the data into training and test sets, I shuffle the data around."
      ]
    },
    {
      "cell_type": "code",
      "metadata": {
        "colab": {
          "base_uri": "https://localhost:8080/",
          "height": 402
        },
        "id": "WzzME_OLRBwG",
        "outputId": "26bb9e38-330a-4769-e9ff-6ae5d41d4c56"
      },
      "source": [
        "from sklearn.utils import shuffle\r\n",
        "df_shuffled = shuffle(df, random_state=1)\r\n",
        "df_shuffled = df_shuffled.reset_index(drop=True)\r\n",
        "df_shuffled"
      ],
      "execution_count": 19,
      "outputs": [
        {
          "output_type": "execute_result",
          "data": {
            "text/html": [
              "<div>\n",
              "<style scoped>\n",
              "    .dataframe tbody tr th:only-of-type {\n",
              "        vertical-align: middle;\n",
              "    }\n",
              "\n",
              "    .dataframe tbody tr th {\n",
              "        vertical-align: top;\n",
              "    }\n",
              "\n",
              "    .dataframe thead th {\n",
              "        text-align: right;\n",
              "    }\n",
              "</style>\n",
              "<table border=\"1\" class=\"dataframe\">\n",
              "  <thead>\n",
              "    <tr style=\"text-align: right;\">\n",
              "      <th></th>\n",
              "      <th>_id</th>\n",
              "      <th>username</th>\n",
              "      <th>role</th>\n",
              "      <th>verified</th>\n",
              "      <th>country</th>\n",
              "      <th>gamesplayed</th>\n",
              "      <th>gameswon</th>\n",
              "      <th>rating</th>\n",
              "      <th>glicko</th>\n",
              "      <th>rd</th>\n",
              "      <th>rank</th>\n",
              "      <th>apm</th>\n",
              "      <th>pps</th>\n",
              "      <th>vs</th>\n",
              "      <th>decaying</th>\n",
              "      <th>supporter</th>\n",
              "      <th>rank_num</th>\n",
              "    </tr>\n",
              "  </thead>\n",
              "  <tbody>\n",
              "    <tr>\n",
              "      <th>0</th>\n",
              "      <td>5ee2e9400ed60a59ce445005</td>\n",
              "      <td>foxtrotbravo</td>\n",
              "      <td>user</td>\n",
              "      <td>False</td>\n",
              "      <td>AU</td>\n",
              "      <td>278</td>\n",
              "      <td>148</td>\n",
              "      <td>7822.799453</td>\n",
              "      <td>1294.039806</td>\n",
              "      <td>74.644066</td>\n",
              "      <td>b</td>\n",
              "      <td>16.17</td>\n",
              "      <td>0.96</td>\n",
              "      <td>30.43</td>\n",
              "      <td>True</td>\n",
              "      <td>NaN</td>\n",
              "      <td>7</td>\n",
              "    </tr>\n",
              "    <tr>\n",
              "      <th>1</th>\n",
              "      <td>602a63cf5bb951f42e7146fc</td>\n",
              "      <td>mistyhook</td>\n",
              "      <td>user</td>\n",
              "      <td>False</td>\n",
              "      <td>ID</td>\n",
              "      <td>21</td>\n",
              "      <td>10</td>\n",
              "      <td>5471.910625</td>\n",
              "      <td>1164.212459</td>\n",
              "      <td>86.023400</td>\n",
              "      <td>b-</td>\n",
              "      <td>16.25</td>\n",
              "      <td>1.14</td>\n",
              "      <td>30.18</td>\n",
              "      <td>False</td>\n",
              "      <td>NaN</td>\n",
              "      <td>6</td>\n",
              "    </tr>\n",
              "    <tr>\n",
              "      <th>2</th>\n",
              "      <td>600112799ba9edf96ce687f7</td>\n",
              "      <td>sheening</td>\n",
              "      <td>user</td>\n",
              "      <td>False</td>\n",
              "      <td>SG</td>\n",
              "      <td>75</td>\n",
              "      <td>23</td>\n",
              "      <td>834.083974</td>\n",
              "      <td>618.085745</td>\n",
              "      <td>63.332430</td>\n",
              "      <td>d+</td>\n",
              "      <td>4.78</td>\n",
              "      <td>0.50</td>\n",
              "      <td>10.33</td>\n",
              "      <td>False</td>\n",
              "      <td>NaN</td>\n",
              "      <td>2</td>\n",
              "    </tr>\n",
              "    <tr>\n",
              "      <th>3</th>\n",
              "      <td>5ebc3fa626fbfd625b8178e8</td>\n",
              "      <td>margo</td>\n",
              "      <td>user</td>\n",
              "      <td>False</td>\n",
              "      <td>FR</td>\n",
              "      <td>27</td>\n",
              "      <td>15</td>\n",
              "      <td>4191.483025</td>\n",
              "      <td>1077.551627</td>\n",
              "      <td>83.077035</td>\n",
              "      <td>c+</td>\n",
              "      <td>11.00</td>\n",
              "      <td>0.83</td>\n",
              "      <td>21.48</td>\n",
              "      <td>True</td>\n",
              "      <td>NaN</td>\n",
              "      <td>5</td>\n",
              "    </tr>\n",
              "    <tr>\n",
              "      <th>4</th>\n",
              "      <td>5f692210ead0072b56cf809f</td>\n",
              "      <td>handmadeelf</td>\n",
              "      <td>user</td>\n",
              "      <td>False</td>\n",
              "      <td>US</td>\n",
              "      <td>46</td>\n",
              "      <td>25</td>\n",
              "      <td>13898.670890</td>\n",
              "      <td>1558.948008</td>\n",
              "      <td>67.671488</td>\n",
              "      <td>a</td>\n",
              "      <td>17.98</td>\n",
              "      <td>1.15</td>\n",
              "      <td>41.61</td>\n",
              "      <td>False</td>\n",
              "      <td>NaN</td>\n",
              "      <td>10</td>\n",
              "    </tr>\n",
              "    <tr>\n",
              "      <th>...</th>\n",
              "      <td>...</td>\n",
              "      <td>...</td>\n",
              "      <td>...</td>\n",
              "      <td>...</td>\n",
              "      <td>...</td>\n",
              "      <td>...</td>\n",
              "      <td>...</td>\n",
              "      <td>...</td>\n",
              "      <td>...</td>\n",
              "      <td>...</td>\n",
              "      <td>...</td>\n",
              "      <td>...</td>\n",
              "      <td>...</td>\n",
              "      <td>...</td>\n",
              "      <td>...</td>\n",
              "      <td>...</td>\n",
              "      <td>...</td>\n",
              "    </tr>\n",
              "    <tr>\n",
              "      <th>15545</th>\n",
              "      <td>5f183325b21374446a61d0e7</td>\n",
              "      <td>snakeman1</td>\n",
              "      <td>user</td>\n",
              "      <td>False</td>\n",
              "      <td>SE</td>\n",
              "      <td>579</td>\n",
              "      <td>302</td>\n",
              "      <td>22737.456726</td>\n",
              "      <td>2104.147175</td>\n",
              "      <td>61.087927</td>\n",
              "      <td>ss</td>\n",
              "      <td>38.33</td>\n",
              "      <td>1.49</td>\n",
              "      <td>95.49</td>\n",
              "      <td>False</td>\n",
              "      <td>NaN</td>\n",
              "      <td>15</td>\n",
              "    </tr>\n",
              "    <tr>\n",
              "      <th>15546</th>\n",
              "      <td>5fdae0fe13e8c021da3dccb9</td>\n",
              "      <td>drifting</td>\n",
              "      <td>user</td>\n",
              "      <td>False</td>\n",
              "      <td>AU</td>\n",
              "      <td>316</td>\n",
              "      <td>156</td>\n",
              "      <td>15270.018557</td>\n",
              "      <td>1618.018270</td>\n",
              "      <td>61.807109</td>\n",
              "      <td>a+</td>\n",
              "      <td>25.70</td>\n",
              "      <td>1.18</td>\n",
              "      <td>56.42</td>\n",
              "      <td>False</td>\n",
              "      <td>NaN</td>\n",
              "      <td>11</td>\n",
              "    </tr>\n",
              "    <tr>\n",
              "      <th>15547</th>\n",
              "      <td>5fb323a90d1b7a21c536968d</td>\n",
              "      <td>buenamozacosa</td>\n",
              "      <td>user</td>\n",
              "      <td>False</td>\n",
              "      <td>CL</td>\n",
              "      <td>99</td>\n",
              "      <td>47</td>\n",
              "      <td>4199.946801</td>\n",
              "      <td>1080.793994</td>\n",
              "      <td>63.935905</td>\n",
              "      <td>c+</td>\n",
              "      <td>10.47</td>\n",
              "      <td>0.89</td>\n",
              "      <td>24.52</td>\n",
              "      <td>False</td>\n",
              "      <td>NaN</td>\n",
              "      <td>5</td>\n",
              "    </tr>\n",
              "    <tr>\n",
              "      <th>15548</th>\n",
              "      <td>5f2101a06c85e811417b1bfd</td>\n",
              "      <td>ballcer</td>\n",
              "      <td>user</td>\n",
              "      <td>False</td>\n",
              "      <td>NZ</td>\n",
              "      <td>343</td>\n",
              "      <td>210</td>\n",
              "      <td>24237.777102</td>\n",
              "      <td>2405.982686</td>\n",
              "      <td>62.091603</td>\n",
              "      <td>u</td>\n",
              "      <td>73.59</td>\n",
              "      <td>2.29</td>\n",
              "      <td>164.83</td>\n",
              "      <td>False</td>\n",
              "      <td>NaN</td>\n",
              "      <td>16</td>\n",
              "    </tr>\n",
              "    <tr>\n",
              "      <th>15549</th>\n",
              "      <td>60111c7c029639e93c98b52a</td>\n",
              "      <td>selenaaaaar</td>\n",
              "      <td>user</td>\n",
              "      <td>False</td>\n",
              "      <td>US</td>\n",
              "      <td>66</td>\n",
              "      <td>30</td>\n",
              "      <td>2640.678425</td>\n",
              "      <td>940.396616</td>\n",
              "      <td>63.099463</td>\n",
              "      <td>c</td>\n",
              "      <td>6.63</td>\n",
              "      <td>0.75</td>\n",
              "      <td>15.27</td>\n",
              "      <td>False</td>\n",
              "      <td>NaN</td>\n",
              "      <td>4</td>\n",
              "    </tr>\n",
              "  </tbody>\n",
              "</table>\n",
              "<p>15550 rows × 17 columns</p>\n",
              "</div>"
            ],
            "text/plain": [
              "                            _id       username  ... supporter  rank_num\n",
              "0      5ee2e9400ed60a59ce445005   foxtrotbravo  ...       NaN         7\n",
              "1      602a63cf5bb951f42e7146fc      mistyhook  ...       NaN         6\n",
              "2      600112799ba9edf96ce687f7       sheening  ...       NaN         2\n",
              "3      5ebc3fa626fbfd625b8178e8          margo  ...       NaN         5\n",
              "4      5f692210ead0072b56cf809f    handmadeelf  ...       NaN        10\n",
              "...                         ...            ...  ...       ...       ...\n",
              "15545  5f183325b21374446a61d0e7      snakeman1  ...       NaN        15\n",
              "15546  5fdae0fe13e8c021da3dccb9       drifting  ...       NaN        11\n",
              "15547  5fb323a90d1b7a21c536968d  buenamozacosa  ...       NaN         5\n",
              "15548  5f2101a06c85e811417b1bfd        ballcer  ...       NaN        16\n",
              "15549  60111c7c029639e93c98b52a    selenaaaaar  ...       NaN         4\n",
              "\n",
              "[15550 rows x 17 columns]"
            ]
          },
          "metadata": {
            "tags": []
          },
          "execution_count": 19
        }
      ]
    },
    {
      "cell_type": "markdown",
      "metadata": {
        "id": "NreNQwUroW_W"
      },
      "source": [
        "Here I get the data that can possibly be used in training a model"
      ]
    },
    {
      "cell_type": "code",
      "metadata": {
        "colab": {
          "base_uri": "https://localhost:8080/",
          "height": 402
        },
        "id": "e4QqIOamxG3D",
        "outputId": "47abca0c-b143-43ef-e52b-10d89f0057b4"
      },
      "source": [
        "main_df = df_shuffled.loc[:,\"gamesplayed\":\"vs\"]\r\n",
        "main_df[\"rank_num\"] = df_shuffled[\"rank_num\"]\r\n",
        "main_df"
      ],
      "execution_count": 20,
      "outputs": [
        {
          "output_type": "execute_result",
          "data": {
            "text/html": [
              "<div>\n",
              "<style scoped>\n",
              "    .dataframe tbody tr th:only-of-type {\n",
              "        vertical-align: middle;\n",
              "    }\n",
              "\n",
              "    .dataframe tbody tr th {\n",
              "        vertical-align: top;\n",
              "    }\n",
              "\n",
              "    .dataframe thead th {\n",
              "        text-align: right;\n",
              "    }\n",
              "</style>\n",
              "<table border=\"1\" class=\"dataframe\">\n",
              "  <thead>\n",
              "    <tr style=\"text-align: right;\">\n",
              "      <th></th>\n",
              "      <th>gamesplayed</th>\n",
              "      <th>gameswon</th>\n",
              "      <th>rating</th>\n",
              "      <th>glicko</th>\n",
              "      <th>rd</th>\n",
              "      <th>rank</th>\n",
              "      <th>apm</th>\n",
              "      <th>pps</th>\n",
              "      <th>vs</th>\n",
              "      <th>rank_num</th>\n",
              "    </tr>\n",
              "  </thead>\n",
              "  <tbody>\n",
              "    <tr>\n",
              "      <th>0</th>\n",
              "      <td>278</td>\n",
              "      <td>148</td>\n",
              "      <td>7822.799453</td>\n",
              "      <td>1294.039806</td>\n",
              "      <td>74.644066</td>\n",
              "      <td>b</td>\n",
              "      <td>16.17</td>\n",
              "      <td>0.96</td>\n",
              "      <td>30.43</td>\n",
              "      <td>7</td>\n",
              "    </tr>\n",
              "    <tr>\n",
              "      <th>1</th>\n",
              "      <td>21</td>\n",
              "      <td>10</td>\n",
              "      <td>5471.910625</td>\n",
              "      <td>1164.212459</td>\n",
              "      <td>86.023400</td>\n",
              "      <td>b-</td>\n",
              "      <td>16.25</td>\n",
              "      <td>1.14</td>\n",
              "      <td>30.18</td>\n",
              "      <td>6</td>\n",
              "    </tr>\n",
              "    <tr>\n",
              "      <th>2</th>\n",
              "      <td>75</td>\n",
              "      <td>23</td>\n",
              "      <td>834.083974</td>\n",
              "      <td>618.085745</td>\n",
              "      <td>63.332430</td>\n",
              "      <td>d+</td>\n",
              "      <td>4.78</td>\n",
              "      <td>0.50</td>\n",
              "      <td>10.33</td>\n",
              "      <td>2</td>\n",
              "    </tr>\n",
              "    <tr>\n",
              "      <th>3</th>\n",
              "      <td>27</td>\n",
              "      <td>15</td>\n",
              "      <td>4191.483025</td>\n",
              "      <td>1077.551627</td>\n",
              "      <td>83.077035</td>\n",
              "      <td>c+</td>\n",
              "      <td>11.00</td>\n",
              "      <td>0.83</td>\n",
              "      <td>21.48</td>\n",
              "      <td>5</td>\n",
              "    </tr>\n",
              "    <tr>\n",
              "      <th>4</th>\n",
              "      <td>46</td>\n",
              "      <td>25</td>\n",
              "      <td>13898.670890</td>\n",
              "      <td>1558.948008</td>\n",
              "      <td>67.671488</td>\n",
              "      <td>a</td>\n",
              "      <td>17.98</td>\n",
              "      <td>1.15</td>\n",
              "      <td>41.61</td>\n",
              "      <td>10</td>\n",
              "    </tr>\n",
              "    <tr>\n",
              "      <th>...</th>\n",
              "      <td>...</td>\n",
              "      <td>...</td>\n",
              "      <td>...</td>\n",
              "      <td>...</td>\n",
              "      <td>...</td>\n",
              "      <td>...</td>\n",
              "      <td>...</td>\n",
              "      <td>...</td>\n",
              "      <td>...</td>\n",
              "      <td>...</td>\n",
              "    </tr>\n",
              "    <tr>\n",
              "      <th>15545</th>\n",
              "      <td>579</td>\n",
              "      <td>302</td>\n",
              "      <td>22737.456726</td>\n",
              "      <td>2104.147175</td>\n",
              "      <td>61.087927</td>\n",
              "      <td>ss</td>\n",
              "      <td>38.33</td>\n",
              "      <td>1.49</td>\n",
              "      <td>95.49</td>\n",
              "      <td>15</td>\n",
              "    </tr>\n",
              "    <tr>\n",
              "      <th>15546</th>\n",
              "      <td>316</td>\n",
              "      <td>156</td>\n",
              "      <td>15270.018557</td>\n",
              "      <td>1618.018270</td>\n",
              "      <td>61.807109</td>\n",
              "      <td>a+</td>\n",
              "      <td>25.70</td>\n",
              "      <td>1.18</td>\n",
              "      <td>56.42</td>\n",
              "      <td>11</td>\n",
              "    </tr>\n",
              "    <tr>\n",
              "      <th>15547</th>\n",
              "      <td>99</td>\n",
              "      <td>47</td>\n",
              "      <td>4199.946801</td>\n",
              "      <td>1080.793994</td>\n",
              "      <td>63.935905</td>\n",
              "      <td>c+</td>\n",
              "      <td>10.47</td>\n",
              "      <td>0.89</td>\n",
              "      <td>24.52</td>\n",
              "      <td>5</td>\n",
              "    </tr>\n",
              "    <tr>\n",
              "      <th>15548</th>\n",
              "      <td>343</td>\n",
              "      <td>210</td>\n",
              "      <td>24237.777102</td>\n",
              "      <td>2405.982686</td>\n",
              "      <td>62.091603</td>\n",
              "      <td>u</td>\n",
              "      <td>73.59</td>\n",
              "      <td>2.29</td>\n",
              "      <td>164.83</td>\n",
              "      <td>16</td>\n",
              "    </tr>\n",
              "    <tr>\n",
              "      <th>15549</th>\n",
              "      <td>66</td>\n",
              "      <td>30</td>\n",
              "      <td>2640.678425</td>\n",
              "      <td>940.396616</td>\n",
              "      <td>63.099463</td>\n",
              "      <td>c</td>\n",
              "      <td>6.63</td>\n",
              "      <td>0.75</td>\n",
              "      <td>15.27</td>\n",
              "      <td>4</td>\n",
              "    </tr>\n",
              "  </tbody>\n",
              "</table>\n",
              "<p>15550 rows × 10 columns</p>\n",
              "</div>"
            ],
            "text/plain": [
              "       gamesplayed  gameswon        rating  ...   pps      vs rank_num\n",
              "0              278       148   7822.799453  ...  0.96   30.43        7\n",
              "1               21        10   5471.910625  ...  1.14   30.18        6\n",
              "2               75        23    834.083974  ...  0.50   10.33        2\n",
              "3               27        15   4191.483025  ...  0.83   21.48        5\n",
              "4               46        25  13898.670890  ...  1.15   41.61       10\n",
              "...            ...       ...           ...  ...   ...     ...      ...\n",
              "15545          579       302  22737.456726  ...  1.49   95.49       15\n",
              "15546          316       156  15270.018557  ...  1.18   56.42       11\n",
              "15547           99        47   4199.946801  ...  0.89   24.52        5\n",
              "15548          343       210  24237.777102  ...  2.29  164.83       16\n",
              "15549           66        30   2640.678425  ...  0.75   15.27        4\n",
              "\n",
              "[15550 rows x 10 columns]"
            ]
          },
          "metadata": {
            "tags": []
          },
          "execution_count": 20
        }
      ]
    },
    {
      "cell_type": "code",
      "metadata": {
        "colab": {
          "base_uri": "https://localhost:8080/",
          "height": 670
        },
        "id": "E-6xCkbDyGTr",
        "outputId": "2d3c3697-81fe-4921-df18-bac3ef3a4a4c"
      },
      "source": [
        "corr_mat = main_df.corr()\r\n",
        "fig, ax = plt.subplots(figsize=(10,10))\r\n",
        "sns.heatmap(corr_mat, annot=True)"
      ],
      "execution_count": 21,
      "outputs": [
        {
          "output_type": "execute_result",
          "data": {
            "text/plain": [
              "<matplotlib.axes._subplots.AxesSubplot at 0x7f4b22bb3080>"
            ]
          },
          "metadata": {
            "tags": []
          },
          "execution_count": 21
        },
        {
          "output_type": "display_data",
          "data": {
            "image/png": "[encoded data removed]",
            "text/plain": [
              "<Figure size 720x720 with 2 Axes>"
            ]
          },
          "metadata": {
            "tags": [],
            "needs_background": "light"
          }
        }
      ]
    },
    {
      "cell_type": "markdown",
      "metadata": {
        "id": "QVWTyumZ2LXj"
      },
      "source": [
        "We can't use rating, glicko, rd, since they directly determine rank.\r\n",
        "\r\n",
        "---\r\n",
        "\r\n"
      ]
    },
    {
      "cell_type": "code",
      "metadata": {
        "colab": {
          "base_uri": "https://localhost:8080/",
          "height": 638
        },
        "id": "GJ3y9lhC3xmF",
        "outputId": "d7b63128-4d9b-4e62-cc57-4531d3fc3a89"
      },
      "source": [
        "fig, ax = plt.subplots(figsize=(10,10))\r\n",
        "ax.scatter(main_df.rank_num, main_df.apm)\r\n",
        "ax.set_xlabel(\"Numerical Rank\")\r\n",
        "ax.set_ylabel(\"Attack Per Minute\")\r\n",
        "ax.set_title(\"Rank vs APM\")"
      ],
      "execution_count": 22,
      "outputs": [
        {
          "output_type": "execute_result",
          "data": {
            "text/plain": [
              "Text(0.5, 1.0, 'Rank vs APM')"
            ]
          },
          "metadata": {
            "tags": []
          },
          "execution_count": 22
        },
        {
          "output_type": "display_data",
          "data": {
            "image/png": "[encoded data removed]",
            "text/plain": [
              "<Figure size 720x720 with 1 Axes>"
            ]
          },
          "metadata": {
            "tags": [],
            "needs_background": "light"
          }
        }
      ]
    },
    {
      "cell_type": "code",
      "metadata": {
        "colab": {
          "base_uri": "https://localhost:8080/",
          "height": 638
        },
        "id": "sv1vbKhv544P",
        "outputId": "1fa87fcb-9dcb-4fe4-997e-4be3c37adb86"
      },
      "source": [
        "fig, ax = plt.subplots(figsize=(10,10))\r\n",
        "ax.scatter(main_df.rank_num, main_df.pps)\r\n",
        "ax.set_xlabel(\"Numerical Rank\")\r\n",
        "ax.set_ylabel(\"Pieces Per Second\")\r\n",
        "ax.set_title(\"Rank vs PPS\")"
      ],
      "execution_count": 23,
      "outputs": [
        {
          "output_type": "execute_result",
          "data": {
            "text/plain": [
              "Text(0.5, 1.0, 'Rank vs PPS')"
            ]
          },
          "metadata": {
            "tags": []
          },
          "execution_count": 23
        },
        {
          "output_type": "display_data",
          "data": {
            "image/png": "[encoded data removed]",
            "text/plain": [
              "<Figure size 720x720 with 1 Axes>"
            ]
          },
          "metadata": {
            "tags": [],
            "needs_background": "light"
          }
        }
      ]
    },
    {
      "cell_type": "markdown",
      "metadata": {
        "id": "QDGIPXxK9Bgj"
      },
      "source": [
        "We can see servere outliers in the above 5 pps yet d-tier range"
      ]
    },
    {
      "cell_type": "code",
      "metadata": {
        "colab": {
          "base_uri": "https://localhost:8080/",
          "height": 136
        },
        "id": "-IQVJZEN6GTP",
        "outputId": "26978450-ad56-410d-e021-931f52f3e207"
      },
      "source": [
        "main_df[main_df.pps > 5]"
      ],
      "execution_count": 24,
      "outputs": [
        {
          "output_type": "execute_result",
          "data": {
            "text/html": [
              "<div>\n",
              "<style scoped>\n",
              "    .dataframe tbody tr th:only-of-type {\n",
              "        vertical-align: middle;\n",
              "    }\n",
              "\n",
              "    .dataframe tbody tr th {\n",
              "        vertical-align: top;\n",
              "    }\n",
              "\n",
              "    .dataframe thead th {\n",
              "        text-align: right;\n",
              "    }\n",
              "</style>\n",
              "<table border=\"1\" class=\"dataframe\">\n",
              "  <thead>\n",
              "    <tr style=\"text-align: right;\">\n",
              "      <th></th>\n",
              "      <th>gamesplayed</th>\n",
              "      <th>gameswon</th>\n",
              "      <th>rating</th>\n",
              "      <th>glicko</th>\n",
              "      <th>rd</th>\n",
              "      <th>rank</th>\n",
              "      <th>apm</th>\n",
              "      <th>pps</th>\n",
              "      <th>vs</th>\n",
              "      <th>rank_num</th>\n",
              "    </tr>\n",
              "  </thead>\n",
              "  <tbody>\n",
              "    <tr>\n",
              "      <th>1278</th>\n",
              "      <td>354</td>\n",
              "      <td>145</td>\n",
              "      <td>1609.108602</td>\n",
              "      <td>799.103388</td>\n",
              "      <td>61.623089</td>\n",
              "      <td>c-</td>\n",
              "      <td>29.12</td>\n",
              "      <td>6.18</td>\n",
              "      <td>54.16</td>\n",
              "      <td>3</td>\n",
              "    </tr>\n",
              "    <tr>\n",
              "      <th>2471</th>\n",
              "      <td>50</td>\n",
              "      <td>1</td>\n",
              "      <td>235.853265</td>\n",
              "      <td>279.105391</td>\n",
              "      <td>96.024586</td>\n",
              "      <td>d</td>\n",
              "      <td>5.70</td>\n",
              "      <td>7.73</td>\n",
              "      <td>10.38</td>\n",
              "      <td>1</td>\n",
              "    </tr>\n",
              "    <tr>\n",
              "      <th>8482</th>\n",
              "      <td>32</td>\n",
              "      <td>5</td>\n",
              "      <td>516.937059</td>\n",
              "      <td>486.212143</td>\n",
              "      <td>73.546169</td>\n",
              "      <td>d</td>\n",
              "      <td>23.88</td>\n",
              "      <td>5.60</td>\n",
              "      <td>40.42</td>\n",
              "      <td>1</td>\n",
              "    </tr>\n",
              "  </tbody>\n",
              "</table>\n",
              "</div>"
            ],
            "text/plain": [
              "      gamesplayed  gameswon       rating  ...   pps     vs rank_num\n",
              "1278          354       145  1609.108602  ...  6.18  54.16        3\n",
              "2471           50         1   235.853265  ...  7.73  10.38        1\n",
              "8482           32         5   516.937059  ...  5.60  40.42        1\n",
              "\n",
              "[3 rows x 10 columns]"
            ]
          },
          "metadata": {
            "tags": []
          },
          "execution_count": 24
        }
      ]
    },
    {
      "cell_type": "code",
      "metadata": {
        "colab": {
          "base_uri": "https://localhost:8080/",
          "height": 638
        },
        "id": "z1ZdsOHz9Jph",
        "outputId": "f278305a-11b3-4c46-cf92-5290197b69a4"
      },
      "source": [
        "fig, ax = plt.subplots(figsize=(10,10))\r\n",
        "ax.scatter(main_df.rank_num, main_df.vs)\r\n",
        "ax.set_xlabel(\"Numerical Rank\")\r\n",
        "ax.set_ylabel(\"VS Score\")\r\n",
        "ax.set_title(\"Rank vs VS\")"
      ],
      "execution_count": 25,
      "outputs": [
        {
          "output_type": "execute_result",
          "data": {
            "text/plain": [
              "Text(0.5, 1.0, 'Rank vs VS')"
            ]
          },
          "metadata": {
            "tags": []
          },
          "execution_count": 25
        },
        {
          "output_type": "display_data",
          "data": {
            "image/png": "[encoded data removed]",
            "text/plain": [
              "<Figure size 720x720 with 1 Axes>"
            ]
          },
          "metadata": {
            "tags": [],
            "needs_background": "light"
          }
        }
      ]
    },
    {
      "cell_type": "markdown",
      "metadata": {
        "id": "okMS0PUwHYFB"
      },
      "source": [
        "Remove the pps outliers"
      ]
    },
    {
      "cell_type": "code",
      "metadata": {
        "id": "jq8hZkKYHaUi"
      },
      "source": [
        "main_df = main_df[main_df.pps < 5]"
      ],
      "execution_count": 26,
      "outputs": []
    },
    {
      "cell_type": "code",
      "metadata": {
        "colab": {
          "base_uri": "https://localhost:8080/",
          "height": 638
        },
        "id": "oKHcSy-DHlTw",
        "outputId": "a473f395-25b9-4195-915d-25523e02f821"
      },
      "source": [
        "fig, ax = plt.subplots(figsize=(10,10))\r\n",
        "ax.scatter(main_df.rank_num, main_df.pps)\r\n",
        "ax.set_xlabel(\"Numerical Rank\")\r\n",
        "ax.set_ylabel(\"Pieces Per Second\")\r\n",
        "ax.set_title(\"Rank vs PPS\")"
      ],
      "execution_count": 27,
      "outputs": [
        {
          "output_type": "execute_result",
          "data": {
            "text/plain": [
              "Text(0.5, 1.0, 'Rank vs PPS')"
            ]
          },
          "metadata": {
            "tags": []
          },
          "execution_count": 27
        },
        {
          "output_type": "display_data",
          "data": {
            "image/png": "[encoded data removed]",
            "text/plain": [
              "<Figure size 720x720 with 1 Axes>"
            ]
          },
          "metadata": {
            "tags": [],
            "needs_background": "light"
          }
        }
      ]
    },
    {
      "cell_type": "markdown",
      "metadata": {
        "id": "QgyXELZrovJW"
      },
      "source": [
        "Split the data into X & y for what I use to predict and what I want to predict."
      ]
    },
    {
      "cell_type": "code",
      "metadata": {
        "colab": {
          "base_uri": "https://localhost:8080/",
          "height": 402
        },
        "id": "VDO_q6U2Rnr2",
        "outputId": "a63905a9-df51-4529-97e1-9f1ca3234e75"
      },
      "source": [
        "df_x = main_df.loc[:,['apm', 'pps', 'vs']]\r\n",
        "df_x"
      ],
      "execution_count": 28,
      "outputs": [
        {
          "output_type": "execute_result",
          "data": {
            "text/html": [
              "<div>\n",
              "<style scoped>\n",
              "    .dataframe tbody tr th:only-of-type {\n",
              "        vertical-align: middle;\n",
              "    }\n",
              "\n",
              "    .dataframe tbody tr th {\n",
              "        vertical-align: top;\n",
              "    }\n",
              "\n",
              "    .dataframe thead th {\n",
              "        text-align: right;\n",
              "    }\n",
              "</style>\n",
              "<table border=\"1\" class=\"dataframe\">\n",
              "  <thead>\n",
              "    <tr style=\"text-align: right;\">\n",
              "      <th></th>\n",
              "      <th>apm</th>\n",
              "      <th>pps</th>\n",
              "      <th>vs</th>\n",
              "    </tr>\n",
              "  </thead>\n",
              "  <tbody>\n",
              "    <tr>\n",
              "      <th>0</th>\n",
              "      <td>16.17</td>\n",
              "      <td>0.96</td>\n",
              "      <td>30.43</td>\n",
              "    </tr>\n",
              "    <tr>\n",
              "      <th>1</th>\n",
              "      <td>16.25</td>\n",
              "      <td>1.14</td>\n",
              "      <td>30.18</td>\n",
              "    </tr>\n",
              "    <tr>\n",
              "      <th>2</th>\n",
              "      <td>4.78</td>\n",
              "      <td>0.50</td>\n",
              "      <td>10.33</td>\n",
              "    </tr>\n",
              "    <tr>\n",
              "      <th>3</th>\n",
              "      <td>11.00</td>\n",
              "      <td>0.83</td>\n",
              "      <td>21.48</td>\n",
              "    </tr>\n",
              "    <tr>\n",
              "      <th>4</th>\n",
              "      <td>17.98</td>\n",
              "      <td>1.15</td>\n",
              "      <td>41.61</td>\n",
              "    </tr>\n",
              "    <tr>\n",
              "      <th>...</th>\n",
              "      <td>...</td>\n",
              "      <td>...</td>\n",
              "      <td>...</td>\n",
              "    </tr>\n",
              "    <tr>\n",
              "      <th>15545</th>\n",
              "      <td>38.33</td>\n",
              "      <td>1.49</td>\n",
              "      <td>95.49</td>\n",
              "    </tr>\n",
              "    <tr>\n",
              "      <th>15546</th>\n",
              "      <td>25.70</td>\n",
              "      <td>1.18</td>\n",
              "      <td>56.42</td>\n",
              "    </tr>\n",
              "    <tr>\n",
              "      <th>15547</th>\n",
              "      <td>10.47</td>\n",
              "      <td>0.89</td>\n",
              "      <td>24.52</td>\n",
              "    </tr>\n",
              "    <tr>\n",
              "      <th>15548</th>\n",
              "      <td>73.59</td>\n",
              "      <td>2.29</td>\n",
              "      <td>164.83</td>\n",
              "    </tr>\n",
              "    <tr>\n",
              "      <th>15549</th>\n",
              "      <td>6.63</td>\n",
              "      <td>0.75</td>\n",
              "      <td>15.27</td>\n",
              "    </tr>\n",
              "  </tbody>\n",
              "</table>\n",
              "<p>15547 rows × 3 columns</p>\n",
              "</div>"
            ],
            "text/plain": [
              "         apm   pps      vs\n",
              "0      16.17  0.96   30.43\n",
              "1      16.25  1.14   30.18\n",
              "2       4.78  0.50   10.33\n",
              "3      11.00  0.83   21.48\n",
              "4      17.98  1.15   41.61\n",
              "...      ...   ...     ...\n",
              "15545  38.33  1.49   95.49\n",
              "15546  25.70  1.18   56.42\n",
              "15547  10.47  0.89   24.52\n",
              "15548  73.59  2.29  164.83\n",
              "15549   6.63  0.75   15.27\n",
              "\n",
              "[15547 rows x 3 columns]"
            ]
          },
          "metadata": {
            "tags": []
          },
          "execution_count": 28
        }
      ]
    },
    {
      "cell_type": "code",
      "metadata": {
        "colab": {
          "base_uri": "https://localhost:8080/"
        },
        "id": "_uTySBKGSYmc",
        "outputId": "3c52764e-5152-4daf-eb15-ff1652b5edbb"
      },
      "source": [
        "df_y = main_df['rank_num']\r\n",
        "df_y"
      ],
      "execution_count": 29,
      "outputs": [
        {
          "output_type": "execute_result",
          "data": {
            "text/plain": [
              "0         7\n",
              "1         6\n",
              "2         2\n",
              "3         5\n",
              "4        10\n",
              "         ..\n",
              "15545    15\n",
              "15546    11\n",
              "15547     5\n",
              "15548    16\n",
              "15549     4\n",
              "Name: rank_num, Length: 15547, dtype: int64"
            ]
          },
          "metadata": {
            "tags": []
          },
          "execution_count": 29
        }
      ]
    },
    {
      "cell_type": "markdown",
      "metadata": {
        "id": "2OSnlALUo7Aw"
      },
      "source": [
        "Split the data into train and test sets"
      ]
    },
    {
      "cell_type": "code",
      "metadata": {
        "id": "kpuYJU5tVY6k"
      },
      "source": [
        "from sklearn.model_selection import train_test_split\r\n",
        "X_train, X_test, y_train, y_test = train_test_split(df_x, df_y, train_size=0.7, random_state=1)"
      ],
      "execution_count": 30,
      "outputs": []
    },
    {
      "cell_type": "code",
      "metadata": {
        "colab": {
          "base_uri": "https://localhost:8080/"
        },
        "id": "ZVZvl1vrJH20",
        "outputId": "2a256c4e-2aa6-4c59-c6af-fade896be95e"
      },
      "source": [
        "X_train.shape, X_test.shape, y_train.shape, y_test.shape"
      ],
      "execution_count": 31,
      "outputs": [
        {
          "output_type": "execute_result",
          "data": {
            "text/plain": [
              "((10882, 3), (4665, 3), (10882,), (4665,))"
            ]
          },
          "metadata": {
            "tags": []
          },
          "execution_count": 31
        }
      ]
    },
    {
      "cell_type": "markdown",
      "metadata": {
        "id": "UXl6l0GwpIUW"
      },
      "source": [
        "Use the data to train 3 different classification models and see how they perform"
      ]
    },
    {
      "cell_type": "code",
      "metadata": {
        "id": "n6zduIKaM9p8"
      },
      "source": [
        "models = {\"Logistic Regression\": LogisticRegression(),\r\n",
        "          \"KNN\": KNeighborsClassifier(),\r\n",
        "          \"Random Forest\": RandomForestClassifier()}\r\n",
        "\r\n",
        "def fit_and_score(models, X_train, X_test, y_train, y_test):\r\n",
        "\r\n",
        "  np.random.seed(42)\r\n",
        "\r\n",
        "  model_scores = {}\r\n",
        "\r\n",
        "  for name, model in models.items():\r\n",
        "\r\n",
        "    model.fit(X_train, y_train)\r\n",
        "    model_scores[name] = model.score(X_test, y_test)\r\n",
        "\r\n",
        "  return model_scores"
      ],
      "execution_count": 32,
      "outputs": []
    },
    {
      "cell_type": "code",
      "metadata": {
        "colab": {
          "base_uri": "https://localhost:8080/"
        },
        "id": "kmvwpqCNNItN",
        "outputId": "09b0e6ac-845a-48ab-a7e8-32f4fb8bc9de"
      },
      "source": [
        "model_scores = fit_and_score(models=models, X_train=X_train, X_test=X_test, y_train=y_train, y_test=y_test)\r\n",
        "model_scores"
      ],
      "execution_count": 33,
      "outputs": [
        {
          "output_type": "stream",
          "text": [
            "/usr/local/lib/python3.6/dist-packages/sklearn/linear_model/_logistic.py:940: ConvergenceWarning: lbfgs failed to converge (status=1):\n",
            "STOP: TOTAL NO. of ITERATIONS REACHED LIMIT.\n",
            "\n",
            "Increase the number of iterations (max_iter) or scale the data as shown in:\n",
            "    https://scikit-learn.org/stable/modules/preprocessing.html\n",
            "Please also refer to the documentation for alternative solver options:\n",
            "    https://scikit-learn.org/stable/modules/linear_model.html#logistic-regression\n",
            "  extra_warning_msg=_LOGISTIC_SOLVER_CONVERGENCE_MSG)\n"
          ],
          "name": "stderr"
        },
        {
          "output_type": "execute_result",
          "data": {
            "text/plain": [
              "{'KNN': 0.4102893890675241,\n",
              " 'Logistic Regression': 0.21286173633440514,\n",
              " 'Random Forest': 0.4315112540192926}"
            ]
          },
          "metadata": {
            "tags": []
          },
          "execution_count": 33
        }
      ]
    },
    {
      "cell_type": "code",
      "metadata": {
        "colab": {
          "base_uri": "https://localhost:8080/",
          "height": 368
        },
        "id": "GU0oaBxlNVIc",
        "outputId": "d34eb3a5-404f-4ae0-d470-2d701385bd32"
      },
      "source": [
        "scores_df = pd.DataFrame(model_scores, index=[\"Accuracy\"])\r\n",
        "scores_df.T.plot.bar()"
      ],
      "execution_count": 34,
      "outputs": [
        {
          "output_type": "execute_result",
          "data": {
            "text/plain": [
              "<matplotlib.axes._subplots.AxesSubplot at 0x7f4b23058710>"
            ]
          },
          "metadata": {
            "tags": []
          },
          "execution_count": 34
        },
        {
          "output_type": "display_data",
          "data": {
            "image/png": "[encoded data removed]",
            "text/plain": [
              "<Figure size 432x288 with 1 Axes>"
            ]
          },
          "metadata": {
            "tags": [],
            "needs_background": "light"
          }
        }
      ]
    },
    {
      "cell_type": "markdown",
      "metadata": {
        "id": "NdbSNXZppQhK"
      },
      "source": [
        "As you can see, it's not doing too well as the highest accuracy is only 43%. I try to tune some hyperparameters to see if there is any change even though I don't expect much."
      ]
    },
    {
      "cell_type": "code",
      "metadata": {
        "colab": {
          "base_uri": "https://localhost:8080/"
        },
        "id": "vi5bjGT-NvII",
        "outputId": "b34c425d-9216-4342-b9f6-6a9f996c764e"
      },
      "source": [
        "rf_grid = {\"n_estimators\": np.arange(10,1000,50),\r\n",
        "           \"max_depth\": [None, 3, 5, 10],\r\n",
        "           \"min_samples_split\": np.arange(2,20,2),\r\n",
        "           \"min_samples_leaf\": np.arange(1,20,2)}\r\n",
        "\r\n",
        "# Tune RFC with RandomizedSearchCV\r\n",
        "\r\n",
        "np.random.seed(42)\r\n",
        "\r\n",
        "rs_rf = RandomizedSearchCV(RandomForestClassifier(), param_distributions=rf_grid, cv=5, n_iter=20, verbose=True)\r\n",
        "\r\n",
        "rs_rf.fit(X_train, y_train)\r\n"
      ],
      "execution_count": 35,
      "outputs": [
        {
          "output_type": "stream",
          "text": [
            "Fitting 5 folds for each of 20 candidates, totalling 100 fits\n"
          ],
          "name": "stdout"
        },
        {
          "output_type": "stream",
          "text": [
            "[Parallel(n_jobs=1)]: Using backend SequentialBackend with 1 concurrent workers.\n",
            "[Parallel(n_jobs=1)]: Done 100 out of 100 | elapsed:  6.1min finished\n"
          ],
          "name": "stderr"
        },
        {
          "output_type": "execute_result",
          "data": {
            "text/plain": [
              "RandomizedSearchCV(cv=5, error_score=nan,\n",
              "                   estimator=RandomForestClassifier(bootstrap=True,\n",
              "                                                    ccp_alpha=0.0,\n",
              "                                                    class_weight=None,\n",
              "                                                    criterion='gini',\n",
              "                                                    max_depth=None,\n",
              "                                                    max_features='auto',\n",
              "                                                    max_leaf_nodes=None,\n",
              "                                                    max_samples=None,\n",
              "                                                    min_impurity_decrease=0.0,\n",
              "                                                    min_impurity_split=None,\n",
              "                                                    min_samples_leaf=1,\n",
              "                                                    min_samples_split=2,\n",
              "                                                    min_weight_fraction_leaf=0.0,\n",
              "                                                    n_estimators=100,\n",
              "                                                    n_jobs...\n",
              "                   param_distributions={'max_depth': [None, 3, 5, 10],\n",
              "                                        'min_samples_leaf': array([ 1,  3,  5,  7,  9, 11, 13, 15, 17, 19]),\n",
              "                                        'min_samples_split': array([ 2,  4,  6,  8, 10, 12, 14, 16, 18]),\n",
              "                                        'n_estimators': array([ 10,  60, 110, 160, 210, 260, 310, 360, 410, 460, 510, 560, 610,\n",
              "       660, 710, 760, 810, 860, 910, 960])},\n",
              "                   pre_dispatch='2*n_jobs', random_state=None, refit=True,\n",
              "                   return_train_score=False, scoring=None, verbose=True)"
            ]
          },
          "metadata": {
            "tags": []
          },
          "execution_count": 35
        }
      ]
    },
    {
      "cell_type": "code",
      "metadata": {
        "id": "FsHsBWSXN-m9",
        "colab": {
          "base_uri": "https://localhost:8080/"
        },
        "outputId": "898bc9a7-57ff-42ab-fc90-2609a65e0e2c"
      },
      "source": [
        "rs_rf.best_params_"
      ],
      "execution_count": 36,
      "outputs": [
        {
          "output_type": "execute_result",
          "data": {
            "text/plain": [
              "{'max_depth': 10,\n",
              " 'min_samples_leaf': 1,\n",
              " 'min_samples_split': 18,\n",
              " 'n_estimators': 910}"
            ]
          },
          "metadata": {
            "tags": []
          },
          "execution_count": 36
        }
      ]
    },
    {
      "cell_type": "code",
      "metadata": {
        "id": "Jevk334mOExU",
        "colab": {
          "base_uri": "https://localhost:8080/"
        },
        "outputId": "4092ac83-2f5f-4d29-f88a-c53d822bf35d"
      },
      "source": [
        "rs_rf.score(X_test, y_test)"
      ],
      "execution_count": 37,
      "outputs": [
        {
          "output_type": "execute_result",
          "data": {
            "text/plain": [
              "0.4591639871382637"
            ]
          },
          "metadata": {
            "tags": []
          },
          "execution_count": 37
        }
      ]
    },
    {
      "cell_type": "code",
      "metadata": {
        "id": "fxzb5nLOP3yq"
      },
      "source": [
        "model = RandomForestClassifier(max_depth=10, min_samples_leaf=9, min_samples_split=16, n_estimators=260)"
      ],
      "execution_count": 38,
      "outputs": []
    },
    {
      "cell_type": "markdown",
      "metadata": {
        "id": "Cj10le-NKgtp"
      },
      "source": [
        "In the end, it didn't improve too much. The model couldn't predict the specific ranks correctly most of the time due to many categories to predict as well as rather little distinction between some of the categories. For example, A-, A, and A+ are technically all pretty similar and belong to the same class. By this logic, let's generalize the ranks and merge some of them together. With this, I shrunk the number of categories from 17 to 8, halving the amount and most likely going to provide a significant increase in prediction accuracy."
      ]
    },
    {
      "cell_type": "markdown",
      "metadata": {
        "id": "go6a3SPiqzKU"
      },
      "source": [
        "I do everything like before to pre-process the data"
      ]
    },
    {
      "cell_type": "code",
      "metadata": {
        "id": "8h4zpiMXKPyX",
        "colab": {
          "base_uri": "https://localhost:8080/",
          "height": 502
        },
        "outputId": "d7b8212c-c77c-40bb-bcff-fad955699bb9"
      },
      "source": [
        "ranks_grouped = {'d': 1, 'd+': 1, 'c-': 2, 'c': 2, 'c+': 2, 'b-': 3, 'b': 3, 'b+': 3, 'a-': 4, 'a':4, 'a+': 4, 's-': 5, 's': 5, 's+': 5, 'ss': 6, 'u': 7, 'x': 8}\r\n",
        "df['rank_grouped'] = df['rank'].map(ranks_grouped)\r\n",
        "df"
      ],
      "execution_count": 39,
      "outputs": [
        {
          "output_type": "stream",
          "text": [
            "/usr/local/lib/python3.6/dist-packages/ipykernel_launcher.py:2: SettingWithCopyWarning: \n",
            "A value is trying to be set on a copy of a slice from a DataFrame.\n",
            "Try using .loc[row_indexer,col_indexer] = value instead\n",
            "\n",
            "See the caveats in the documentation: https://pandas.pydata.org/pandas-docs/stable/user_guide/indexing.html#returning-a-view-versus-a-copy\n",
            "  \n"
          ],
          "name": "stderr"
        },
        {
          "output_type": "execute_result",
          "data": {
            "text/html": [
              "<div>\n",
              "<style scoped>\n",
              "    .dataframe tbody tr th:only-of-type {\n",
              "        vertical-align: middle;\n",
              "    }\n",
              "\n",
              "    .dataframe tbody tr th {\n",
              "        vertical-align: top;\n",
              "    }\n",
              "\n",
              "    .dataframe thead th {\n",
              "        text-align: right;\n",
              "    }\n",
              "</style>\n",
              "<table border=\"1\" class=\"dataframe\">\n",
              "  <thead>\n",
              "    <tr style=\"text-align: right;\">\n",
              "      <th></th>\n",
              "      <th>_id</th>\n",
              "      <th>username</th>\n",
              "      <th>role</th>\n",
              "      <th>verified</th>\n",
              "      <th>country</th>\n",
              "      <th>gamesplayed</th>\n",
              "      <th>gameswon</th>\n",
              "      <th>rating</th>\n",
              "      <th>glicko</th>\n",
              "      <th>rd</th>\n",
              "      <th>rank</th>\n",
              "      <th>apm</th>\n",
              "      <th>pps</th>\n",
              "      <th>vs</th>\n",
              "      <th>decaying</th>\n",
              "      <th>supporter</th>\n",
              "      <th>rank_num</th>\n",
              "      <th>rank_grouped</th>\n",
              "    </tr>\n",
              "  </thead>\n",
              "  <tbody>\n",
              "    <tr>\n",
              "      <th>0</th>\n",
              "      <td>5e697bbf77aba60f95fb38da</td>\n",
              "      <td>firestorm</td>\n",
              "      <td>user</td>\n",
              "      <td>True</td>\n",
              "      <td>US</td>\n",
              "      <td>420</td>\n",
              "      <td>379</td>\n",
              "      <td>24984.207686</td>\n",
              "      <td>3455.023332</td>\n",
              "      <td>99.691619</td>\n",
              "      <td>x</td>\n",
              "      <td>161.54</td>\n",
              "      <td>3.70</td>\n",
              "      <td>327.45</td>\n",
              "      <td>False</td>\n",
              "      <td>NaN</td>\n",
              "      <td>17</td>\n",
              "      <td>8</td>\n",
              "    </tr>\n",
              "    <tr>\n",
              "      <th>1</th>\n",
              "      <td>5e844b0868270e617d52c990</td>\n",
              "      <td>czsmall0402</td>\n",
              "      <td>user</td>\n",
              "      <td>False</td>\n",
              "      <td>None</td>\n",
              "      <td>243</td>\n",
              "      <td>220</td>\n",
              "      <td>24979.819835</td>\n",
              "      <td>3377.895770</td>\n",
              "      <td>83.678807</td>\n",
              "      <td>x</td>\n",
              "      <td>146.59</td>\n",
              "      <td>3.08</td>\n",
              "      <td>315.33</td>\n",
              "      <td>False</td>\n",
              "      <td>True</td>\n",
              "      <td>17</td>\n",
              "      <td>8</td>\n",
              "    </tr>\n",
              "    <tr>\n",
              "      <th>2</th>\n",
              "      <td>5f5dbcc4454e942b4fdfc5fa</td>\n",
              "      <td>vincehd_</td>\n",
              "      <td>user</td>\n",
              "      <td>True</td>\n",
              "      <td>PH</td>\n",
              "      <td>168</td>\n",
              "      <td>155</td>\n",
              "      <td>24979.362628</td>\n",
              "      <td>3361.819973</td>\n",
              "      <td>67.266272</td>\n",
              "      <td>x</td>\n",
              "      <td>147.86</td>\n",
              "      <td>3.41</td>\n",
              "      <td>321.52</td>\n",
              "      <td>False</td>\n",
              "      <td>True</td>\n",
              "      <td>17</td>\n",
              "      <td>8</td>\n",
              "    </tr>\n",
              "    <tr>\n",
              "      <th>3</th>\n",
              "      <td>5e7cd9b6552a596c95f3c0a0</td>\n",
              "      <td>jason0107</td>\n",
              "      <td>user</td>\n",
              "      <td>False</td>\n",
              "      <td>TW</td>\n",
              "      <td>209</td>\n",
              "      <td>179</td>\n",
              "      <td>24969.901499</td>\n",
              "      <td>3263.479440</td>\n",
              "      <td>68.653978</td>\n",
              "      <td>x</td>\n",
              "      <td>101.06</td>\n",
              "      <td>3.62</td>\n",
              "      <td>225.07</td>\n",
              "      <td>False</td>\n",
              "      <td>NaN</td>\n",
              "      <td>17</td>\n",
              "      <td>8</td>\n",
              "    </tr>\n",
              "    <tr>\n",
              "      <th>4</th>\n",
              "      <td>6005c355413441e94a56c91f</td>\n",
              "      <td>seunghun1004</td>\n",
              "      <td>user</td>\n",
              "      <td>False</td>\n",
              "      <td>KR</td>\n",
              "      <td>133</td>\n",
              "      <td>121</td>\n",
              "      <td>24969.647383</td>\n",
              "      <td>3262.660942</td>\n",
              "      <td>71.211274</td>\n",
              "      <td>x</td>\n",
              "      <td>119.61</td>\n",
              "      <td>3.25</td>\n",
              "      <td>274.29</td>\n",
              "      <td>False</td>\n",
              "      <td>NaN</td>\n",
              "      <td>17</td>\n",
              "      <td>8</td>\n",
              "    </tr>\n",
              "    <tr>\n",
              "      <th>...</th>\n",
              "      <td>...</td>\n",
              "      <td>...</td>\n",
              "      <td>...</td>\n",
              "      <td>...</td>\n",
              "      <td>...</td>\n",
              "      <td>...</td>\n",
              "      <td>...</td>\n",
              "      <td>...</td>\n",
              "      <td>...</td>\n",
              "      <td>...</td>\n",
              "      <td>...</td>\n",
              "      <td>...</td>\n",
              "      <td>...</td>\n",
              "      <td>...</td>\n",
              "      <td>...</td>\n",
              "      <td>...</td>\n",
              "      <td>...</td>\n",
              "      <td>...</td>\n",
              "    </tr>\n",
              "    <tr>\n",
              "      <th>15547</th>\n",
              "      <td>5fc40de613e8c021da3a03fe</td>\n",
              "      <td>blindsixx</td>\n",
              "      <td>user</td>\n",
              "      <td>False</td>\n",
              "      <td>DO</td>\n",
              "      <td>101</td>\n",
              "      <td>13</td>\n",
              "      <td>234.876448</td>\n",
              "      <td>278.324268</td>\n",
              "      <td>75.153043</td>\n",
              "      <td>d</td>\n",
              "      <td>3.31</td>\n",
              "      <td>0.16</td>\n",
              "      <td>7.32</td>\n",
              "      <td>True</td>\n",
              "      <td>NaN</td>\n",
              "      <td>1</td>\n",
              "      <td>1</td>\n",
              "    </tr>\n",
              "    <tr>\n",
              "      <th>15548</th>\n",
              "      <td>5fe95de14529400ba470617e</td>\n",
              "      <td>shootinstar</td>\n",
              "      <td>user</td>\n",
              "      <td>False</td>\n",
              "      <td>US</td>\n",
              "      <td>49</td>\n",
              "      <td>4</td>\n",
              "      <td>232.492803</td>\n",
              "      <td>271.673481</td>\n",
              "      <td>93.279333</td>\n",
              "      <td>d</td>\n",
              "      <td>2.65</td>\n",
              "      <td>0.51</td>\n",
              "      <td>6.33</td>\n",
              "      <td>True</td>\n",
              "      <td>NaN</td>\n",
              "      <td>1</td>\n",
              "      <td>1</td>\n",
              "    </tr>\n",
              "    <tr>\n",
              "      <th>15549</th>\n",
              "      <td>5fdbade9e3ea3a3755f37ebf</td>\n",
              "      <td>sis25</td>\n",
              "      <td>user</td>\n",
              "      <td>False</td>\n",
              "      <td>AR</td>\n",
              "      <td>291</td>\n",
              "      <td>72</td>\n",
              "      <td>217.319911</td>\n",
              "      <td>257.507800</td>\n",
              "      <td>78.842107</td>\n",
              "      <td>d</td>\n",
              "      <td>6.57</td>\n",
              "      <td>0.87</td>\n",
              "      <td>11.89</td>\n",
              "      <td>True</td>\n",
              "      <td>NaN</td>\n",
              "      <td>1</td>\n",
              "      <td>1</td>\n",
              "    </tr>\n",
              "    <tr>\n",
              "      <th>15550</th>\n",
              "      <td>6013a88bf5c57ce9662953b5</td>\n",
              "      <td>ramsesin</td>\n",
              "      <td>user</td>\n",
              "      <td>False</td>\n",
              "      <td>MX</td>\n",
              "      <td>89</td>\n",
              "      <td>16</td>\n",
              "      <td>212.656891</td>\n",
              "      <td>251.015453</td>\n",
              "      <td>70.827004</td>\n",
              "      <td>d</td>\n",
              "      <td>4.11</td>\n",
              "      <td>0.48</td>\n",
              "      <td>7.85</td>\n",
              "      <td>True</td>\n",
              "      <td>NaN</td>\n",
              "      <td>1</td>\n",
              "      <td>1</td>\n",
              "    </tr>\n",
              "    <tr>\n",
              "      <th>15551</th>\n",
              "      <td>6008b7a9092f1be95870b82b</td>\n",
              "      <td>astroortsa</td>\n",
              "      <td>user</td>\n",
              "      <td>False</td>\n",
              "      <td>US</td>\n",
              "      <td>69</td>\n",
              "      <td>5</td>\n",
              "      <td>197.883555</td>\n",
              "      <td>232.816112</td>\n",
              "      <td>67.601285</td>\n",
              "      <td>d</td>\n",
              "      <td>2.21</td>\n",
              "      <td>0.58</td>\n",
              "      <td>4.35</td>\n",
              "      <td>False</td>\n",
              "      <td>NaN</td>\n",
              "      <td>1</td>\n",
              "      <td>1</td>\n",
              "    </tr>\n",
              "  </tbody>\n",
              "</table>\n",
              "<p>15550 rows × 18 columns</p>\n",
              "</div>"
            ],
            "text/plain": [
              "                            _id      username  ... rank_num  rank_grouped\n",
              "0      5e697bbf77aba60f95fb38da     firestorm  ...       17             8\n",
              "1      5e844b0868270e617d52c990   czsmall0402  ...       17             8\n",
              "2      5f5dbcc4454e942b4fdfc5fa      vincehd_  ...       17             8\n",
              "3      5e7cd9b6552a596c95f3c0a0     jason0107  ...       17             8\n",
              "4      6005c355413441e94a56c91f  seunghun1004  ...       17             8\n",
              "...                         ...           ...  ...      ...           ...\n",
              "15547  5fc40de613e8c021da3a03fe     blindsixx  ...        1             1\n",
              "15548  5fe95de14529400ba470617e   shootinstar  ...        1             1\n",
              "15549  5fdbade9e3ea3a3755f37ebf         sis25  ...        1             1\n",
              "15550  6013a88bf5c57ce9662953b5      ramsesin  ...        1             1\n",
              "15551  6008b7a9092f1be95870b82b    astroortsa  ...        1             1\n",
              "\n",
              "[15550 rows x 18 columns]"
            ]
          },
          "metadata": {
            "tags": []
          },
          "execution_count": 39
        }
      ]
    },
    {
      "cell_type": "code",
      "metadata": {
        "id": "kZy_V7S7kFhj"
      },
      "source": [
        "df_shuffled = shuffle(df, random_state=1)\r\n",
        "df_shuffled = df_shuffled.reset_index(drop=True)"
      ],
      "execution_count": 40,
      "outputs": []
    },
    {
      "cell_type": "code",
      "metadata": {
        "colab": {
          "base_uri": "https://localhost:8080/",
          "height": 402
        },
        "id": "E1fyc3qSkMDs",
        "outputId": "ccfc5a78-3f21-473c-e802-a7cea7eccc67"
      },
      "source": [
        "main_df = df_shuffled.loc[:,\"gamesplayed\":\"vs\"]\r\n",
        "main_df[\"rank_grouped\"] = df_shuffled[\"rank_grouped\"]\r\n",
        "main_df"
      ],
      "execution_count": 41,
      "outputs": [
        {
          "output_type": "execute_result",
          "data": {
            "text/html": [
              "<div>\n",
              "<style scoped>\n",
              "    .dataframe tbody tr th:only-of-type {\n",
              "        vertical-align: middle;\n",
              "    }\n",
              "\n",
              "    .dataframe tbody tr th {\n",
              "        vertical-align: top;\n",
              "    }\n",
              "\n",
              "    .dataframe thead th {\n",
              "        text-align: right;\n",
              "    }\n",
              "</style>\n",
              "<table border=\"1\" class=\"dataframe\">\n",
              "  <thead>\n",
              "    <tr style=\"text-align: right;\">\n",
              "      <th></th>\n",
              "      <th>gamesplayed</th>\n",
              "      <th>gameswon</th>\n",
              "      <th>rating</th>\n",
              "      <th>glicko</th>\n",
              "      <th>rd</th>\n",
              "      <th>rank</th>\n",
              "      <th>apm</th>\n",
              "      <th>pps</th>\n",
              "      <th>vs</th>\n",
              "      <th>rank_grouped</th>\n",
              "    </tr>\n",
              "  </thead>\n",
              "  <tbody>\n",
              "    <tr>\n",
              "      <th>0</th>\n",
              "      <td>278</td>\n",
              "      <td>148</td>\n",
              "      <td>7822.799453</td>\n",
              "      <td>1294.039806</td>\n",
              "      <td>74.644066</td>\n",
              "      <td>b</td>\n",
              "      <td>16.17</td>\n",
              "      <td>0.96</td>\n",
              "      <td>30.43</td>\n",
              "      <td>3</td>\n",
              "    </tr>\n",
              "    <tr>\n",
              "      <th>1</th>\n",
              "      <td>21</td>\n",
              "      <td>10</td>\n",
              "      <td>5471.910625</td>\n",
              "      <td>1164.212459</td>\n",
              "      <td>86.023400</td>\n",
              "      <td>b-</td>\n",
              "      <td>16.25</td>\n",
              "      <td>1.14</td>\n",
              "      <td>30.18</td>\n",
              "      <td>3</td>\n",
              "    </tr>\n",
              "    <tr>\n",
              "      <th>2</th>\n",
              "      <td>75</td>\n",
              "      <td>23</td>\n",
              "      <td>834.083974</td>\n",
              "      <td>618.085745</td>\n",
              "      <td>63.332430</td>\n",
              "      <td>d+</td>\n",
              "      <td>4.78</td>\n",
              "      <td>0.50</td>\n",
              "      <td>10.33</td>\n",
              "      <td>1</td>\n",
              "    </tr>\n",
              "    <tr>\n",
              "      <th>3</th>\n",
              "      <td>27</td>\n",
              "      <td>15</td>\n",
              "      <td>4191.483025</td>\n",
              "      <td>1077.551627</td>\n",
              "      <td>83.077035</td>\n",
              "      <td>c+</td>\n",
              "      <td>11.00</td>\n",
              "      <td>0.83</td>\n",
              "      <td>21.48</td>\n",
              "      <td>2</td>\n",
              "    </tr>\n",
              "    <tr>\n",
              "      <th>4</th>\n",
              "      <td>46</td>\n",
              "      <td>25</td>\n",
              "      <td>13898.670890</td>\n",
              "      <td>1558.948008</td>\n",
              "      <td>67.671488</td>\n",
              "      <td>a</td>\n",
              "      <td>17.98</td>\n",
              "      <td>1.15</td>\n",
              "      <td>41.61</td>\n",
              "      <td>4</td>\n",
              "    </tr>\n",
              "    <tr>\n",
              "      <th>...</th>\n",
              "      <td>...</td>\n",
              "      <td>...</td>\n",
              "      <td>...</td>\n",
              "      <td>...</td>\n",
              "      <td>...</td>\n",
              "      <td>...</td>\n",
              "      <td>...</td>\n",
              "      <td>...</td>\n",
              "      <td>...</td>\n",
              "      <td>...</td>\n",
              "    </tr>\n",
              "    <tr>\n",
              "      <th>15545</th>\n",
              "      <td>579</td>\n",
              "      <td>302</td>\n",
              "      <td>22737.456726</td>\n",
              "      <td>2104.147175</td>\n",
              "      <td>61.087927</td>\n",
              "      <td>ss</td>\n",
              "      <td>38.33</td>\n",
              "      <td>1.49</td>\n",
              "      <td>95.49</td>\n",
              "      <td>6</td>\n",
              "    </tr>\n",
              "    <tr>\n",
              "      <th>15546</th>\n",
              "      <td>316</td>\n",
              "      <td>156</td>\n",
              "      <td>15270.018557</td>\n",
              "      <td>1618.018270</td>\n",
              "      <td>61.807109</td>\n",
              "      <td>a+</td>\n",
              "      <td>25.70</td>\n",
              "      <td>1.18</td>\n",
              "      <td>56.42</td>\n",
              "      <td>4</td>\n",
              "    </tr>\n",
              "    <tr>\n",
              "      <th>15547</th>\n",
              "      <td>99</td>\n",
              "      <td>47</td>\n",
              "      <td>4199.946801</td>\n",
              "      <td>1080.793994</td>\n",
              "      <td>63.935905</td>\n",
              "      <td>c+</td>\n",
              "      <td>10.47</td>\n",
              "      <td>0.89</td>\n",
              "      <td>24.52</td>\n",
              "      <td>2</td>\n",
              "    </tr>\n",
              "    <tr>\n",
              "      <th>15548</th>\n",
              "      <td>343</td>\n",
              "      <td>210</td>\n",
              "      <td>24237.777102</td>\n",
              "      <td>2405.982686</td>\n",
              "      <td>62.091603</td>\n",
              "      <td>u</td>\n",
              "      <td>73.59</td>\n",
              "      <td>2.29</td>\n",
              "      <td>164.83</td>\n",
              "      <td>7</td>\n",
              "    </tr>\n",
              "    <tr>\n",
              "      <th>15549</th>\n",
              "      <td>66</td>\n",
              "      <td>30</td>\n",
              "      <td>2640.678425</td>\n",
              "      <td>940.396616</td>\n",
              "      <td>63.099463</td>\n",
              "      <td>c</td>\n",
              "      <td>6.63</td>\n",
              "      <td>0.75</td>\n",
              "      <td>15.27</td>\n",
              "      <td>2</td>\n",
              "    </tr>\n",
              "  </tbody>\n",
              "</table>\n",
              "<p>15550 rows × 10 columns</p>\n",
              "</div>"
            ],
            "text/plain": [
              "       gamesplayed  gameswon        rating  ...   pps      vs rank_grouped\n",
              "0              278       148   7822.799453  ...  0.96   30.43            3\n",
              "1               21        10   5471.910625  ...  1.14   30.18            3\n",
              "2               75        23    834.083974  ...  0.50   10.33            1\n",
              "3               27        15   4191.483025  ...  0.83   21.48            2\n",
              "4               46        25  13898.670890  ...  1.15   41.61            4\n",
              "...            ...       ...           ...  ...   ...     ...          ...\n",
              "15545          579       302  22737.456726  ...  1.49   95.49            6\n",
              "15546          316       156  15270.018557  ...  1.18   56.42            4\n",
              "15547           99        47   4199.946801  ...  0.89   24.52            2\n",
              "15548          343       210  24237.777102  ...  2.29  164.83            7\n",
              "15549           66        30   2640.678425  ...  0.75   15.27            2\n",
              "\n",
              "[15550 rows x 10 columns]"
            ]
          },
          "metadata": {
            "tags": []
          },
          "execution_count": 41
        }
      ]
    },
    {
      "cell_type": "code",
      "metadata": {
        "colab": {
          "base_uri": "https://localhost:8080/",
          "height": 402
        },
        "id": "sInA_Jk_kPC0",
        "outputId": "1656d964-081a-4aaf-a53b-ce1f1512c1e0"
      },
      "source": [
        "df_x = main_df.loc[:,['apm', 'pps', 'vs']]\r\n",
        "df_x"
      ],
      "execution_count": 42,
      "outputs": [
        {
          "output_type": "execute_result",
          "data": {
            "text/html": [
              "<div>\n",
              "<style scoped>\n",
              "    .dataframe tbody tr th:only-of-type {\n",
              "        vertical-align: middle;\n",
              "    }\n",
              "\n",
              "    .dataframe tbody tr th {\n",
              "        vertical-align: top;\n",
              "    }\n",
              "\n",
              "    .dataframe thead th {\n",
              "        text-align: right;\n",
              "    }\n",
              "</style>\n",
              "<table border=\"1\" class=\"dataframe\">\n",
              "  <thead>\n",
              "    <tr style=\"text-align: right;\">\n",
              "      <th></th>\n",
              "      <th>apm</th>\n",
              "      <th>pps</th>\n",
              "      <th>vs</th>\n",
              "    </tr>\n",
              "  </thead>\n",
              "  <tbody>\n",
              "    <tr>\n",
              "      <th>0</th>\n",
              "      <td>16.17</td>\n",
              "      <td>0.96</td>\n",
              "      <td>30.43</td>\n",
              "    </tr>\n",
              "    <tr>\n",
              "      <th>1</th>\n",
              "      <td>16.25</td>\n",
              "      <td>1.14</td>\n",
              "      <td>30.18</td>\n",
              "    </tr>\n",
              "    <tr>\n",
              "      <th>2</th>\n",
              "      <td>4.78</td>\n",
              "      <td>0.50</td>\n",
              "      <td>10.33</td>\n",
              "    </tr>\n",
              "    <tr>\n",
              "      <th>3</th>\n",
              "      <td>11.00</td>\n",
              "      <td>0.83</td>\n",
              "      <td>21.48</td>\n",
              "    </tr>\n",
              "    <tr>\n",
              "      <th>4</th>\n",
              "      <td>17.98</td>\n",
              "      <td>1.15</td>\n",
              "      <td>41.61</td>\n",
              "    </tr>\n",
              "    <tr>\n",
              "      <th>...</th>\n",
              "      <td>...</td>\n",
              "      <td>...</td>\n",
              "      <td>...</td>\n",
              "    </tr>\n",
              "    <tr>\n",
              "      <th>15545</th>\n",
              "      <td>38.33</td>\n",
              "      <td>1.49</td>\n",
              "      <td>95.49</td>\n",
              "    </tr>\n",
              "    <tr>\n",
              "      <th>15546</th>\n",
              "      <td>25.70</td>\n",
              "      <td>1.18</td>\n",
              "      <td>56.42</td>\n",
              "    </tr>\n",
              "    <tr>\n",
              "      <th>15547</th>\n",
              "      <td>10.47</td>\n",
              "      <td>0.89</td>\n",
              "      <td>24.52</td>\n",
              "    </tr>\n",
              "    <tr>\n",
              "      <th>15548</th>\n",
              "      <td>73.59</td>\n",
              "      <td>2.29</td>\n",
              "      <td>164.83</td>\n",
              "    </tr>\n",
              "    <tr>\n",
              "      <th>15549</th>\n",
              "      <td>6.63</td>\n",
              "      <td>0.75</td>\n",
              "      <td>15.27</td>\n",
              "    </tr>\n",
              "  </tbody>\n",
              "</table>\n",
              "<p>15550 rows × 3 columns</p>\n",
              "</div>"
            ],
            "text/plain": [
              "         apm   pps      vs\n",
              "0      16.17  0.96   30.43\n",
              "1      16.25  1.14   30.18\n",
              "2       4.78  0.50   10.33\n",
              "3      11.00  0.83   21.48\n",
              "4      17.98  1.15   41.61\n",
              "...      ...   ...     ...\n",
              "15545  38.33  1.49   95.49\n",
              "15546  25.70  1.18   56.42\n",
              "15547  10.47  0.89   24.52\n",
              "15548  73.59  2.29  164.83\n",
              "15549   6.63  0.75   15.27\n",
              "\n",
              "[15550 rows x 3 columns]"
            ]
          },
          "metadata": {
            "tags": []
          },
          "execution_count": 42
        }
      ]
    },
    {
      "cell_type": "code",
      "metadata": {
        "colab": {
          "base_uri": "https://localhost:8080/"
        },
        "id": "q61eYQ7PkTSD",
        "outputId": "25e070df-ca08-4992-8c19-5b46da20971d"
      },
      "source": [
        "df_y = main_df.loc[:,\"rank_grouped\"]\r\n",
        "df_y"
      ],
      "execution_count": 43,
      "outputs": [
        {
          "output_type": "execute_result",
          "data": {
            "text/plain": [
              "0        3\n",
              "1        3\n",
              "2        1\n",
              "3        2\n",
              "4        4\n",
              "        ..\n",
              "15545    6\n",
              "15546    4\n",
              "15547    2\n",
              "15548    7\n",
              "15549    2\n",
              "Name: rank_grouped, Length: 15550, dtype: int64"
            ]
          },
          "metadata": {
            "tags": []
          },
          "execution_count": 43
        }
      ]
    },
    {
      "cell_type": "code",
      "metadata": {
        "id": "cb75VqcekYTj"
      },
      "source": [
        "X_train, X_test, y_train, y_test = train_test_split(df_x, df_y, train_size=0.7, random_state=1)"
      ],
      "execution_count": 44,
      "outputs": []
    },
    {
      "cell_type": "code",
      "metadata": {
        "colab": {
          "base_uri": "https://localhost:8080/"
        },
        "id": "LVYqfuOUk4XZ",
        "outputId": "cbd8497f-76a7-40eb-9d1f-0451fcc78c98"
      },
      "source": [
        "X_train.shape, X_test.shape, y_train.shape, y_test.shape"
      ],
      "execution_count": 45,
      "outputs": [
        {
          "output_type": "execute_result",
          "data": {
            "text/plain": [
              "((10885, 3), (4665, 3), (10885,), (4665,))"
            ]
          },
          "metadata": {
            "tags": []
          },
          "execution_count": 45
        }
      ]
    },
    {
      "cell_type": "code",
      "metadata": {
        "colab": {
          "base_uri": "https://localhost:8080/"
        },
        "id": "m3GbL24AkgYY",
        "outputId": "b790b17f-6fd2-4019-a4c0-c1595f9dfd37"
      },
      "source": [
        "fit_and_score(models=models, X_train=X_train, X_test=X_test, y_train=y_train, y_test=y_test)"
      ],
      "execution_count": 46,
      "outputs": [
        {
          "output_type": "stream",
          "text": [
            "/usr/local/lib/python3.6/dist-packages/sklearn/linear_model/_logistic.py:940: ConvergenceWarning: lbfgs failed to converge (status=1):\n",
            "STOP: TOTAL NO. of ITERATIONS REACHED LIMIT.\n",
            "\n",
            "Increase the number of iterations (max_iter) or scale the data as shown in:\n",
            "    https://scikit-learn.org/stable/modules/preprocessing.html\n",
            "Please also refer to the documentation for alternative solver options:\n",
            "    https://scikit-learn.org/stable/modules/linear_model.html#logistic-regression\n",
            "  extra_warning_msg=_LOGISTIC_SOLVER_CONVERGENCE_MSG)\n"
          ],
          "name": "stderr"
        },
        {
          "output_type": "execute_result",
          "data": {
            "text/plain": [
              "{'KNN': 0.7466237942122187,\n",
              " 'Logistic Regression': 0.5952840300107182,\n",
              " 'Random Forest': 0.7466237942122187}"
            ]
          },
          "metadata": {
            "tags": []
          },
          "execution_count": 46
        }
      ]
    },
    {
      "cell_type": "markdown",
      "metadata": {
        "id": "OQPnJATBrDLl"
      },
      "source": [
        "A significant increase in prediction accuracy from 43% up to 74%. I yet again tune hyperparameters to see if I can get slightly better results."
      ]
    },
    {
      "cell_type": "code",
      "metadata": {
        "colab": {
          "base_uri": "https://localhost:8080/"
        },
        "id": "3CXALV8Ykrls",
        "outputId": "f7508965-cd54-4b34-b5f1-ac0b043c95c7"
      },
      "source": [
        "rf_grid = {\"n_estimators\": np.arange(10,1000,50),\r\n",
        "           \"max_depth\": [None, 3, 5, 10],\r\n",
        "           \"min_samples_split\": np.arange(2,20,2),\r\n",
        "           \"min_samples_leaf\": np.arange(1,20,2)}\r\n",
        "\r\n",
        "#Tune RFC with RandomizedSearchCV\r\n",
        "\r\n",
        "np.random.seed(42)\r\n",
        "\r\n",
        "rs_rf = RandomizedSearchCV(RandomForestClassifier(), param_distributions=rf_grid, cv=5, n_iter=20, verbose=True)\r\n",
        "\r\n",
        "rs_rf.fit(X_train, y_train)\r\n"
      ],
      "execution_count": 47,
      "outputs": [
        {
          "output_type": "stream",
          "text": [
            "Fitting 5 folds for each of 20 candidates, totalling 100 fits\n"
          ],
          "name": "stdout"
        },
        {
          "output_type": "stream",
          "text": [
            "[Parallel(n_jobs=1)]: Using backend SequentialBackend with 1 concurrent workers.\n",
            "[Parallel(n_jobs=1)]: Done 100 out of 100 | elapsed:  5.6min finished\n"
          ],
          "name": "stderr"
        },
        {
          "output_type": "execute_result",
          "data": {
            "text/plain": [
              "RandomizedSearchCV(cv=5, error_score=nan,\n",
              "                   estimator=RandomForestClassifier(bootstrap=True,\n",
              "                                                    ccp_alpha=0.0,\n",
              "                                                    class_weight=None,\n",
              "                                                    criterion='gini',\n",
              "                                                    max_depth=None,\n",
              "                                                    max_features='auto',\n",
              "                                                    max_leaf_nodes=None,\n",
              "                                                    max_samples=None,\n",
              "                                                    min_impurity_decrease=0.0,\n",
              "                                                    min_impurity_split=None,\n",
              "                                                    min_samples_leaf=1,\n",
              "                                                    min_samples_split=2,\n",
              "                                                    min_weight_fraction_leaf=0.0,\n",
              "                                                    n_estimators=100,\n",
              "                                                    n_jobs...\n",
              "                   param_distributions={'max_depth': [None, 3, 5, 10],\n",
              "                                        'min_samples_leaf': array([ 1,  3,  5,  7,  9, 11, 13, 15, 17, 19]),\n",
              "                                        'min_samples_split': array([ 2,  4,  6,  8, 10, 12, 14, 16, 18]),\n",
              "                                        'n_estimators': array([ 10,  60, 110, 160, 210, 260, 310, 360, 410, 460, 510, 560, 610,\n",
              "       660, 710, 760, 810, 860, 910, 960])},\n",
              "                   pre_dispatch='2*n_jobs', random_state=None, refit=True,\n",
              "                   return_train_score=False, scoring=None, verbose=True)"
            ]
          },
          "metadata": {
            "tags": []
          },
          "execution_count": 47
        }
      ]
    },
    {
      "cell_type": "code",
      "metadata": {
        "colab": {
          "base_uri": "https://localhost:8080/"
        },
        "id": "lOZX_Hp7lKdV",
        "outputId": "0d9527e5-878a-45ac-edb6-5718ba2f3dfd"
      },
      "source": [
        "rs_rf.best_params_"
      ],
      "execution_count": 48,
      "outputs": [
        {
          "output_type": "execute_result",
          "data": {
            "text/plain": [
              "{'max_depth': None,\n",
              " 'min_samples_leaf': 1,\n",
              " 'min_samples_split': 14,\n",
              " 'n_estimators': 510}"
            ]
          },
          "metadata": {
            "tags": []
          },
          "execution_count": 48
        }
      ]
    },
    {
      "cell_type": "markdown",
      "metadata": {
        "id": "ztpTzoivrUFJ"
      },
      "source": [
        "These parameters are what I got, and they may change as I use RandomizedSearchCV which does not check all possibilities. If I wanted to get the best possible model, GridSearchCV should be used."
      ]
    },
    {
      "cell_type": "code",
      "metadata": {
        "id": "KHaE0STDm2Wn"
      },
      "source": [
        "model = RandomForestClassifier(max_depth=None, min_samples_leaf=5, min_samples_split=12, n_estimators=310)\r\n",
        "model.fit(X_train, y_train)\r\n",
        "y_preds = model.predict(X_test)"
      ],
      "execution_count": 49,
      "outputs": []
    },
    {
      "cell_type": "code",
      "metadata": {
        "colab": {
          "base_uri": "https://localhost:8080/"
        },
        "id": "fhC1T-rzm_wO",
        "outputId": "426a6ad5-bf14-4033-f275-fc2b9b3dfaeb"
      },
      "source": [
        "model.score(X_test, y_test)"
      ],
      "execution_count": 50,
      "outputs": [
        {
          "output_type": "execute_result",
          "data": {
            "text/plain": [
              "0.7631296891747053"
            ]
          },
          "metadata": {
            "tags": []
          },
          "execution_count": 50
        }
      ]
    },
    {
      "cell_type": "markdown",
      "metadata": {
        "id": "T71HXErFyuiR"
      },
      "source": [
        "We got the final predicted accuracy of 76%"
      ]
    },
    {
      "cell_type": "markdown",
      "metadata": {
        "id": "He3dm7PnrrRJ"
      },
      "source": [
        "I wanted to see the deviation in the predicted values versus the actual values in terms of the prediction frequency. From the graph below, the predictions are on par with the actual values."
      ]
    },
    {
      "cell_type": "code",
      "metadata": {
        "colab": {
          "base_uri": "https://localhost:8080/",
          "height": 388
        },
        "id": "h8P5YK6BnFMP",
        "outputId": "03d190de-2f7c-470e-d861-e4693de46f23"
      },
      "source": [
        "fig, ax = plt.subplots(figsize=(10,5))\r\n",
        "plt.hist(y_preds, color=\"purple\")\r\n",
        "plt.hist(y_test, color=\"green\")"
      ],
      "execution_count": 51,
      "outputs": [
        {
          "output_type": "execute_result",
          "data": {
            "text/plain": [
              "(array([ 236.,  818., 1108.,    0., 1116.,  863.,    0.,  286.,  196.,\n",
              "          42.]),\n",
              " array([1. , 1.7, 2.4, 3.1, 3.8, 4.5, 5.2, 5.9, 6.6, 7.3, 8. ]),\n",
              " <a list of 10 Patch objects>)"
            ]
          },
          "metadata": {
            "tags": []
          },
          "execution_count": 51
        },
        {
          "output_type": "display_data",
          "data": {
            "image/png": "[encoded data removed]",
            "text/plain": [
              "<Figure size 720x360 with 1 Axes>"
            ]
          },
          "metadata": {
            "tags": [],
            "needs_background": "light"
          }
        }
      ]
    },
    {
      "cell_type": "markdown",
      "metadata": {
        "id": "MJbRY16hr-US"
      },
      "source": [
        "Just out of curiosity sake, I look to see some of the wrong predictions and see their differences. "
      ]
    },
    {
      "cell_type": "code",
      "metadata": {
        "colab": {
          "base_uri": "https://localhost:8080/",
          "height": 402
        },
        "id": "2qqYeKG6oBCZ",
        "outputId": "35db5725-c642-4877-9851-df39ec2d3d14"
      },
      "source": [
        "compare = pd.DataFrame([y_preds, y_test], index=[\"Predicted\", \"Actual\"]).T\r\n",
        "compare"
      ],
      "execution_count": 52,
      "outputs": [
        {
          "output_type": "execute_result",
          "data": {
            "text/html": [
              "<div>\n",
              "<style scoped>\n",
              "    .dataframe tbody tr th:only-of-type {\n",
              "        vertical-align: middle;\n",
              "    }\n",
              "\n",
              "    .dataframe tbody tr th {\n",
              "        vertical-align: top;\n",
              "    }\n",
              "\n",
              "    .dataframe thead th {\n",
              "        text-align: right;\n",
              "    }\n",
              "</style>\n",
              "<table border=\"1\" class=\"dataframe\">\n",
              "  <thead>\n",
              "    <tr style=\"text-align: right;\">\n",
              "      <th></th>\n",
              "      <th>Predicted</th>\n",
              "      <th>Actual</th>\n",
              "    </tr>\n",
              "  </thead>\n",
              "  <tbody>\n",
              "    <tr>\n",
              "      <th>0</th>\n",
              "      <td>2</td>\n",
              "      <td>2</td>\n",
              "    </tr>\n",
              "    <tr>\n",
              "      <th>1</th>\n",
              "      <td>3</td>\n",
              "      <td>3</td>\n",
              "    </tr>\n",
              "    <tr>\n",
              "      <th>2</th>\n",
              "      <td>7</td>\n",
              "      <td>7</td>\n",
              "    </tr>\n",
              "    <tr>\n",
              "      <th>3</th>\n",
              "      <td>1</td>\n",
              "      <td>1</td>\n",
              "    </tr>\n",
              "    <tr>\n",
              "      <th>4</th>\n",
              "      <td>2</td>\n",
              "      <td>2</td>\n",
              "    </tr>\n",
              "    <tr>\n",
              "      <th>...</th>\n",
              "      <td>...</td>\n",
              "      <td>...</td>\n",
              "    </tr>\n",
              "    <tr>\n",
              "      <th>4660</th>\n",
              "      <td>7</td>\n",
              "      <td>7</td>\n",
              "    </tr>\n",
              "    <tr>\n",
              "      <th>4661</th>\n",
              "      <td>5</td>\n",
              "      <td>5</td>\n",
              "    </tr>\n",
              "    <tr>\n",
              "      <th>4662</th>\n",
              "      <td>2</td>\n",
              "      <td>2</td>\n",
              "    </tr>\n",
              "    <tr>\n",
              "      <th>4663</th>\n",
              "      <td>5</td>\n",
              "      <td>5</td>\n",
              "    </tr>\n",
              "    <tr>\n",
              "      <th>4664</th>\n",
              "      <td>4</td>\n",
              "      <td>4</td>\n",
              "    </tr>\n",
              "  </tbody>\n",
              "</table>\n",
              "<p>4665 rows × 2 columns</p>\n",
              "</div>"
            ],
            "text/plain": [
              "      Predicted  Actual\n",
              "0             2       2\n",
              "1             3       3\n",
              "2             7       7\n",
              "3             1       1\n",
              "4             2       2\n",
              "...         ...     ...\n",
              "4660          7       7\n",
              "4661          5       5\n",
              "4662          2       2\n",
              "4663          5       5\n",
              "4664          4       4\n",
              "\n",
              "[4665 rows x 2 columns]"
            ]
          },
          "metadata": {
            "tags": []
          },
          "execution_count": 52
        }
      ]
    },
    {
      "cell_type": "code",
      "metadata": {
        "colab": {
          "base_uri": "https://localhost:8080/",
          "height": 402
        },
        "id": "3ojHfAe4sJAi",
        "outputId": "3ad37309-93c7-42d4-cf5d-81f1e07192f4"
      },
      "source": [
        "compare[compare.Predicted != compare.Actual]"
      ],
      "execution_count": 53,
      "outputs": [
        {
          "output_type": "execute_result",
          "data": {
            "text/html": [
              "<div>\n",
              "<style scoped>\n",
              "    .dataframe tbody tr th:only-of-type {\n",
              "        vertical-align: middle;\n",
              "    }\n",
              "\n",
              "    .dataframe tbody tr th {\n",
              "        vertical-align: top;\n",
              "    }\n",
              "\n",
              "    .dataframe thead th {\n",
              "        text-align: right;\n",
              "    }\n",
              "</style>\n",
              "<table border=\"1\" class=\"dataframe\">\n",
              "  <thead>\n",
              "    <tr style=\"text-align: right;\">\n",
              "      <th></th>\n",
              "      <th>Predicted</th>\n",
              "      <th>Actual</th>\n",
              "    </tr>\n",
              "  </thead>\n",
              "  <tbody>\n",
              "    <tr>\n",
              "      <th>5</th>\n",
              "      <td>3</td>\n",
              "      <td>2</td>\n",
              "    </tr>\n",
              "    <tr>\n",
              "      <th>7</th>\n",
              "      <td>2</td>\n",
              "      <td>3</td>\n",
              "    </tr>\n",
              "    <tr>\n",
              "      <th>24</th>\n",
              "      <td>4</td>\n",
              "      <td>3</td>\n",
              "    </tr>\n",
              "    <tr>\n",
              "      <th>28</th>\n",
              "      <td>4</td>\n",
              "      <td>5</td>\n",
              "    </tr>\n",
              "    <tr>\n",
              "      <th>30</th>\n",
              "      <td>3</td>\n",
              "      <td>4</td>\n",
              "    </tr>\n",
              "    <tr>\n",
              "      <th>...</th>\n",
              "      <td>...</td>\n",
              "      <td>...</td>\n",
              "    </tr>\n",
              "    <tr>\n",
              "      <th>4631</th>\n",
              "      <td>3</td>\n",
              "      <td>2</td>\n",
              "    </tr>\n",
              "    <tr>\n",
              "      <th>4635</th>\n",
              "      <td>4</td>\n",
              "      <td>3</td>\n",
              "    </tr>\n",
              "    <tr>\n",
              "      <th>4641</th>\n",
              "      <td>2</td>\n",
              "      <td>3</td>\n",
              "    </tr>\n",
              "    <tr>\n",
              "      <th>4646</th>\n",
              "      <td>5</td>\n",
              "      <td>6</td>\n",
              "    </tr>\n",
              "    <tr>\n",
              "      <th>4654</th>\n",
              "      <td>1</td>\n",
              "      <td>2</td>\n",
              "    </tr>\n",
              "  </tbody>\n",
              "</table>\n",
              "<p>1105 rows × 2 columns</p>\n",
              "</div>"
            ],
            "text/plain": [
              "      Predicted  Actual\n",
              "5             3       2\n",
              "7             2       3\n",
              "24            4       3\n",
              "28            4       5\n",
              "30            3       4\n",
              "...         ...     ...\n",
              "4631          3       2\n",
              "4635          4       3\n",
              "4641          2       3\n",
              "4646          5       6\n",
              "4654          1       2\n",
              "\n",
              "[1105 rows x 2 columns]"
            ]
          },
          "metadata": {
            "tags": []
          },
          "execution_count": 53
        }
      ]
    },
    {
      "cell_type": "markdown",
      "metadata": {
        "id": "zYVc6mEWsSxF"
      },
      "source": [
        "As I expected, the wrong predictions are only off by 1 rank. "
      ]
    },
    {
      "cell_type": "markdown",
      "metadata": {
        "id": "qv8JTwhBsZGY"
      },
      "source": [
        "### Afterthought\r\n",
        "\r\n",
        "There was not too much data to begin with as Tetr.io is a rather small platform, so for what it is, the model did pretty decently. From the diagrams above, we could see that there wasn't a clear distinction between the ranks and there was a lot of overlap which directly affects prediction accuracy. I don't think the model could have done much better at its current state as the players in the data do not progress linearly in ranks aside their other statistics. Overall, 76% accuracy is pretty good considering all the problems that exist in this data. "
      ]
    }
  ]
}