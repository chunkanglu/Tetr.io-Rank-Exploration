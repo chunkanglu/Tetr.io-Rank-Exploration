{
  "nbformat": 4,
  "nbformat_minor": 0,
  "metadata": {
    "colab": {
      "name": "Copy of TetrioData for github.ipynb",
      "provenance": [],
      "authorship_tag": "ABX9TyPLXu1RXAyrOlD+tgyPpTpX",
      "include_colab_link": true
    },
    "kernelspec": {
      "name": "python3",
      "display_name": "Python 3"
    }
  },
  "cells": [
    {
      "cell_type": "markdown",
      "metadata": {
        "id": "view-in-github",
        "colab_type": "text"
      },
      "source": [
        "<a href=\"https://colab.research.google.com/github/chunkanglu/Tetr.io-Rank-Predictor/blob/main/TetrioRankPredictor.ipynb\" target=\"_parent\"><img src=\"https://colab.research.google.com/assets/colab-badge.svg\" alt=\"Open In Colab\"/></a>"
      ]
    },
    {
      "cell_type": "markdown",
      "metadata": {
        "id": "FlBH0ElXtvsm"
      },
      "source": [
        "# Tetr.io Rank Predictor \r\n",
        "\r\n",
        "Goal: To predict Tetr.io rank based on other player statistics such as **APM (Attack-per-Minute)**, **PPS (Pieces-per-Second)**, and **VS Score**.\r\n",
        "\r\n",
        "### Note: \r\n",
        "The comments here derive from the data taken on Februrary 2, 2021. Since this program collects the current live data, there may be variations in the results. "
      ]
    },
    {
      "cell_type": "code",
      "metadata": {
        "id": "jrUpwkGTrMaH"
      },
      "source": [
        "import requests\r\n",
        "import numpy as np\r\n",
        "import pandas as pd\r\n",
        "import json\r\n",
        "import matplotlib.pyplot as plt\r\n",
        "import seaborn as sns\r\n",
        "\r\n",
        "from sklearn.linear_model import LogisticRegression\r\n",
        "from sklearn.neighbors import KNeighborsClassifier\r\n",
        "from sklearn.ensemble import RandomForestClassifier\r\n",
        "\r\n",
        "from sklearn.model_selection import train_test_split, RandomizedSearchCV"
      ],
      "execution_count": null,
      "outputs": []
    },
    {
      "cell_type": "markdown",
      "metadata": {
        "id": "FhBMZIk2lLxk"
      },
      "source": [
        "Get Tetr.io Tetra League data from API"
      ]
    },
    {
      "cell_type": "code",
      "metadata": {
        "id": "mKPLHMEBilrl"
      },
      "source": [
        "full_data = requests.get(\"https://ch.tetr.io/api/users/lists/league/all\")"
      ],
      "execution_count": null,
      "outputs": []
    },
    {
      "cell_type": "markdown",
      "metadata": {
        "id": "pie3iEp-l-b9"
      },
      "source": [
        "Turn data from JSON file into a Pandas DataFrame. We only include the user data and disregard the rest."
      ]
    },
    {
      "cell_type": "code",
      "metadata": {
        "colab": {
          "base_uri": "https://localhost:8080/",
          "height": 86
        },
        "id": "Co8ONhIuj9km",
        "outputId": "f44ccfcf-b402-4613-f94b-88f85a8060c3"
      },
      "source": [
        "full_dic = json.loads(full_data.text)\r\n",
        "\r\n",
        "all_players = []\r\n",
        "\r\n",
        "working_dict = full_dict['data']['users']\r\n",
        "\r\n",
        "for p in range(len(working_dict)): # For every player\r\n",
        "\r\n",
        "  player = {}\r\n",
        "\r\n",
        "  for a in working_dict[p]: # For every attribute of player\r\n",
        "\r\n",
        "    if a != \"league\":\r\n",
        "\r\n",
        "      player[a] = working_dict[p][a] # Add attributes that are not part of league\r\n",
        "\r\n",
        "  for a in working_dict[p][\"league\"]:\r\n",
        "\r\n",
        "    player[a] = working_dict[p][\"league\"][a]\r\n",
        "\r\n",
        "  all_players.append(player)\r\n",
        "\r\n",
        "df = pd.DataFrame(all_players, index=[i for i in range(len(all_players))])\r\n",
        "\r\n",
        "# Optionally save to csv\r\n",
        "# df.to_csv('TetrioAll.csv') \r\n"
      ],
      "execution_count": null,
      "outputs": [
        {
          "output_type": "execute_result",
          "data": {
            "application/vnd.google.colaboratory.intrinsic+json": {
              "type": "string"
            },
            "text/plain": [
              "'\\nfull_dic = json.loads(full.text)\\n\\nall_players = []\\n\\n#print(full_dic[\\'data\\'][\\'users\\'].keys())\\n\\nworking_dic = full_dic[\\'data\\'][\\'users\\']\\n\\nfor p in range(len(working_dic)): #for every player\\n\\n  player = {}\\n\\n  for a in working_dic[p]: # for every attribute of player\\n    if a != \"league\":\\n      player[a] = working_dic[p][a] # add attributes that are not part of league\\n\\n  for a in working_dic[p][\"league\"]:\\n    player[a] = working_dic[p][\"league\"][a]\\n\\n  all_players.append(player)\\n\\nfull_df = pd.DataFrame(all_players, index=[i for i in range(len(all_players))])\\n\\nfull_df.to_csv(\\'TetrioAll.csv\\')\\n\\nfrom google.colab import files\\nfiles.download(\\'TetrioALL.csv\\')\\n'"
            ]
          },
          "metadata": {
            "tags": []
          },
          "execution_count": 4
        }
      ]
    },
    {
      "cell_type": "code",
      "metadata": {
        "colab": {
          "base_uri": "https://localhost:8080/",
          "height": 402
        },
        "id": "jiwQSX2H0TU-",
        "outputId": "7eb7890b-bfd9-43b3-f1e0-8c7b923e5129"
      },
      "source": [
        "df"
      ],
      "execution_count": null,
      "outputs": [
        {
          "output_type": "execute_result",
          "data": {
            "text/html": [
              "<div>\n",
              "<style scoped>\n",
              "    .dataframe tbody tr th:only-of-type {\n",
              "        vertical-align: middle;\n",
              "    }\n",
              "\n",
              "    .dataframe tbody tr th {\n",
              "        vertical-align: top;\n",
              "    }\n",
              "\n",
              "    .dataframe thead th {\n",
              "        text-align: right;\n",
              "    }\n",
              "</style>\n",
              "<table border=\"1\" class=\"dataframe\">\n",
              "  <thead>\n",
              "    <tr style=\"text-align: right;\">\n",
              "      <th></th>\n",
              "      <th>Unnamed: 0</th>\n",
              "      <th>_id</th>\n",
              "      <th>username</th>\n",
              "      <th>role</th>\n",
              "      <th>supporter</th>\n",
              "      <th>verified</th>\n",
              "      <th>country</th>\n",
              "      <th>gamesplayed</th>\n",
              "      <th>gameswon</th>\n",
              "      <th>rating</th>\n",
              "      <th>glicko</th>\n",
              "      <th>rd</th>\n",
              "      <th>rank</th>\n",
              "      <th>apm</th>\n",
              "      <th>pps</th>\n",
              "      <th>vs</th>\n",
              "      <th>decaying</th>\n",
              "    </tr>\n",
              "  </thead>\n",
              "  <tbody>\n",
              "    <tr>\n",
              "      <th>0</th>\n",
              "      <td>0</td>\n",
              "      <td>5e844b0868270e617d52c990</td>\n",
              "      <td>czsmall0402</td>\n",
              "      <td>user</td>\n",
              "      <td>True</td>\n",
              "      <td>False</td>\n",
              "      <td>NaN</td>\n",
              "      <td>238</td>\n",
              "      <td>215</td>\n",
              "      <td>2.497863e+04</td>\n",
              "      <td>3363</td>\n",
              "      <td>84</td>\n",
              "      <td>x</td>\n",
              "      <td>146.55</td>\n",
              "      <td>3.19</td>\n",
              "      <td>321.62</td>\n",
              "      <td>False</td>\n",
              "    </tr>\n",
              "    <tr>\n",
              "      <th>1</th>\n",
              "      <td>1</td>\n",
              "      <td>5f5dbcc4454e942b4fdfc5fa</td>\n",
              "      <td>vincehd_</td>\n",
              "      <td>user</td>\n",
              "      <td>True</td>\n",
              "      <td>True</td>\n",
              "      <td>PH</td>\n",
              "      <td>162</td>\n",
              "      <td>149</td>\n",
              "      <td>2.497728e+04</td>\n",
              "      <td>3336</td>\n",
              "      <td>66</td>\n",
              "      <td>x</td>\n",
              "      <td>148.18</td>\n",
              "      <td>3.42</td>\n",
              "      <td>332.45</td>\n",
              "      <td>False</td>\n",
              "    </tr>\n",
              "    <tr>\n",
              "      <th>2</th>\n",
              "      <td>2</td>\n",
              "      <td>5e7cd9b6552a596c95f3c0a0</td>\n",
              "      <td>jason0107</td>\n",
              "      <td>user</td>\n",
              "      <td>NaN</td>\n",
              "      <td>False</td>\n",
              "      <td>TW</td>\n",
              "      <td>203</td>\n",
              "      <td>174</td>\n",
              "      <td>2.497106e+04</td>\n",
              "      <td>3273</td>\n",
              "      <td>67</td>\n",
              "      <td>x</td>\n",
              "      <td>146.11</td>\n",
              "      <td>3.63</td>\n",
              "      <td>323.59</td>\n",
              "      <td>False</td>\n",
              "    </tr>\n",
              "    <tr>\n",
              "      <th>3</th>\n",
              "      <td>3</td>\n",
              "      <td>6005c355413441e94a56c91f</td>\n",
              "      <td>seunghun1004</td>\n",
              "      <td>user</td>\n",
              "      <td>NaN</td>\n",
              "      <td>False</td>\n",
              "      <td>KR</td>\n",
              "      <td>105</td>\n",
              "      <td>96</td>\n",
              "      <td>2.496311e+04</td>\n",
              "      <td>3208</td>\n",
              "      <td>66</td>\n",
              "      <td>x</td>\n",
              "      <td>125.46</td>\n",
              "      <td>3.41</td>\n",
              "      <td>284.71</td>\n",
              "      <td>False</td>\n",
              "    </tr>\n",
              "    <tr>\n",
              "      <th>4</th>\n",
              "      <td>4</td>\n",
              "      <td>5eb11da1e47b643b5d12e5f1</td>\n",
              "      <td>gamaover</td>\n",
              "      <td>user</td>\n",
              "      <td>True</td>\n",
              "      <td>True</td>\n",
              "      <td>JP</td>\n",
              "      <td>332</td>\n",
              "      <td>245</td>\n",
              "      <td>2.496264e+04</td>\n",
              "      <td>3205</td>\n",
              "      <td>66</td>\n",
              "      <td>x</td>\n",
              "      <td>121.62</td>\n",
              "      <td>2.93</td>\n",
              "      <td>279.35</td>\n",
              "      <td>False</td>\n",
              "    </tr>\n",
              "    <tr>\n",
              "      <th>...</th>\n",
              "      <td>...</td>\n",
              "      <td>...</td>\n",
              "      <td>...</td>\n",
              "      <td>...</td>\n",
              "      <td>...</td>\n",
              "      <td>...</td>\n",
              "      <td>...</td>\n",
              "      <td>...</td>\n",
              "      <td>...</td>\n",
              "      <td>...</td>\n",
              "      <td>...</td>\n",
              "      <td>...</td>\n",
              "      <td>...</td>\n",
              "      <td>...</td>\n",
              "      <td>...</td>\n",
              "      <td>...</td>\n",
              "      <td>...</td>\n",
              "    </tr>\n",
              "    <tr>\n",
              "      <th>14770</th>\n",
              "      <td>14770</td>\n",
              "      <td>5fe95de14529400ba470617e</td>\n",
              "      <td>shootinstar</td>\n",
              "      <td>user</td>\n",
              "      <td>NaN</td>\n",
              "      <td>False</td>\n",
              "      <td>US</td>\n",
              "      <td>49</td>\n",
              "      <td>4</td>\n",
              "      <td>2.324928e+02</td>\n",
              "      <td>272</td>\n",
              "      <td>83</td>\n",
              "      <td>d</td>\n",
              "      <td>2.65</td>\n",
              "      <td>0.51</td>\n",
              "      <td>6.33</td>\n",
              "      <td>True</td>\n",
              "    </tr>\n",
              "    <tr>\n",
              "      <th>14771</th>\n",
              "      <td>14771</td>\n",
              "      <td>5fdbade9e3ea3a3755f37ebf</td>\n",
              "      <td>sis25</td>\n",
              "      <td>user</td>\n",
              "      <td>NaN</td>\n",
              "      <td>False</td>\n",
              "      <td>AR</td>\n",
              "      <td>291</td>\n",
              "      <td>72</td>\n",
              "      <td>2.173199e+02</td>\n",
              "      <td>258</td>\n",
              "      <td>69</td>\n",
              "      <td>d</td>\n",
              "      <td>6.57</td>\n",
              "      <td>0.87</td>\n",
              "      <td>11.89</td>\n",
              "      <td>True</td>\n",
              "    </tr>\n",
              "    <tr>\n",
              "      <th>14772</th>\n",
              "      <td>14772</td>\n",
              "      <td>6013a88bf5c57ce9662953b5</td>\n",
              "      <td>ramsesin</td>\n",
              "      <td>user</td>\n",
              "      <td>NaN</td>\n",
              "      <td>False</td>\n",
              "      <td>MX</td>\n",
              "      <td>88</td>\n",
              "      <td>16</td>\n",
              "      <td>2.137163e+02</td>\n",
              "      <td>253</td>\n",
              "      <td>69</td>\n",
              "      <td>d</td>\n",
              "      <td>4.11</td>\n",
              "      <td>0.48</td>\n",
              "      <td>7.85</td>\n",
              "      <td>False</td>\n",
              "    </tr>\n",
              "    <tr>\n",
              "      <th>14773</th>\n",
              "      <td>14773</td>\n",
              "      <td>5e9d195ae6f1903fa6604b4f</td>\n",
              "      <td>slowandstupid</td>\n",
              "      <td>user</td>\n",
              "      <td>NaN</td>\n",
              "      <td>False</td>\n",
              "      <td>NaN</td>\n",
              "      <td>2973</td>\n",
              "      <td>10</td>\n",
              "      <td>3.966677e-49</td>\n",
              "      <td>-30511</td>\n",
              "      <td>80</td>\n",
              "      <td>d</td>\n",
              "      <td>0.00</td>\n",
              "      <td>0.01</td>\n",
              "      <td>NaN</td>\n",
              "      <td>True</td>\n",
              "    </tr>\n",
              "    <tr>\n",
              "      <th>14774</th>\n",
              "      <td>14774</td>\n",
              "      <td>5e76fc8745f1592235060f55</td>\n",
              "      <td>737210</td>\n",
              "      <td>user</td>\n",
              "      <td>NaN</td>\n",
              "      <td>False</td>\n",
              "      <td>NaN</td>\n",
              "      <td>2947</td>\n",
              "      <td>8</td>\n",
              "      <td>3.855939e-49</td>\n",
              "      <td>-30518</td>\n",
              "      <td>80</td>\n",
              "      <td>d</td>\n",
              "      <td>1.65</td>\n",
              "      <td>0.02</td>\n",
              "      <td>NaN</td>\n",
              "      <td>True</td>\n",
              "    </tr>\n",
              "  </tbody>\n",
              "</table>\n",
              "<p>14775 rows × 17 columns</p>\n",
              "</div>"
            ],
            "text/plain": [
              "       Unnamed: 0                       _id  ...      vs decaying\n",
              "0               0  5e844b0868270e617d52c990  ...  321.62    False\n",
              "1               1  5f5dbcc4454e942b4fdfc5fa  ...  332.45    False\n",
              "2               2  5e7cd9b6552a596c95f3c0a0  ...  323.59    False\n",
              "3               3  6005c355413441e94a56c91f  ...  284.71    False\n",
              "4               4  5eb11da1e47b643b5d12e5f1  ...  279.35    False\n",
              "...           ...                       ...  ...     ...      ...\n",
              "14770       14770  5fe95de14529400ba470617e  ...    6.33     True\n",
              "14771       14771  5fdbade9e3ea3a3755f37ebf  ...   11.89     True\n",
              "14772       14772  6013a88bf5c57ce9662953b5  ...    7.85    False\n",
              "14773       14773  5e9d195ae6f1903fa6604b4f  ...     NaN     True\n",
              "14774       14774  5e76fc8745f1592235060f55  ...     NaN     True\n",
              "\n",
              "[14775 rows x 17 columns]"
            ]
          },
          "metadata": {
            "tags": []
          },
          "execution_count": 14
        }
      ]
    },
    {
      "cell_type": "code",
      "metadata": {
        "id": "LX4_NXwQ0UDE"
      },
      "source": [
        "df.drop(\"Unnamed: 0\", axis=1, inplace=True)"
      ],
      "execution_count": null,
      "outputs": []
    },
    {
      "cell_type": "code",
      "metadata": {
        "colab": {
          "base_uri": "https://localhost:8080/"
        },
        "id": "pCtHbbB2TOtp",
        "outputId": "6e023a71-a89a-4c30-c184-dcc2f631ad99"
      },
      "source": [
        "df.info()"
      ],
      "execution_count": null,
      "outputs": [
        {
          "output_type": "stream",
          "text": [
            "<class 'pandas.core.frame.DataFrame'>\n",
            "RangeIndex: 14775 entries, 0 to 14774\n",
            "Data columns (total 16 columns):\n",
            " #   Column       Non-Null Count  Dtype  \n",
            "---  ------       --------------  -----  \n",
            " 0   _id          14775 non-null  object \n",
            " 1   username     14775 non-null  object \n",
            " 2   role         14775 non-null  object \n",
            " 3   supporter    295 non-null    object \n",
            " 4   verified     14775 non-null  bool   \n",
            " 5   country      14451 non-null  object \n",
            " 6   gamesplayed  14775 non-null  int64  \n",
            " 7   gameswon     14775 non-null  int64  \n",
            " 8   rating       14775 non-null  float64\n",
            " 9   glicko       14775 non-null  int64  \n",
            " 10  rd           14775 non-null  int64  \n",
            " 11  rank         14775 non-null  object \n",
            " 12  apm          14775 non-null  float64\n",
            " 13  pps          14775 non-null  float64\n",
            " 14  vs           14773 non-null  float64\n",
            " 15  decaying     14775 non-null  bool   \n",
            "dtypes: bool(2), float64(4), int64(4), object(6)\n",
            "memory usage: 1.6+ MB\n"
          ],
          "name": "stdout"
        }
      ]
    },
    {
      "cell_type": "markdown",
      "metadata": {
        "id": "lzC-vh7PnADm"
      },
      "source": [
        "I see there are 2 random rows in `vs` that have missing values so I drop them"
      ]
    },
    {
      "cell_type": "code",
      "metadata": {
        "id": "Mahd6Z6rUcMD"
      },
      "source": [
        "df.dropna(axis=0, subset=['vs'], inplace=True)"
      ],
      "execution_count": null,
      "outputs": []
    },
    {
      "cell_type": "markdown",
      "metadata": {
        "id": "GzkFEj3LnTal"
      },
      "source": [
        "A `Z` in the rank column means unranked, so we also drop those rows as they don't provide value."
      ]
    },
    {
      "cell_type": "code",
      "metadata": {
        "colab": {
          "base_uri": "https://localhost:8080/"
        },
        "id": "aAPow0WCa0fD",
        "outputId": "9b8dde7a-1661-45e9-c2eb-1ac368532114"
      },
      "source": [
        "df['rank'].value_counts()"
      ],
      "execution_count": null,
      "outputs": [
        {
          "output_type": "execute_result",
          "data": {
            "text/plain": [
              "a     1187\n",
              "b-    1183\n",
              "b     1182\n",
              "a-    1181\n",
              "a+    1157\n",
              "b+    1147\n",
              "s-    1039\n",
              "c+     900\n",
              "c      897\n",
              "s+     886\n",
              "ss     874\n",
              "s      863\n",
              "c-     761\n",
              "u      597\n",
              "d      378\n",
              "d+     372\n",
              "x      168\n",
              "Name: rank, dtype: int64"
            ]
          },
          "metadata": {
            "tags": []
          },
          "execution_count": 19
        }
      ]
    },
    {
      "cell_type": "code",
      "metadata": {
        "id": "jktUozQcWIeG"
      },
      "source": [
        "df = df[df['rank'] != 'z']"
      ],
      "execution_count": null,
      "outputs": []
    },
    {
      "cell_type": "markdown",
      "metadata": {
        "id": "xcs2xwjrnyAo"
      },
      "source": [
        "First, I try to map each rank into a numerical value. (This isn't the best solution as later on it shows that there are too many categories to predict and too few data)"
      ]
    },
    {
      "cell_type": "code",
      "metadata": {
        "colab": {
          "base_uri": "https://localhost:8080/",
          "height": 502
        },
        "id": "jGEISEPKarbT",
        "outputId": "143e9e4b-bd25-4e7e-df7e-09b039d07a91"
      },
      "source": [
        "ranks = {'d': 1, 'd+': 2, 'c-': 3, 'c': 4, 'c+': 5, 'b-': 6, 'b': 7, 'b+': 8, 'a-': 9, 'a':10, 'a+': 11, 's-': 12, 's': 13, 's+': 14, 'ss': 15, 'u': 16, 'x': 17}\r\n",
        "df['rank_num'] = df['rank'].map(ranks)\r\n",
        "df"
      ],
      "execution_count": null,
      "outputs": [
        {
          "output_type": "stream",
          "text": [
            "/usr/local/lib/python3.6/dist-packages/ipykernel_launcher.py:2: SettingWithCopyWarning: \n",
            "A value is trying to be set on a copy of a slice from a DataFrame.\n",
            "Try using .loc[row_indexer,col_indexer] = value instead\n",
            "\n",
            "See the caveats in the documentation: https://pandas.pydata.org/pandas-docs/stable/user_guide/indexing.html#returning-a-view-versus-a-copy\n",
            "  \n"
          ],
          "name": "stderr"
        },
        {
          "output_type": "execute_result",
          "data": {
            "text/html": [
              "<div>\n",
              "<style scoped>\n",
              "    .dataframe tbody tr th:only-of-type {\n",
              "        vertical-align: middle;\n",
              "    }\n",
              "\n",
              "    .dataframe tbody tr th {\n",
              "        vertical-align: top;\n",
              "    }\n",
              "\n",
              "    .dataframe thead th {\n",
              "        text-align: right;\n",
              "    }\n",
              "</style>\n",
              "<table border=\"1\" class=\"dataframe\">\n",
              "  <thead>\n",
              "    <tr style=\"text-align: right;\">\n",
              "      <th></th>\n",
              "      <th>_id</th>\n",
              "      <th>username</th>\n",
              "      <th>role</th>\n",
              "      <th>supporter</th>\n",
              "      <th>verified</th>\n",
              "      <th>country</th>\n",
              "      <th>gamesplayed</th>\n",
              "      <th>gameswon</th>\n",
              "      <th>rating</th>\n",
              "      <th>glicko</th>\n",
              "      <th>rd</th>\n",
              "      <th>rank</th>\n",
              "      <th>apm</th>\n",
              "      <th>pps</th>\n",
              "      <th>vs</th>\n",
              "      <th>decaying</th>\n",
              "      <th>rank_num</th>\n",
              "    </tr>\n",
              "  </thead>\n",
              "  <tbody>\n",
              "    <tr>\n",
              "      <th>0</th>\n",
              "      <td>5e844b0868270e617d52c990</td>\n",
              "      <td>czsmall0402</td>\n",
              "      <td>user</td>\n",
              "      <td>True</td>\n",
              "      <td>False</td>\n",
              "      <td>NaN</td>\n",
              "      <td>238</td>\n",
              "      <td>215</td>\n",
              "      <td>24978.632540</td>\n",
              "      <td>3363</td>\n",
              "      <td>84</td>\n",
              "      <td>x</td>\n",
              "      <td>146.55</td>\n",
              "      <td>3.19</td>\n",
              "      <td>321.62</td>\n",
              "      <td>False</td>\n",
              "      <td>17</td>\n",
              "    </tr>\n",
              "    <tr>\n",
              "      <th>1</th>\n",
              "      <td>5f5dbcc4454e942b4fdfc5fa</td>\n",
              "      <td>vincehd_</td>\n",
              "      <td>user</td>\n",
              "      <td>True</td>\n",
              "      <td>True</td>\n",
              "      <td>PH</td>\n",
              "      <td>162</td>\n",
              "      <td>149</td>\n",
              "      <td>24977.281402</td>\n",
              "      <td>3336</td>\n",
              "      <td>66</td>\n",
              "      <td>x</td>\n",
              "      <td>148.18</td>\n",
              "      <td>3.42</td>\n",
              "      <td>332.45</td>\n",
              "      <td>False</td>\n",
              "      <td>17</td>\n",
              "    </tr>\n",
              "    <tr>\n",
              "      <th>2</th>\n",
              "      <td>5e7cd9b6552a596c95f3c0a0</td>\n",
              "      <td>jason0107</td>\n",
              "      <td>user</td>\n",
              "      <td>NaN</td>\n",
              "      <td>False</td>\n",
              "      <td>TW</td>\n",
              "      <td>203</td>\n",
              "      <td>174</td>\n",
              "      <td>24971.060275</td>\n",
              "      <td>3273</td>\n",
              "      <td>67</td>\n",
              "      <td>x</td>\n",
              "      <td>146.11</td>\n",
              "      <td>3.63</td>\n",
              "      <td>323.59</td>\n",
              "      <td>False</td>\n",
              "      <td>17</td>\n",
              "    </tr>\n",
              "    <tr>\n",
              "      <th>3</th>\n",
              "      <td>6005c355413441e94a56c91f</td>\n",
              "      <td>seunghun1004</td>\n",
              "      <td>user</td>\n",
              "      <td>NaN</td>\n",
              "      <td>False</td>\n",
              "      <td>KR</td>\n",
              "      <td>105</td>\n",
              "      <td>96</td>\n",
              "      <td>24963.111381</td>\n",
              "      <td>3208</td>\n",
              "      <td>66</td>\n",
              "      <td>x</td>\n",
              "      <td>125.46</td>\n",
              "      <td>3.41</td>\n",
              "      <td>284.71</td>\n",
              "      <td>False</td>\n",
              "      <td>17</td>\n",
              "    </tr>\n",
              "    <tr>\n",
              "      <th>4</th>\n",
              "      <td>5eb11da1e47b643b5d12e5f1</td>\n",
              "      <td>gamaover</td>\n",
              "      <td>user</td>\n",
              "      <td>True</td>\n",
              "      <td>True</td>\n",
              "      <td>JP</td>\n",
              "      <td>332</td>\n",
              "      <td>245</td>\n",
              "      <td>24962.642754</td>\n",
              "      <td>3205</td>\n",
              "      <td>66</td>\n",
              "      <td>x</td>\n",
              "      <td>121.62</td>\n",
              "      <td>2.93</td>\n",
              "      <td>279.35</td>\n",
              "      <td>False</td>\n",
              "      <td>17</td>\n",
              "    </tr>\n",
              "    <tr>\n",
              "      <th>...</th>\n",
              "      <td>...</td>\n",
              "      <td>...</td>\n",
              "      <td>...</td>\n",
              "      <td>...</td>\n",
              "      <td>...</td>\n",
              "      <td>...</td>\n",
              "      <td>...</td>\n",
              "      <td>...</td>\n",
              "      <td>...</td>\n",
              "      <td>...</td>\n",
              "      <td>...</td>\n",
              "      <td>...</td>\n",
              "      <td>...</td>\n",
              "      <td>...</td>\n",
              "      <td>...</td>\n",
              "      <td>...</td>\n",
              "      <td>...</td>\n",
              "    </tr>\n",
              "    <tr>\n",
              "      <th>14768</th>\n",
              "      <td>5fc40de613e8c021da3a03fe</td>\n",
              "      <td>blindsixx</td>\n",
              "      <td>user</td>\n",
              "      <td>NaN</td>\n",
              "      <td>False</td>\n",
              "      <td>DO</td>\n",
              "      <td>101</td>\n",
              "      <td>13</td>\n",
              "      <td>234.876448</td>\n",
              "      <td>278</td>\n",
              "      <td>67</td>\n",
              "      <td>d</td>\n",
              "      <td>3.31</td>\n",
              "      <td>0.16</td>\n",
              "      <td>7.32</td>\n",
              "      <td>False</td>\n",
              "      <td>1</td>\n",
              "    </tr>\n",
              "    <tr>\n",
              "      <th>14769</th>\n",
              "      <td>5fed88f67222310b7a4fcc7b</td>\n",
              "      <td>rank_d</td>\n",
              "      <td>user</td>\n",
              "      <td>NaN</td>\n",
              "      <td>False</td>\n",
              "      <td>KR</td>\n",
              "      <td>26</td>\n",
              "      <td>0</td>\n",
              "      <td>234.794148</td>\n",
              "      <td>264</td>\n",
              "      <td>99</td>\n",
              "      <td>d</td>\n",
              "      <td>0.57</td>\n",
              "      <td>8.20</td>\n",
              "      <td>0.95</td>\n",
              "      <td>True</td>\n",
              "      <td>1</td>\n",
              "    </tr>\n",
              "    <tr>\n",
              "      <th>14770</th>\n",
              "      <td>5fe95de14529400ba470617e</td>\n",
              "      <td>shootinstar</td>\n",
              "      <td>user</td>\n",
              "      <td>NaN</td>\n",
              "      <td>False</td>\n",
              "      <td>US</td>\n",
              "      <td>49</td>\n",
              "      <td>4</td>\n",
              "      <td>232.492803</td>\n",
              "      <td>272</td>\n",
              "      <td>83</td>\n",
              "      <td>d</td>\n",
              "      <td>2.65</td>\n",
              "      <td>0.51</td>\n",
              "      <td>6.33</td>\n",
              "      <td>True</td>\n",
              "      <td>1</td>\n",
              "    </tr>\n",
              "    <tr>\n",
              "      <th>14771</th>\n",
              "      <td>5fdbade9e3ea3a3755f37ebf</td>\n",
              "      <td>sis25</td>\n",
              "      <td>user</td>\n",
              "      <td>NaN</td>\n",
              "      <td>False</td>\n",
              "      <td>AR</td>\n",
              "      <td>291</td>\n",
              "      <td>72</td>\n",
              "      <td>217.319911</td>\n",
              "      <td>258</td>\n",
              "      <td>69</td>\n",
              "      <td>d</td>\n",
              "      <td>6.57</td>\n",
              "      <td>0.87</td>\n",
              "      <td>11.89</td>\n",
              "      <td>True</td>\n",
              "      <td>1</td>\n",
              "    </tr>\n",
              "    <tr>\n",
              "      <th>14772</th>\n",
              "      <td>6013a88bf5c57ce9662953b5</td>\n",
              "      <td>ramsesin</td>\n",
              "      <td>user</td>\n",
              "      <td>NaN</td>\n",
              "      <td>False</td>\n",
              "      <td>MX</td>\n",
              "      <td>88</td>\n",
              "      <td>16</td>\n",
              "      <td>213.716272</td>\n",
              "      <td>253</td>\n",
              "      <td>69</td>\n",
              "      <td>d</td>\n",
              "      <td>4.11</td>\n",
              "      <td>0.48</td>\n",
              "      <td>7.85</td>\n",
              "      <td>False</td>\n",
              "      <td>1</td>\n",
              "    </tr>\n",
              "  </tbody>\n",
              "</table>\n",
              "<p>14772 rows × 17 columns</p>\n",
              "</div>"
            ],
            "text/plain": [
              "                            _id      username  role  ...      vs  decaying rank_num\n",
              "0      5e844b0868270e617d52c990   czsmall0402  user  ...  321.62     False       17\n",
              "1      5f5dbcc4454e942b4fdfc5fa      vincehd_  user  ...  332.45     False       17\n",
              "2      5e7cd9b6552a596c95f3c0a0     jason0107  user  ...  323.59     False       17\n",
              "3      6005c355413441e94a56c91f  seunghun1004  user  ...  284.71     False       17\n",
              "4      5eb11da1e47b643b5d12e5f1      gamaover  user  ...  279.35     False       17\n",
              "...                         ...           ...   ...  ...     ...       ...      ...\n",
              "14768  5fc40de613e8c021da3a03fe     blindsixx  user  ...    7.32     False        1\n",
              "14769  5fed88f67222310b7a4fcc7b        rank_d  user  ...    0.95      True        1\n",
              "14770  5fe95de14529400ba470617e   shootinstar  user  ...    6.33      True        1\n",
              "14771  5fdbade9e3ea3a3755f37ebf         sis25  user  ...   11.89      True        1\n",
              "14772  6013a88bf5c57ce9662953b5      ramsesin  user  ...    7.85     False        1\n",
              "\n",
              "[14772 rows x 17 columns]"
            ]
          },
          "metadata": {
            "tags": []
          },
          "execution_count": 20
        }
      ]
    },
    {
      "cell_type": "markdown",
      "metadata": {
        "id": "PFwZp6FCoFLA"
      },
      "source": [
        "The data is currently organized in descending order by rank. As this will cause problems when I later go to split the data into training and test sets, I shuffle the data around."
      ]
    },
    {
      "cell_type": "code",
      "metadata": {
        "colab": {
          "base_uri": "https://localhost:8080/",
          "height": 402
        },
        "id": "WzzME_OLRBwG",
        "outputId": "81946a78-55ff-4766-dafb-7c9ab8ac1442"
      },
      "source": [
        "from sklearn.utils import shuffle\r\n",
        "df_shuffled = shuffle(df, random_state=1)\r\n",
        "df_shuffled = df_shuffled.reset_index(drop=True)\r\n",
        "df_shuffled"
      ],
      "execution_count": null,
      "outputs": [
        {
          "output_type": "execute_result",
          "data": {
            "text/html": [
              "<div>\n",
              "<style scoped>\n",
              "    .dataframe tbody tr th:only-of-type {\n",
              "        vertical-align: middle;\n",
              "    }\n",
              "\n",
              "    .dataframe tbody tr th {\n",
              "        vertical-align: top;\n",
              "    }\n",
              "\n",
              "    .dataframe thead th {\n",
              "        text-align: right;\n",
              "    }\n",
              "</style>\n",
              "<table border=\"1\" class=\"dataframe\">\n",
              "  <thead>\n",
              "    <tr style=\"text-align: right;\">\n",
              "      <th></th>\n",
              "      <th>_id</th>\n",
              "      <th>username</th>\n",
              "      <th>role</th>\n",
              "      <th>supporter</th>\n",
              "      <th>verified</th>\n",
              "      <th>country</th>\n",
              "      <th>gamesplayed</th>\n",
              "      <th>gameswon</th>\n",
              "      <th>rating</th>\n",
              "      <th>glicko</th>\n",
              "      <th>rd</th>\n",
              "      <th>rank</th>\n",
              "      <th>apm</th>\n",
              "      <th>pps</th>\n",
              "      <th>vs</th>\n",
              "      <th>decaying</th>\n",
              "      <th>rank_num</th>\n",
              "    </tr>\n",
              "  </thead>\n",
              "  <tbody>\n",
              "    <tr>\n",
              "      <th>0</th>\n",
              "      <td>5f607c56484fe92b48f63067</td>\n",
              "      <td>t3_sub</td>\n",
              "      <td>user</td>\n",
              "      <td>NaN</td>\n",
              "      <td>False</td>\n",
              "      <td>AU</td>\n",
              "      <td>62</td>\n",
              "      <td>24</td>\n",
              "      <td>1514.299275</td>\n",
              "      <td>779</td>\n",
              "      <td>94</td>\n",
              "      <td>c-</td>\n",
              "      <td>13.54</td>\n",
              "      <td>0.95</td>\n",
              "      <td>24.55</td>\n",
              "      <td>True</td>\n",
              "      <td>3</td>\n",
              "    </tr>\n",
              "    <tr>\n",
              "      <th>1</th>\n",
              "      <td>5fca67ab13e8c021da3b1a9c</td>\n",
              "      <td>water_t</td>\n",
              "      <td>user</td>\n",
              "      <td>NaN</td>\n",
              "      <td>False</td>\n",
              "      <td>CA</td>\n",
              "      <td>49</td>\n",
              "      <td>23</td>\n",
              "      <td>4921.120944</td>\n",
              "      <td>1131</td>\n",
              "      <td>76</td>\n",
              "      <td>b-</td>\n",
              "      <td>11.65</td>\n",
              "      <td>0.86</td>\n",
              "      <td>26.27</td>\n",
              "      <td>True</td>\n",
              "      <td>6</td>\n",
              "    </tr>\n",
              "    <tr>\n",
              "      <th>2</th>\n",
              "      <td>5fe01e0a194c617f9dea3d88</td>\n",
              "      <td>kingraf</td>\n",
              "      <td>user</td>\n",
              "      <td>NaN</td>\n",
              "      <td>False</td>\n",
              "      <td>US</td>\n",
              "      <td>246</td>\n",
              "      <td>126</td>\n",
              "      <td>19138.234100</td>\n",
              "      <td>1810</td>\n",
              "      <td>62</td>\n",
              "      <td>s</td>\n",
              "      <td>30.43</td>\n",
              "      <td>1.26</td>\n",
              "      <td>68.91</td>\n",
              "      <td>False</td>\n",
              "      <td>13</td>\n",
              "    </tr>\n",
              "    <tr>\n",
              "      <th>3</th>\n",
              "      <td>5fe46f882f7ee40b88d6f466</td>\n",
              "      <td>dzhd</td>\n",
              "      <td>user</td>\n",
              "      <td>NaN</td>\n",
              "      <td>False</td>\n",
              "      <td>RU</td>\n",
              "      <td>96</td>\n",
              "      <td>45</td>\n",
              "      <td>7681.431802</td>\n",
              "      <td>1287</td>\n",
              "      <td>63</td>\n",
              "      <td>b</td>\n",
              "      <td>12.32</td>\n",
              "      <td>0.88</td>\n",
              "      <td>26.38</td>\n",
              "      <td>False</td>\n",
              "      <td>7</td>\n",
              "    </tr>\n",
              "    <tr>\n",
              "      <th>4</th>\n",
              "      <td>5ed75205c866ed27dd1408a2</td>\n",
              "      <td>catgras</td>\n",
              "      <td>user</td>\n",
              "      <td>NaN</td>\n",
              "      <td>False</td>\n",
              "      <td>RO</td>\n",
              "      <td>326</td>\n",
              "      <td>152</td>\n",
              "      <td>9585.521157</td>\n",
              "      <td>1375</td>\n",
              "      <td>66</td>\n",
              "      <td>b+</td>\n",
              "      <td>15.23</td>\n",
              "      <td>0.90</td>\n",
              "      <td>30.22</td>\n",
              "      <td>False</td>\n",
              "      <td>8</td>\n",
              "    </tr>\n",
              "    <tr>\n",
              "      <th>...</th>\n",
              "      <td>...</td>\n",
              "      <td>...</td>\n",
              "      <td>...</td>\n",
              "      <td>...</td>\n",
              "      <td>...</td>\n",
              "      <td>...</td>\n",
              "      <td>...</td>\n",
              "      <td>...</td>\n",
              "      <td>...</td>\n",
              "      <td>...</td>\n",
              "      <td>...</td>\n",
              "      <td>...</td>\n",
              "      <td>...</td>\n",
              "      <td>...</td>\n",
              "      <td>...</td>\n",
              "      <td>...</td>\n",
              "      <td>...</td>\n",
              "    </tr>\n",
              "    <tr>\n",
              "      <th>14767</th>\n",
              "      <td>5f3b3b25fdafc22e7e010648</td>\n",
              "      <td>coffeemugchii</td>\n",
              "      <td>user</td>\n",
              "      <td>NaN</td>\n",
              "      <td>False</td>\n",
              "      <td>NaN</td>\n",
              "      <td>482</td>\n",
              "      <td>268</td>\n",
              "      <td>22697.542517</td>\n",
              "      <td>2099</td>\n",
              "      <td>61</td>\n",
              "      <td>ss</td>\n",
              "      <td>46.55</td>\n",
              "      <td>1.60</td>\n",
              "      <td>110.26</td>\n",
              "      <td>False</td>\n",
              "      <td>15</td>\n",
              "    </tr>\n",
              "    <tr>\n",
              "      <th>14768</th>\n",
              "      <td>60073063413441e94a570e0e</td>\n",
              "      <td>toosavage</td>\n",
              "      <td>user</td>\n",
              "      <td>NaN</td>\n",
              "      <td>False</td>\n",
              "      <td>DE</td>\n",
              "      <td>345</td>\n",
              "      <td>178</td>\n",
              "      <td>14954.820443</td>\n",
              "      <td>1604</td>\n",
              "      <td>61</td>\n",
              "      <td>a+</td>\n",
              "      <td>20.13</td>\n",
              "      <td>1.03</td>\n",
              "      <td>43.21</td>\n",
              "      <td>False</td>\n",
              "      <td>11</td>\n",
              "    </tr>\n",
              "    <tr>\n",
              "      <th>14769</th>\n",
              "      <td>5ff33e4d1f4167321fd0de19</td>\n",
              "      <td>ritmo</td>\n",
              "      <td>user</td>\n",
              "      <td>NaN</td>\n",
              "      <td>False</td>\n",
              "      <td>TW</td>\n",
              "      <td>302</td>\n",
              "      <td>152</td>\n",
              "      <td>3398.425110</td>\n",
              "      <td>1016</td>\n",
              "      <td>62</td>\n",
              "      <td>c+</td>\n",
              "      <td>17.68</td>\n",
              "      <td>0.99</td>\n",
              "      <td>31.83</td>\n",
              "      <td>False</td>\n",
              "      <td>5</td>\n",
              "    </tr>\n",
              "    <tr>\n",
              "      <th>14770</th>\n",
              "      <td>5fa4c4b7985bcb97361bfca7</td>\n",
              "      <td>baizhou0205</td>\n",
              "      <td>user</td>\n",
              "      <td>NaN</td>\n",
              "      <td>False</td>\n",
              "      <td>CN</td>\n",
              "      <td>261</td>\n",
              "      <td>149</td>\n",
              "      <td>24212.666688</td>\n",
              "      <td>2400</td>\n",
              "      <td>76</td>\n",
              "      <td>u</td>\n",
              "      <td>77.46</td>\n",
              "      <td>2.24</td>\n",
              "      <td>172.28</td>\n",
              "      <td>True</td>\n",
              "      <td>16</td>\n",
              "    </tr>\n",
              "    <tr>\n",
              "      <th>14771</th>\n",
              "      <td>5f7c5e7c29d2ff3bf90b4898</td>\n",
              "      <td>cicada3301</td>\n",
              "      <td>user</td>\n",
              "      <td>NaN</td>\n",
              "      <td>False</td>\n",
              "      <td>US</td>\n",
              "      <td>72</td>\n",
              "      <td>34</td>\n",
              "      <td>1832.195653</td>\n",
              "      <td>833</td>\n",
              "      <td>74</td>\n",
              "      <td>c-</td>\n",
              "      <td>12.44</td>\n",
              "      <td>1.15</td>\n",
              "      <td>23.43</td>\n",
              "      <td>True</td>\n",
              "      <td>3</td>\n",
              "    </tr>\n",
              "  </tbody>\n",
              "</table>\n",
              "<p>14772 rows × 17 columns</p>\n",
              "</div>"
            ],
            "text/plain": [
              "                            _id       username  ... decaying rank_num\n",
              "0      5f607c56484fe92b48f63067         t3_sub  ...     True        3\n",
              "1      5fca67ab13e8c021da3b1a9c        water_t  ...     True        6\n",
              "2      5fe01e0a194c617f9dea3d88        kingraf  ...    False       13\n",
              "3      5fe46f882f7ee40b88d6f466           dzhd  ...    False        7\n",
              "4      5ed75205c866ed27dd1408a2        catgras  ...    False        8\n",
              "...                         ...            ...  ...      ...      ...\n",
              "14767  5f3b3b25fdafc22e7e010648  coffeemugchii  ...    False       15\n",
              "14768  60073063413441e94a570e0e      toosavage  ...    False       11\n",
              "14769  5ff33e4d1f4167321fd0de19          ritmo  ...    False        5\n",
              "14770  5fa4c4b7985bcb97361bfca7    baizhou0205  ...     True       16\n",
              "14771  5f7c5e7c29d2ff3bf90b4898     cicada3301  ...     True        3\n",
              "\n",
              "[14772 rows x 17 columns]"
            ]
          },
          "metadata": {
            "tags": []
          },
          "execution_count": 21
        }
      ]
    },
    {
      "cell_type": "markdown",
      "metadata": {
        "id": "NreNQwUroW_W"
      },
      "source": [
        "Here I get the data that can possibly be used in training a model"
      ]
    },
    {
      "cell_type": "code",
      "metadata": {
        "colab": {
          "base_uri": "https://localhost:8080/",
          "height": 402
        },
        "id": "e4QqIOamxG3D",
        "outputId": "8cd647cd-338b-4445-cc74-595ed5664ca6"
      },
      "source": [
        "main_df = df_shuffled.loc[:,\"gamesplayed\":\"vs\"]\r\n",
        "main_df[\"rank_num\"] = df_shuffled[\"rank_num\"]\r\n",
        "main_df"
      ],
      "execution_count": null,
      "outputs": [
        {
          "output_type": "execute_result",
          "data": {
            "text/html": [
              "<div>\n",
              "<style scoped>\n",
              "    .dataframe tbody tr th:only-of-type {\n",
              "        vertical-align: middle;\n",
              "    }\n",
              "\n",
              "    .dataframe tbody tr th {\n",
              "        vertical-align: top;\n",
              "    }\n",
              "\n",
              "    .dataframe thead th {\n",
              "        text-align: right;\n",
              "    }\n",
              "</style>\n",
              "<table border=\"1\" class=\"dataframe\">\n",
              "  <thead>\n",
              "    <tr style=\"text-align: right;\">\n",
              "      <th></th>\n",
              "      <th>gamesplayed</th>\n",
              "      <th>gameswon</th>\n",
              "      <th>rating</th>\n",
              "      <th>glicko</th>\n",
              "      <th>rd</th>\n",
              "      <th>rank</th>\n",
              "      <th>apm</th>\n",
              "      <th>pps</th>\n",
              "      <th>vs</th>\n",
              "      <th>rank_num</th>\n",
              "    </tr>\n",
              "  </thead>\n",
              "  <tbody>\n",
              "    <tr>\n",
              "      <th>0</th>\n",
              "      <td>62</td>\n",
              "      <td>24</td>\n",
              "      <td>1514.299275</td>\n",
              "      <td>779</td>\n",
              "      <td>94</td>\n",
              "      <td>c-</td>\n",
              "      <td>13.54</td>\n",
              "      <td>0.95</td>\n",
              "      <td>24.55</td>\n",
              "      <td>3</td>\n",
              "    </tr>\n",
              "    <tr>\n",
              "      <th>1</th>\n",
              "      <td>49</td>\n",
              "      <td>23</td>\n",
              "      <td>4921.120944</td>\n",
              "      <td>1131</td>\n",
              "      <td>76</td>\n",
              "      <td>b-</td>\n",
              "      <td>11.65</td>\n",
              "      <td>0.86</td>\n",
              "      <td>26.27</td>\n",
              "      <td>6</td>\n",
              "    </tr>\n",
              "    <tr>\n",
              "      <th>2</th>\n",
              "      <td>246</td>\n",
              "      <td>126</td>\n",
              "      <td>19138.234100</td>\n",
              "      <td>1810</td>\n",
              "      <td>62</td>\n",
              "      <td>s</td>\n",
              "      <td>30.43</td>\n",
              "      <td>1.26</td>\n",
              "      <td>68.91</td>\n",
              "      <td>13</td>\n",
              "    </tr>\n",
              "    <tr>\n",
              "      <th>3</th>\n",
              "      <td>96</td>\n",
              "      <td>45</td>\n",
              "      <td>7681.431802</td>\n",
              "      <td>1287</td>\n",
              "      <td>63</td>\n",
              "      <td>b</td>\n",
              "      <td>12.32</td>\n",
              "      <td>0.88</td>\n",
              "      <td>26.38</td>\n",
              "      <td>7</td>\n",
              "    </tr>\n",
              "    <tr>\n",
              "      <th>4</th>\n",
              "      <td>326</td>\n",
              "      <td>152</td>\n",
              "      <td>9585.521157</td>\n",
              "      <td>1375</td>\n",
              "      <td>66</td>\n",
              "      <td>b+</td>\n",
              "      <td>15.23</td>\n",
              "      <td>0.90</td>\n",
              "      <td>30.22</td>\n",
              "      <td>8</td>\n",
              "    </tr>\n",
              "    <tr>\n",
              "      <th>...</th>\n",
              "      <td>...</td>\n",
              "      <td>...</td>\n",
              "      <td>...</td>\n",
              "      <td>...</td>\n",
              "      <td>...</td>\n",
              "      <td>...</td>\n",
              "      <td>...</td>\n",
              "      <td>...</td>\n",
              "      <td>...</td>\n",
              "      <td>...</td>\n",
              "    </tr>\n",
              "    <tr>\n",
              "      <th>14767</th>\n",
              "      <td>482</td>\n",
              "      <td>268</td>\n",
              "      <td>22697.542517</td>\n",
              "      <td>2099</td>\n",
              "      <td>61</td>\n",
              "      <td>ss</td>\n",
              "      <td>46.55</td>\n",
              "      <td>1.60</td>\n",
              "      <td>110.26</td>\n",
              "      <td>15</td>\n",
              "    </tr>\n",
              "    <tr>\n",
              "      <th>14768</th>\n",
              "      <td>345</td>\n",
              "      <td>178</td>\n",
              "      <td>14954.820443</td>\n",
              "      <td>1604</td>\n",
              "      <td>61</td>\n",
              "      <td>a+</td>\n",
              "      <td>20.13</td>\n",
              "      <td>1.03</td>\n",
              "      <td>43.21</td>\n",
              "      <td>11</td>\n",
              "    </tr>\n",
              "    <tr>\n",
              "      <th>14769</th>\n",
              "      <td>302</td>\n",
              "      <td>152</td>\n",
              "      <td>3398.425110</td>\n",
              "      <td>1016</td>\n",
              "      <td>62</td>\n",
              "      <td>c+</td>\n",
              "      <td>17.68</td>\n",
              "      <td>0.99</td>\n",
              "      <td>31.83</td>\n",
              "      <td>5</td>\n",
              "    </tr>\n",
              "    <tr>\n",
              "      <th>14770</th>\n",
              "      <td>261</td>\n",
              "      <td>149</td>\n",
              "      <td>24212.666688</td>\n",
              "      <td>2400</td>\n",
              "      <td>76</td>\n",
              "      <td>u</td>\n",
              "      <td>77.46</td>\n",
              "      <td>2.24</td>\n",
              "      <td>172.28</td>\n",
              "      <td>16</td>\n",
              "    </tr>\n",
              "    <tr>\n",
              "      <th>14771</th>\n",
              "      <td>72</td>\n",
              "      <td>34</td>\n",
              "      <td>1832.195653</td>\n",
              "      <td>833</td>\n",
              "      <td>74</td>\n",
              "      <td>c-</td>\n",
              "      <td>12.44</td>\n",
              "      <td>1.15</td>\n",
              "      <td>23.43</td>\n",
              "      <td>3</td>\n",
              "    </tr>\n",
              "  </tbody>\n",
              "</table>\n",
              "<p>14772 rows × 10 columns</p>\n",
              "</div>"
            ],
            "text/plain": [
              "       gamesplayed  gameswon        rating  ...   pps      vs rank_num\n",
              "0               62        24   1514.299275  ...  0.95   24.55        3\n",
              "1               49        23   4921.120944  ...  0.86   26.27        6\n",
              "2              246       126  19138.234100  ...  1.26   68.91       13\n",
              "3               96        45   7681.431802  ...  0.88   26.38        7\n",
              "4              326       152   9585.521157  ...  0.90   30.22        8\n",
              "...            ...       ...           ...  ...   ...     ...      ...\n",
              "14767          482       268  22697.542517  ...  1.60  110.26       15\n",
              "14768          345       178  14954.820443  ...  1.03   43.21       11\n",
              "14769          302       152   3398.425110  ...  0.99   31.83        5\n",
              "14770          261       149  24212.666688  ...  2.24  172.28       16\n",
              "14771           72        34   1832.195653  ...  1.15   23.43        3\n",
              "\n",
              "[14772 rows x 10 columns]"
            ]
          },
          "metadata": {
            "tags": []
          },
          "execution_count": 22
        }
      ]
    },
    {
      "cell_type": "code",
      "metadata": {
        "colab": {
          "base_uri": "https://localhost:8080/",
          "height": 670
        },
        "id": "E-6xCkbDyGTr",
        "outputId": "0ba4895d-c11e-4632-8bf5-37aec3b4aa1e"
      },
      "source": [
        "corr_mat = main_df.corr()\r\n",
        "fig, ax = plt.subplots(figsize=(10,10))\r\n",
        "sns.heatmap(corr_mat, annot=True)"
      ],
      "execution_count": null,
      "outputs": [
        {
          "output_type": "execute_result",
          "data": {
            "text/plain": [
              "<matplotlib.axes._subplots.AxesSubplot at 0x7fe2fce73c88>"
            ]
          },
          "metadata": {
            "tags": []
          },
          "execution_count": 23
        },
        {
          "output_type": "display_data",
          "data": {
            "image/png": "[encoded data removed]",
            "text/plain": [
              "<Figure size 720x720 with 2 Axes>"
            ]
          },
          "metadata": {
            "tags": [],
            "needs_background": "dark"
          }
        }
      ]
    },
    {
      "cell_type": "markdown",
      "metadata": {
        "id": "QVWTyumZ2LXj"
      },
      "source": [
        "We can't use rating, glicko, rd, since they directly determine rank.\r\n",
        "\r\n",
        "---\r\n",
        "\r\n"
      ]
    },
    {
      "cell_type": "code",
      "metadata": {
        "colab": {
          "base_uri": "https://localhost:8080/",
          "height": 638
        },
        "id": "GJ3y9lhC3xmF",
        "outputId": "2ac8b8b2-58f8-447f-9e83-8ccc79d41bbb"
      },
      "source": [
        "fig, ax = plt.subplots(figsize=(10,10))\r\n",
        "ax.scatter(main_df.rank_num, main_df.apm)\r\n",
        "ax.set_xlabel(\"Numerical Rank\")\r\n",
        "ax.set_ylabel(\"Attack Per Minute\")\r\n",
        "ax.set_title(\"Rank vs APM\")"
      ],
      "execution_count": null,
      "outputs": [
        {
          "output_type": "execute_result",
          "data": {
            "text/plain": [
              "Text(0.5, 1.0, 'Rank vs APM')"
            ]
          },
          "metadata": {
            "tags": []
          },
          "execution_count": 24
        },
        {
          "output_type": "display_data",
          "data": {
            "image/png": "[encoded data removed]",
            "text/plain": [
              "<Figure size 720x720 with 1 Axes>"
            ]
          },
          "metadata": {
            "tags": [],
            "needs_background": "dark"
          }
        }
      ]
    },
    {
      "cell_type": "code",
      "metadata": {
        "colab": {
          "base_uri": "https://localhost:8080/",
          "height": 638
        },
        "id": "sv1vbKhv544P",
        "outputId": "f7b33436-58d7-4130-9235-0d21d6a43f0c"
      },
      "source": [
        "fig, ax = plt.subplots(figsize=(10,10))\r\n",
        "ax.scatter(main_df.rank_num, main_df.pps)\r\n",
        "ax.set_xlabel(\"Numerical Rank\")\r\n",
        "ax.set_ylabel(\"Pieces Per Second\")\r\n",
        "ax.set_title(\"Rank vs PPS\")"
      ],
      "execution_count": null,
      "outputs": [
        {
          "output_type": "execute_result",
          "data": {
            "text/plain": [
              "Text(0.5, 1.0, 'Rank vs PPS')"
            ]
          },
          "metadata": {
            "tags": []
          },
          "execution_count": 25
        },
        {
          "output_type": "display_data",
          "data": {
            "image/png": "[encoded data removed]",
            "text/plain": [
              "<Figure size 720x720 with 1 Axes>"
            ]
          },
          "metadata": {
            "tags": [],
            "needs_background": "dark"
          }
        }
      ]
    },
    {
      "cell_type": "markdown",
      "metadata": {
        "id": "QDGIPXxK9Bgj"
      },
      "source": [
        "We can see servere outliers in the above 5 pps yet d-tier range"
      ]
    },
    {
      "cell_type": "code",
      "metadata": {
        "colab": {
          "base_uri": "https://localhost:8080/",
          "height": 136
        },
        "id": "-IQVJZEN6GTP",
        "outputId": "08520658-7ee2-4b82-c178-7a9df999b363"
      },
      "source": [
        "main_df[main_df.pps > 5]"
      ],
      "execution_count": null,
      "outputs": [
        {
          "output_type": "execute_result",
          "data": {
            "text/html": [
              "<div>\n",
              "<style scoped>\n",
              "    .dataframe tbody tr th:only-of-type {\n",
              "        vertical-align: middle;\n",
              "    }\n",
              "\n",
              "    .dataframe tbody tr th {\n",
              "        vertical-align: top;\n",
              "    }\n",
              "\n",
              "    .dataframe thead th {\n",
              "        text-align: right;\n",
              "    }\n",
              "</style>\n",
              "<table border=\"1\" class=\"dataframe\">\n",
              "  <thead>\n",
              "    <tr style=\"text-align: right;\">\n",
              "      <th></th>\n",
              "      <th>gamesplayed</th>\n",
              "      <th>gameswon</th>\n",
              "      <th>rating</th>\n",
              "      <th>glicko</th>\n",
              "      <th>rd</th>\n",
              "      <th>rank</th>\n",
              "      <th>apm</th>\n",
              "      <th>pps</th>\n",
              "      <th>vs</th>\n",
              "      <th>rank_num</th>\n",
              "    </tr>\n",
              "  </thead>\n",
              "  <tbody>\n",
              "    <tr>\n",
              "      <th>7823</th>\n",
              "      <td>26</td>\n",
              "      <td>0</td>\n",
              "      <td>234.794148</td>\n",
              "      <td>264</td>\n",
              "      <td>99</td>\n",
              "      <td>d</td>\n",
              "      <td>0.57</td>\n",
              "      <td>8.20</td>\n",
              "      <td>0.95</td>\n",
              "      <td>1</td>\n",
              "    </tr>\n",
              "    <tr>\n",
              "      <th>9131</th>\n",
              "      <td>50</td>\n",
              "      <td>1</td>\n",
              "      <td>235.853265</td>\n",
              "      <td>279</td>\n",
              "      <td>86</td>\n",
              "      <td>d</td>\n",
              "      <td>5.70</td>\n",
              "      <td>7.73</td>\n",
              "      <td>10.38</td>\n",
              "      <td>1</td>\n",
              "    </tr>\n",
              "    <tr>\n",
              "      <th>11771</th>\n",
              "      <td>18</td>\n",
              "      <td>3</td>\n",
              "      <td>1042.000148</td>\n",
              "      <td>671</td>\n",
              "      <td>91</td>\n",
              "      <td>d+</td>\n",
              "      <td>15.27</td>\n",
              "      <td>5.57</td>\n",
              "      <td>25.71</td>\n",
              "      <td>2</td>\n",
              "    </tr>\n",
              "  </tbody>\n",
              "</table>\n",
              "</div>"
            ],
            "text/plain": [
              "       gamesplayed  gameswon       rating  glicko  ...    apm   pps     vs  rank_num\n",
              "7823            26         0   234.794148     264  ...   0.57  8.20   0.95         1\n",
              "9131            50         1   235.853265     279  ...   5.70  7.73  10.38         1\n",
              "11771           18         3  1042.000148     671  ...  15.27  5.57  25.71         2\n",
              "\n",
              "[3 rows x 10 columns]"
            ]
          },
          "metadata": {
            "tags": []
          },
          "execution_count": 26
        }
      ]
    },
    {
      "cell_type": "code",
      "metadata": {
        "colab": {
          "base_uri": "https://localhost:8080/",
          "height": 638
        },
        "id": "z1ZdsOHz9Jph",
        "outputId": "b9be229c-347c-4862-c778-14a5301f5324"
      },
      "source": [
        "fig, ax = plt.subplots(figsize=(10,10))\r\n",
        "ax.scatter(main_df.rank_num, main_df.vs)\r\n",
        "ax.set_xlabel(\"Numerical Rank\")\r\n",
        "ax.set_ylabel(\"VS Score\")\r\n",
        "ax.set_title(\"Rank vs VS\")"
      ],
      "execution_count": null,
      "outputs": [
        {
          "output_type": "execute_result",
          "data": {
            "text/plain": [
              "Text(0.5, 1.0, 'Rank vs VS')"
            ]
          },
          "metadata": {
            "tags": []
          },
          "execution_count": 27
        },
        {
          "output_type": "display_data",
          "data": {
            "image/png": "[encoded data removed]",
            "text/plain": [
              "<Figure size 720x720 with 1 Axes>"
            ]
          },
          "metadata": {
            "tags": [],
            "needs_background": "dark"
          }
        }
      ]
    },
    {
      "cell_type": "markdown",
      "metadata": {
        "id": "okMS0PUwHYFB"
      },
      "source": [
        "Remove the pps outliers"
      ]
    },
    {
      "cell_type": "code",
      "metadata": {
        "id": "jq8hZkKYHaUi"
      },
      "source": [
        "main_df = main_df[main_df.pps < 5]"
      ],
      "execution_count": null,
      "outputs": []
    },
    {
      "cell_type": "code",
      "metadata": {
        "colab": {
          "base_uri": "https://localhost:8080/",
          "height": 638
        },
        "id": "oKHcSy-DHlTw",
        "outputId": "fef0876c-dd5e-4682-b347-19756678f392"
      },
      "source": [
        "fig, ax = plt.subplots(figsize=(10,10))\r\n",
        "ax.scatter(main_df.rank_num, main_df.pps)\r\n",
        "ax.set_xlabel(\"Numerical Rank\")\r\n",
        "ax.set_ylabel(\"Pieces Per Second\")\r\n",
        "ax.set_title(\"Rank vs PPS\")"
      ],
      "execution_count": null,
      "outputs": [
        {
          "output_type": "execute_result",
          "data": {
            "text/plain": [
              "Text(0.5, 1.0, 'Rank vs PPS')"
            ]
          },
          "metadata": {
            "tags": []
          },
          "execution_count": 29
        },
        {
          "output_type": "display_data",
          "data": {
            "image/png": "[encoded data removed]",
            "text/plain": [
              "<Figure size 720x720 with 1 Axes>"
            ]
          },
          "metadata": {
            "tags": [],
            "needs_background": "dark"
          }
        }
      ]
    },
    {
      "cell_type": "markdown",
      "metadata": {
        "id": "QgyXELZrovJW"
      },
      "source": [
        "Split the data into X & y for what I use to predict and what I want to predict."
      ]
    },
    {
      "cell_type": "code",
      "metadata": {
        "colab": {
          "base_uri": "https://localhost:8080/",
          "height": 402
        },
        "id": "VDO_q6U2Rnr2",
        "outputId": "3753605a-4b03-42f4-9d51-cb1d75700220"
      },
      "source": [
        "df_x = main_df.loc[:,['apm', 'pps', 'vs']]\r\n",
        "df_x"
      ],
      "execution_count": null,
      "outputs": [
        {
          "output_type": "execute_result",
          "data": {
            "text/html": [
              "<div>\n",
              "<style scoped>\n",
              "    .dataframe tbody tr th:only-of-type {\n",
              "        vertical-align: middle;\n",
              "    }\n",
              "\n",
              "    .dataframe tbody tr th {\n",
              "        vertical-align: top;\n",
              "    }\n",
              "\n",
              "    .dataframe thead th {\n",
              "        text-align: right;\n",
              "    }\n",
              "</style>\n",
              "<table border=\"1\" class=\"dataframe\">\n",
              "  <thead>\n",
              "    <tr style=\"text-align: right;\">\n",
              "      <th></th>\n",
              "      <th>apm</th>\n",
              "      <th>pps</th>\n",
              "      <th>vs</th>\n",
              "    </tr>\n",
              "  </thead>\n",
              "  <tbody>\n",
              "    <tr>\n",
              "      <th>0</th>\n",
              "      <td>13.54</td>\n",
              "      <td>0.95</td>\n",
              "      <td>24.55</td>\n",
              "    </tr>\n",
              "    <tr>\n",
              "      <th>1</th>\n",
              "      <td>11.65</td>\n",
              "      <td>0.86</td>\n",
              "      <td>26.27</td>\n",
              "    </tr>\n",
              "    <tr>\n",
              "      <th>2</th>\n",
              "      <td>30.43</td>\n",
              "      <td>1.26</td>\n",
              "      <td>68.91</td>\n",
              "    </tr>\n",
              "    <tr>\n",
              "      <th>3</th>\n",
              "      <td>12.32</td>\n",
              "      <td>0.88</td>\n",
              "      <td>26.38</td>\n",
              "    </tr>\n",
              "    <tr>\n",
              "      <th>4</th>\n",
              "      <td>15.23</td>\n",
              "      <td>0.90</td>\n",
              "      <td>30.22</td>\n",
              "    </tr>\n",
              "    <tr>\n",
              "      <th>...</th>\n",
              "      <td>...</td>\n",
              "      <td>...</td>\n",
              "      <td>...</td>\n",
              "    </tr>\n",
              "    <tr>\n",
              "      <th>14767</th>\n",
              "      <td>46.55</td>\n",
              "      <td>1.60</td>\n",
              "      <td>110.26</td>\n",
              "    </tr>\n",
              "    <tr>\n",
              "      <th>14768</th>\n",
              "      <td>20.13</td>\n",
              "      <td>1.03</td>\n",
              "      <td>43.21</td>\n",
              "    </tr>\n",
              "    <tr>\n",
              "      <th>14769</th>\n",
              "      <td>17.68</td>\n",
              "      <td>0.99</td>\n",
              "      <td>31.83</td>\n",
              "    </tr>\n",
              "    <tr>\n",
              "      <th>14770</th>\n",
              "      <td>77.46</td>\n",
              "      <td>2.24</td>\n",
              "      <td>172.28</td>\n",
              "    </tr>\n",
              "    <tr>\n",
              "      <th>14771</th>\n",
              "      <td>12.44</td>\n",
              "      <td>1.15</td>\n",
              "      <td>23.43</td>\n",
              "    </tr>\n",
              "  </tbody>\n",
              "</table>\n",
              "<p>14769 rows × 3 columns</p>\n",
              "</div>"
            ],
            "text/plain": [
              "         apm   pps      vs\n",
              "0      13.54  0.95   24.55\n",
              "1      11.65  0.86   26.27\n",
              "2      30.43  1.26   68.91\n",
              "3      12.32  0.88   26.38\n",
              "4      15.23  0.90   30.22\n",
              "...      ...   ...     ...\n",
              "14767  46.55  1.60  110.26\n",
              "14768  20.13  1.03   43.21\n",
              "14769  17.68  0.99   31.83\n",
              "14770  77.46  2.24  172.28\n",
              "14771  12.44  1.15   23.43\n",
              "\n",
              "[14769 rows x 3 columns]"
            ]
          },
          "metadata": {
            "tags": []
          },
          "execution_count": 30
        }
      ]
    },
    {
      "cell_type": "code",
      "metadata": {
        "colab": {
          "base_uri": "https://localhost:8080/"
        },
        "id": "_uTySBKGSYmc",
        "outputId": "aadb2d9f-6c04-4a54-8cd5-5de547fc643e"
      },
      "source": [
        "df_y = main_df['rank_num']\r\n",
        "df_y"
      ],
      "execution_count": null,
      "outputs": [
        {
          "output_type": "execute_result",
          "data": {
            "text/plain": [
              "0         3\n",
              "1         6\n",
              "2        13\n",
              "3         7\n",
              "4         8\n",
              "         ..\n",
              "14767    15\n",
              "14768    11\n",
              "14769     5\n",
              "14770    16\n",
              "14771     3\n",
              "Name: rank_num, Length: 14769, dtype: int64"
            ]
          },
          "metadata": {
            "tags": []
          },
          "execution_count": 31
        }
      ]
    },
    {
      "cell_type": "markdown",
      "metadata": {
        "id": "2OSnlALUo7Aw"
      },
      "source": [
        "Split the data into train and test sets"
      ]
    },
    {
      "cell_type": "code",
      "metadata": {
        "id": "kpuYJU5tVY6k"
      },
      "source": [
        "from sklearn.model_selection import train_test_split\r\n",
        "X_train, X_test, y_train, y_test = train_test_split(df_x, df_y, train_size=0.7, random_state=1)"
      ],
      "execution_count": null,
      "outputs": []
    },
    {
      "cell_type": "code",
      "metadata": {
        "colab": {
          "base_uri": "https://localhost:8080/"
        },
        "id": "ZVZvl1vrJH20",
        "outputId": "e14241d6-f3d8-42c0-f2ee-766e41aac48d"
      },
      "source": [
        "X_train.shape, X_test.shape, y_train.shape, y_test.shape"
      ],
      "execution_count": null,
      "outputs": [
        {
          "output_type": "execute_result",
          "data": {
            "text/plain": [
              "((10338, 3), (4431, 3), (10338,), (4431,))"
            ]
          },
          "metadata": {
            "tags": []
          },
          "execution_count": 33
        }
      ]
    },
    {
      "cell_type": "markdown",
      "metadata": {
        "id": "UXl6l0GwpIUW"
      },
      "source": [
        "Use the data to train 3 different classification models and see how they perform"
      ]
    },
    {
      "cell_type": "code",
      "metadata": {
        "id": "n6zduIKaM9p8"
      },
      "source": [
        "models = {\"Logistic Regression\": LogisticRegression(),\r\n",
        "          \"KNN\": KNeighborsClassifier(),\r\n",
        "          \"Random Forest\": RandomForestClassifier()}\r\n",
        "\r\n",
        "def fit_and_score(models, X_train, X_test, y_train, y_test):\r\n",
        "\r\n",
        "  np.random.seed(42)\r\n",
        "\r\n",
        "  model_scores = {}\r\n",
        "\r\n",
        "  for name, model in models.items():\r\n",
        "\r\n",
        "    model.fit(X_train, y_train)\r\n",
        "    model_scores[name] = model.score(X_test, y_test)\r\n",
        "\r\n",
        "  return model_scores"
      ],
      "execution_count": null,
      "outputs": []
    },
    {
      "cell_type": "code",
      "metadata": {
        "colab": {
          "base_uri": "https://localhost:8080/"
        },
        "id": "kmvwpqCNNItN",
        "outputId": "4a2367a7-f36a-4254-9c09-9b37550cd08a"
      },
      "source": [
        "model_scores = fit_and_score(models=models, X_train=X_train, X_test=X_test, y_train=y_train, y_test=y_test)\r\n",
        "model_scores"
      ],
      "execution_count": null,
      "outputs": [
        {
          "output_type": "stream",
          "text": [
            "/usr/local/lib/python3.6/dist-packages/sklearn/linear_model/_logistic.py:940: ConvergenceWarning: lbfgs failed to converge (status=1):\n",
            "STOP: TOTAL NO. of ITERATIONS REACHED LIMIT.\n",
            "\n",
            "Increase the number of iterations (max_iter) or scale the data as shown in:\n",
            "    https://scikit-learn.org/stable/modules/preprocessing.html\n",
            "Please also refer to the documentation for alternative solver options:\n",
            "    https://scikit-learn.org/stable/modules/linear_model.html#logistic-regression\n",
            "  extra_warning_msg=_LOGISTIC_SOLVER_CONVERGENCE_MSG)\n"
          ],
          "name": "stderr"
        },
        {
          "output_type": "execute_result",
          "data": {
            "text/plain": [
              "{'KNN': 0.4287971112615662,\n",
              " 'Logistic Regression': 0.2575039494470774,\n",
              " 'Random Forest': 0.41931843827578424}"
            ]
          },
          "metadata": {
            "tags": []
          },
          "execution_count": 37
        }
      ]
    },
    {
      "cell_type": "code",
      "metadata": {
        "colab": {
          "base_uri": "https://localhost:8080/",
          "height": 368
        },
        "id": "GU0oaBxlNVIc",
        "outputId": "bda6870f-3935-46fb-f668-05045015c557"
      },
      "source": [
        "scores_df = pd.DataFrame(model_scores, index=[\"Accuracy\"])\r\n",
        "scores_df.T.plot.bar()"
      ],
      "execution_count": null,
      "outputs": [
        {
          "output_type": "execute_result",
          "data": {
            "text/plain": [
              "<matplotlib.axes._subplots.AxesSubplot at 0x7fe2f2de2d68>"
            ]
          },
          "metadata": {
            "tags": []
          },
          "execution_count": 38
        },
        {
          "output_type": "display_data",
          "data": {
            "image/png": "[encoded data removed]",
            "text/plain": [
              "<Figure size 432x288 with 1 Axes>"
            ]
          },
          "metadata": {
            "tags": [],
            "needs_background": "dark"
          }
        }
      ]
    },
    {
      "cell_type": "markdown",
      "metadata": {
        "id": "NdbSNXZppQhK"
      },
      "source": [
        "As you can see, it's not doing too well as the highest accuracy is only 42%. I try to tune some hyperparameters to see if there is any change even though I don't expect much."
      ]
    },
    {
      "cell_type": "code",
      "metadata": {
        "colab": {
          "base_uri": "https://localhost:8080/",
          "height": 52
        },
        "id": "vi5bjGT-NvII",
        "outputId": "06511cf8-a5fd-4c7d-99c4-005039b44570"
      },
      "source": [
        "rf_grid = {\"n_estimators\": np.arange(10,1000,50),\r\n",
        "           \"max_depth\": [None, 3, 5, 10],\r\n",
        "           \"min_samples_split\": np.arange(2,20,2),\r\n",
        "           \"min_samples_leaf\": np.arange(1,20,2)}\r\n",
        "\r\n",
        "# Tune RFC with RandomizedSearchCV\r\n",
        "\r\n",
        "np.random.seed(42)\r\n",
        "\r\n",
        "rs_rf = RandomizedSearchCV(RandomForestClassifier(), param_distributions=rf_grid, cv=5, n_iter=20, verbose=True)\r\n",
        "\r\n",
        "rs_rf.fit(X_train, y_train)\r\n"
      ],
      "execution_count": null,
      "outputs": [
        {
          "output_type": "execute_result",
          "data": {
            "application/vnd.google.colaboratory.intrinsic+json": {
              "type": "string"
            },
            "text/plain": [
              "'\\nrf_grid = {\"n_estimators\": np.arange(10,1000,50),\\n           \"max_depth\": [None, 3, 5, 10],\\n           \"min_samples_split\": np.arange(2,20,2),\\n           \"min_samples_leaf\": np.arange(1,20,2)}\\n\\n#Tune RFC with RandomizedSearchCV\\n\\nnp.random.seed(42)\\n\\nrs_rf = RandomizedSearchCV(RandomForestClassifier(), param_distributions=rf_grid, cv=5, n_iter=20, verbose=True)\\n\\nrs_rf.fit(X_train, y_train)\\n'"
            ]
          },
          "metadata": {
            "tags": []
          },
          "execution_count": 39
        }
      ]
    },
    {
      "cell_type": "code",
      "metadata": {
        "id": "FsHsBWSXN-m9"
      },
      "source": [
        "rs_rf.best_params_"
      ],
      "execution_count": null,
      "outputs": []
    },
    {
      "cell_type": "code",
      "metadata": {
        "id": "Jevk334mOExU"
      },
      "source": [
        "rs_rf.score(X_test, y_test)"
      ],
      "execution_count": null,
      "outputs": []
    },
    {
      "cell_type": "code",
      "metadata": {
        "id": "fxzb5nLOP3yq"
      },
      "source": [
        "model = RandomForestClassifier(max_depth=10, min_samples_leaf=9, min_samples_split=16, n_estimators=260)"
      ],
      "execution_count": null,
      "outputs": []
    },
    {
      "cell_type": "markdown",
      "metadata": {
        "id": "Cj10le-NKgtp"
      },
      "source": [
        "In the end, it didn't improve too much. The model couldn't predict the specific ranks correctly most of the time due to many categories to predict as well as rather little distinction between some of the categories. For example, A-, A, and A+ are technically all pretty similar and belong to the same class. By this logic, let's generalize the ranks and merge some of them together. With this, I shrunk the number of categories from 17 to 8, halving the amount and most likely going to provide a significant increase in prediction accuracy."
      ]
    },
    {
      "cell_type": "markdown",
      "metadata": {
        "id": "go6a3SPiqzKU"
      },
      "source": [
        "I do everything like before to pre-process the data"
      ]
    },
    {
      "cell_type": "code",
      "metadata": {
        "id": "8h4zpiMXKPyX",
        "colab": {
          "base_uri": "https://localhost:8080/",
          "height": 502
        },
        "outputId": "aa70609a-2566-480a-9c18-cd48ab1fc851"
      },
      "source": [
        "ranks_grouped = {'d': 1, 'd+': 1, 'c-': 2, 'c': 2, 'c+': 2, 'b-': 3, 'b': 3, 'b+': 3, 'a-': 4, 'a':4, 'a+': 4, 's-': 5, 's': 5, 's+': 5, 'ss': 6, 'u': 7, 'x': 8}\r\n",
        "df['rank_grouped'] = df['rank'].map(ranks_grouped)\r\n",
        "df"
      ],
      "execution_count": null,
      "outputs": [
        {
          "output_type": "stream",
          "text": [
            "/usr/local/lib/python3.6/dist-packages/ipykernel_launcher.py:2: SettingWithCopyWarning: \n",
            "A value is trying to be set on a copy of a slice from a DataFrame.\n",
            "Try using .loc[row_indexer,col_indexer] = value instead\n",
            "\n",
            "See the caveats in the documentation: https://pandas.pydata.org/pandas-docs/stable/user_guide/indexing.html#returning-a-view-versus-a-copy\n",
            "  \n"
          ],
          "name": "stderr"
        },
        {
          "output_type": "execute_result",
          "data": {
            "text/html": [
              "<div>\n",
              "<style scoped>\n",
              "    .dataframe tbody tr th:only-of-type {\n",
              "        vertical-align: middle;\n",
              "    }\n",
              "\n",
              "    .dataframe tbody tr th {\n",
              "        vertical-align: top;\n",
              "    }\n",
              "\n",
              "    .dataframe thead th {\n",
              "        text-align: right;\n",
              "    }\n",
              "</style>\n",
              "<table border=\"1\" class=\"dataframe\">\n",
              "  <thead>\n",
              "    <tr style=\"text-align: right;\">\n",
              "      <th></th>\n",
              "      <th>_id</th>\n",
              "      <th>username</th>\n",
              "      <th>role</th>\n",
              "      <th>supporter</th>\n",
              "      <th>verified</th>\n",
              "      <th>country</th>\n",
              "      <th>gamesplayed</th>\n",
              "      <th>gameswon</th>\n",
              "      <th>rating</th>\n",
              "      <th>glicko</th>\n",
              "      <th>rd</th>\n",
              "      <th>rank</th>\n",
              "      <th>apm</th>\n",
              "      <th>pps</th>\n",
              "      <th>vs</th>\n",
              "      <th>decaying</th>\n",
              "      <th>rank_num</th>\n",
              "      <th>rank_grouped</th>\n",
              "    </tr>\n",
              "  </thead>\n",
              "  <tbody>\n",
              "    <tr>\n",
              "      <th>0</th>\n",
              "      <td>5e844b0868270e617d52c990</td>\n",
              "      <td>czsmall0402</td>\n",
              "      <td>user</td>\n",
              "      <td>True</td>\n",
              "      <td>False</td>\n",
              "      <td>NaN</td>\n",
              "      <td>238</td>\n",
              "      <td>215</td>\n",
              "      <td>24978.632540</td>\n",
              "      <td>3363</td>\n",
              "      <td>84</td>\n",
              "      <td>x</td>\n",
              "      <td>146.55</td>\n",
              "      <td>3.19</td>\n",
              "      <td>321.62</td>\n",
              "      <td>False</td>\n",
              "      <td>17</td>\n",
              "      <td>8</td>\n",
              "    </tr>\n",
              "    <tr>\n",
              "      <th>1</th>\n",
              "      <td>5f5dbcc4454e942b4fdfc5fa</td>\n",
              "      <td>vincehd_</td>\n",
              "      <td>user</td>\n",
              "      <td>True</td>\n",
              "      <td>True</td>\n",
              "      <td>PH</td>\n",
              "      <td>162</td>\n",
              "      <td>149</td>\n",
              "      <td>24977.281402</td>\n",
              "      <td>3336</td>\n",
              "      <td>66</td>\n",
              "      <td>x</td>\n",
              "      <td>148.18</td>\n",
              "      <td>3.42</td>\n",
              "      <td>332.45</td>\n",
              "      <td>False</td>\n",
              "      <td>17</td>\n",
              "      <td>8</td>\n",
              "    </tr>\n",
              "    <tr>\n",
              "      <th>2</th>\n",
              "      <td>5e7cd9b6552a596c95f3c0a0</td>\n",
              "      <td>jason0107</td>\n",
              "      <td>user</td>\n",
              "      <td>NaN</td>\n",
              "      <td>False</td>\n",
              "      <td>TW</td>\n",
              "      <td>203</td>\n",
              "      <td>174</td>\n",
              "      <td>24971.060275</td>\n",
              "      <td>3273</td>\n",
              "      <td>67</td>\n",
              "      <td>x</td>\n",
              "      <td>146.11</td>\n",
              "      <td>3.63</td>\n",
              "      <td>323.59</td>\n",
              "      <td>False</td>\n",
              "      <td>17</td>\n",
              "      <td>8</td>\n",
              "    </tr>\n",
              "    <tr>\n",
              "      <th>3</th>\n",
              "      <td>6005c355413441e94a56c91f</td>\n",
              "      <td>seunghun1004</td>\n",
              "      <td>user</td>\n",
              "      <td>NaN</td>\n",
              "      <td>False</td>\n",
              "      <td>KR</td>\n",
              "      <td>105</td>\n",
              "      <td>96</td>\n",
              "      <td>24963.111381</td>\n",
              "      <td>3208</td>\n",
              "      <td>66</td>\n",
              "      <td>x</td>\n",
              "      <td>125.46</td>\n",
              "      <td>3.41</td>\n",
              "      <td>284.71</td>\n",
              "      <td>False</td>\n",
              "      <td>17</td>\n",
              "      <td>8</td>\n",
              "    </tr>\n",
              "    <tr>\n",
              "      <th>4</th>\n",
              "      <td>5eb11da1e47b643b5d12e5f1</td>\n",
              "      <td>gamaover</td>\n",
              "      <td>user</td>\n",
              "      <td>True</td>\n",
              "      <td>True</td>\n",
              "      <td>JP</td>\n",
              "      <td>332</td>\n",
              "      <td>245</td>\n",
              "      <td>24962.642754</td>\n",
              "      <td>3205</td>\n",
              "      <td>66</td>\n",
              "      <td>x</td>\n",
              "      <td>121.62</td>\n",
              "      <td>2.93</td>\n",
              "      <td>279.35</td>\n",
              "      <td>False</td>\n",
              "      <td>17</td>\n",
              "      <td>8</td>\n",
              "    </tr>\n",
              "    <tr>\n",
              "      <th>...</th>\n",
              "      <td>...</td>\n",
              "      <td>...</td>\n",
              "      <td>...</td>\n",
              "      <td>...</td>\n",
              "      <td>...</td>\n",
              "      <td>...</td>\n",
              "      <td>...</td>\n",
              "      <td>...</td>\n",
              "      <td>...</td>\n",
              "      <td>...</td>\n",
              "      <td>...</td>\n",
              "      <td>...</td>\n",
              "      <td>...</td>\n",
              "      <td>...</td>\n",
              "      <td>...</td>\n",
              "      <td>...</td>\n",
              "      <td>...</td>\n",
              "      <td>...</td>\n",
              "    </tr>\n",
              "    <tr>\n",
              "      <th>14768</th>\n",
              "      <td>5fc40de613e8c021da3a03fe</td>\n",
              "      <td>blindsixx</td>\n",
              "      <td>user</td>\n",
              "      <td>NaN</td>\n",
              "      <td>False</td>\n",
              "      <td>DO</td>\n",
              "      <td>101</td>\n",
              "      <td>13</td>\n",
              "      <td>234.876448</td>\n",
              "      <td>278</td>\n",
              "      <td>67</td>\n",
              "      <td>d</td>\n",
              "      <td>3.31</td>\n",
              "      <td>0.16</td>\n",
              "      <td>7.32</td>\n",
              "      <td>False</td>\n",
              "      <td>1</td>\n",
              "      <td>1</td>\n",
              "    </tr>\n",
              "    <tr>\n",
              "      <th>14769</th>\n",
              "      <td>5fed88f67222310b7a4fcc7b</td>\n",
              "      <td>rank_d</td>\n",
              "      <td>user</td>\n",
              "      <td>NaN</td>\n",
              "      <td>False</td>\n",
              "      <td>KR</td>\n",
              "      <td>26</td>\n",
              "      <td>0</td>\n",
              "      <td>234.794148</td>\n",
              "      <td>264</td>\n",
              "      <td>99</td>\n",
              "      <td>d</td>\n",
              "      <td>0.57</td>\n",
              "      <td>8.20</td>\n",
              "      <td>0.95</td>\n",
              "      <td>True</td>\n",
              "      <td>1</td>\n",
              "      <td>1</td>\n",
              "    </tr>\n",
              "    <tr>\n",
              "      <th>14770</th>\n",
              "      <td>5fe95de14529400ba470617e</td>\n",
              "      <td>shootinstar</td>\n",
              "      <td>user</td>\n",
              "      <td>NaN</td>\n",
              "      <td>False</td>\n",
              "      <td>US</td>\n",
              "      <td>49</td>\n",
              "      <td>4</td>\n",
              "      <td>232.492803</td>\n",
              "      <td>272</td>\n",
              "      <td>83</td>\n",
              "      <td>d</td>\n",
              "      <td>2.65</td>\n",
              "      <td>0.51</td>\n",
              "      <td>6.33</td>\n",
              "      <td>True</td>\n",
              "      <td>1</td>\n",
              "      <td>1</td>\n",
              "    </tr>\n",
              "    <tr>\n",
              "      <th>14771</th>\n",
              "      <td>5fdbade9e3ea3a3755f37ebf</td>\n",
              "      <td>sis25</td>\n",
              "      <td>user</td>\n",
              "      <td>NaN</td>\n",
              "      <td>False</td>\n",
              "      <td>AR</td>\n",
              "      <td>291</td>\n",
              "      <td>72</td>\n",
              "      <td>217.319911</td>\n",
              "      <td>258</td>\n",
              "      <td>69</td>\n",
              "      <td>d</td>\n",
              "      <td>6.57</td>\n",
              "      <td>0.87</td>\n",
              "      <td>11.89</td>\n",
              "      <td>True</td>\n",
              "      <td>1</td>\n",
              "      <td>1</td>\n",
              "    </tr>\n",
              "    <tr>\n",
              "      <th>14772</th>\n",
              "      <td>6013a88bf5c57ce9662953b5</td>\n",
              "      <td>ramsesin</td>\n",
              "      <td>user</td>\n",
              "      <td>NaN</td>\n",
              "      <td>False</td>\n",
              "      <td>MX</td>\n",
              "      <td>88</td>\n",
              "      <td>16</td>\n",
              "      <td>213.716272</td>\n",
              "      <td>253</td>\n",
              "      <td>69</td>\n",
              "      <td>d</td>\n",
              "      <td>4.11</td>\n",
              "      <td>0.48</td>\n",
              "      <td>7.85</td>\n",
              "      <td>False</td>\n",
              "      <td>1</td>\n",
              "      <td>1</td>\n",
              "    </tr>\n",
              "  </tbody>\n",
              "</table>\n",
              "<p>14772 rows × 18 columns</p>\n",
              "</div>"
            ],
            "text/plain": [
              "                            _id      username  ... rank_num rank_grouped\n",
              "0      5e844b0868270e617d52c990   czsmall0402  ...       17            8\n",
              "1      5f5dbcc4454e942b4fdfc5fa      vincehd_  ...       17            8\n",
              "2      5e7cd9b6552a596c95f3c0a0     jason0107  ...       17            8\n",
              "3      6005c355413441e94a56c91f  seunghun1004  ...       17            8\n",
              "4      5eb11da1e47b643b5d12e5f1      gamaover  ...       17            8\n",
              "...                         ...           ...  ...      ...          ...\n",
              "14768  5fc40de613e8c021da3a03fe     blindsixx  ...        1            1\n",
              "14769  5fed88f67222310b7a4fcc7b        rank_d  ...        1            1\n",
              "14770  5fe95de14529400ba470617e   shootinstar  ...        1            1\n",
              "14771  5fdbade9e3ea3a3755f37ebf         sis25  ...        1            1\n",
              "14772  6013a88bf5c57ce9662953b5      ramsesin  ...        1            1\n",
              "\n",
              "[14772 rows x 18 columns]"
            ]
          },
          "metadata": {
            "tags": []
          },
          "execution_count": 45
        }
      ]
    },
    {
      "cell_type": "code",
      "metadata": {
        "id": "kZy_V7S7kFhj"
      },
      "source": [
        "df_shuffled = shuffle(df, random_state=1)\r\n",
        "df_shuffled = df_shuffled.reset_index(drop=True)"
      ],
      "execution_count": null,
      "outputs": []
    },
    {
      "cell_type": "code",
      "metadata": {
        "colab": {
          "base_uri": "https://localhost:8080/",
          "height": 402
        },
        "id": "E1fyc3qSkMDs",
        "outputId": "6260aa83-3116-4772-cc9b-0aeb840bf360"
      },
      "source": [
        "main_df = df_shuffled.loc[:,\"gamesplayed\":\"vs\"]\r\n",
        "main_df[\"rank_grouped\"] = df_shuffled[\"rank_grouped\"]\r\n",
        "main_df"
      ],
      "execution_count": null,
      "outputs": [
        {
          "output_type": "execute_result",
          "data": {
            "text/html": [
              "<div>\n",
              "<style scoped>\n",
              "    .dataframe tbody tr th:only-of-type {\n",
              "        vertical-align: middle;\n",
              "    }\n",
              "\n",
              "    .dataframe tbody tr th {\n",
              "        vertical-align: top;\n",
              "    }\n",
              "\n",
              "    .dataframe thead th {\n",
              "        text-align: right;\n",
              "    }\n",
              "</style>\n",
              "<table border=\"1\" class=\"dataframe\">\n",
              "  <thead>\n",
              "    <tr style=\"text-align: right;\">\n",
              "      <th></th>\n",
              "      <th>gamesplayed</th>\n",
              "      <th>gameswon</th>\n",
              "      <th>rating</th>\n",
              "      <th>glicko</th>\n",
              "      <th>rd</th>\n",
              "      <th>rank</th>\n",
              "      <th>apm</th>\n",
              "      <th>pps</th>\n",
              "      <th>vs</th>\n",
              "      <th>rank_grouped</th>\n",
              "    </tr>\n",
              "  </thead>\n",
              "  <tbody>\n",
              "    <tr>\n",
              "      <th>0</th>\n",
              "      <td>62</td>\n",
              "      <td>24</td>\n",
              "      <td>1514.299275</td>\n",
              "      <td>779</td>\n",
              "      <td>94</td>\n",
              "      <td>c-</td>\n",
              "      <td>13.54</td>\n",
              "      <td>0.95</td>\n",
              "      <td>24.55</td>\n",
              "      <td>2</td>\n",
              "    </tr>\n",
              "    <tr>\n",
              "      <th>1</th>\n",
              "      <td>49</td>\n",
              "      <td>23</td>\n",
              "      <td>4921.120944</td>\n",
              "      <td>1131</td>\n",
              "      <td>76</td>\n",
              "      <td>b-</td>\n",
              "      <td>11.65</td>\n",
              "      <td>0.86</td>\n",
              "      <td>26.27</td>\n",
              "      <td>3</td>\n",
              "    </tr>\n",
              "    <tr>\n",
              "      <th>2</th>\n",
              "      <td>246</td>\n",
              "      <td>126</td>\n",
              "      <td>19138.234100</td>\n",
              "      <td>1810</td>\n",
              "      <td>62</td>\n",
              "      <td>s</td>\n",
              "      <td>30.43</td>\n",
              "      <td>1.26</td>\n",
              "      <td>68.91</td>\n",
              "      <td>5</td>\n",
              "    </tr>\n",
              "    <tr>\n",
              "      <th>3</th>\n",
              "      <td>96</td>\n",
              "      <td>45</td>\n",
              "      <td>7681.431802</td>\n",
              "      <td>1287</td>\n",
              "      <td>63</td>\n",
              "      <td>b</td>\n",
              "      <td>12.32</td>\n",
              "      <td>0.88</td>\n",
              "      <td>26.38</td>\n",
              "      <td>3</td>\n",
              "    </tr>\n",
              "    <tr>\n",
              "      <th>4</th>\n",
              "      <td>326</td>\n",
              "      <td>152</td>\n",
              "      <td>9585.521157</td>\n",
              "      <td>1375</td>\n",
              "      <td>66</td>\n",
              "      <td>b+</td>\n",
              "      <td>15.23</td>\n",
              "      <td>0.90</td>\n",
              "      <td>30.22</td>\n",
              "      <td>3</td>\n",
              "    </tr>\n",
              "    <tr>\n",
              "      <th>...</th>\n",
              "      <td>...</td>\n",
              "      <td>...</td>\n",
              "      <td>...</td>\n",
              "      <td>...</td>\n",
              "      <td>...</td>\n",
              "      <td>...</td>\n",
              "      <td>...</td>\n",
              "      <td>...</td>\n",
              "      <td>...</td>\n",
              "      <td>...</td>\n",
              "    </tr>\n",
              "    <tr>\n",
              "      <th>14767</th>\n",
              "      <td>482</td>\n",
              "      <td>268</td>\n",
              "      <td>22697.542517</td>\n",
              "      <td>2099</td>\n",
              "      <td>61</td>\n",
              "      <td>ss</td>\n",
              "      <td>46.55</td>\n",
              "      <td>1.60</td>\n",
              "      <td>110.26</td>\n",
              "      <td>6</td>\n",
              "    </tr>\n",
              "    <tr>\n",
              "      <th>14768</th>\n",
              "      <td>345</td>\n",
              "      <td>178</td>\n",
              "      <td>14954.820443</td>\n",
              "      <td>1604</td>\n",
              "      <td>61</td>\n",
              "      <td>a+</td>\n",
              "      <td>20.13</td>\n",
              "      <td>1.03</td>\n",
              "      <td>43.21</td>\n",
              "      <td>4</td>\n",
              "    </tr>\n",
              "    <tr>\n",
              "      <th>14769</th>\n",
              "      <td>302</td>\n",
              "      <td>152</td>\n",
              "      <td>3398.425110</td>\n",
              "      <td>1016</td>\n",
              "      <td>62</td>\n",
              "      <td>c+</td>\n",
              "      <td>17.68</td>\n",
              "      <td>0.99</td>\n",
              "      <td>31.83</td>\n",
              "      <td>2</td>\n",
              "    </tr>\n",
              "    <tr>\n",
              "      <th>14770</th>\n",
              "      <td>261</td>\n",
              "      <td>149</td>\n",
              "      <td>24212.666688</td>\n",
              "      <td>2400</td>\n",
              "      <td>76</td>\n",
              "      <td>u</td>\n",
              "      <td>77.46</td>\n",
              "      <td>2.24</td>\n",
              "      <td>172.28</td>\n",
              "      <td>7</td>\n",
              "    </tr>\n",
              "    <tr>\n",
              "      <th>14771</th>\n",
              "      <td>72</td>\n",
              "      <td>34</td>\n",
              "      <td>1832.195653</td>\n",
              "      <td>833</td>\n",
              "      <td>74</td>\n",
              "      <td>c-</td>\n",
              "      <td>12.44</td>\n",
              "      <td>1.15</td>\n",
              "      <td>23.43</td>\n",
              "      <td>2</td>\n",
              "    </tr>\n",
              "  </tbody>\n",
              "</table>\n",
              "<p>14772 rows × 10 columns</p>\n",
              "</div>"
            ],
            "text/plain": [
              "       gamesplayed  gameswon        rating  ...   pps      vs rank_grouped\n",
              "0               62        24   1514.299275  ...  0.95   24.55            2\n",
              "1               49        23   4921.120944  ...  0.86   26.27            3\n",
              "2              246       126  19138.234100  ...  1.26   68.91            5\n",
              "3               96        45   7681.431802  ...  0.88   26.38            3\n",
              "4              326       152   9585.521157  ...  0.90   30.22            3\n",
              "...            ...       ...           ...  ...   ...     ...          ...\n",
              "14767          482       268  22697.542517  ...  1.60  110.26            6\n",
              "14768          345       178  14954.820443  ...  1.03   43.21            4\n",
              "14769          302       152   3398.425110  ...  0.99   31.83            2\n",
              "14770          261       149  24212.666688  ...  2.24  172.28            7\n",
              "14771           72        34   1832.195653  ...  1.15   23.43            2\n",
              "\n",
              "[14772 rows x 10 columns]"
            ]
          },
          "metadata": {
            "tags": []
          },
          "execution_count": 47
        }
      ]
    },
    {
      "cell_type": "code",
      "metadata": {
        "colab": {
          "base_uri": "https://localhost:8080/",
          "height": 402
        },
        "id": "sInA_Jk_kPC0",
        "outputId": "be23fb94-31c0-4f98-ee02-6e89aeed70a6"
      },
      "source": [
        "df_x = main_df.loc[:,['apm', 'pps', 'vs']]\r\n",
        "df_x"
      ],
      "execution_count": null,
      "outputs": [
        {
          "output_type": "execute_result",
          "data": {
            "text/html": [
              "<div>\n",
              "<style scoped>\n",
              "    .dataframe tbody tr th:only-of-type {\n",
              "        vertical-align: middle;\n",
              "    }\n",
              "\n",
              "    .dataframe tbody tr th {\n",
              "        vertical-align: top;\n",
              "    }\n",
              "\n",
              "    .dataframe thead th {\n",
              "        text-align: right;\n",
              "    }\n",
              "</style>\n",
              "<table border=\"1\" class=\"dataframe\">\n",
              "  <thead>\n",
              "    <tr style=\"text-align: right;\">\n",
              "      <th></th>\n",
              "      <th>apm</th>\n",
              "      <th>pps</th>\n",
              "      <th>vs</th>\n",
              "    </tr>\n",
              "  </thead>\n",
              "  <tbody>\n",
              "    <tr>\n",
              "      <th>0</th>\n",
              "      <td>13.54</td>\n",
              "      <td>0.95</td>\n",
              "      <td>24.55</td>\n",
              "    </tr>\n",
              "    <tr>\n",
              "      <th>1</th>\n",
              "      <td>11.65</td>\n",
              "      <td>0.86</td>\n",
              "      <td>26.27</td>\n",
              "    </tr>\n",
              "    <tr>\n",
              "      <th>2</th>\n",
              "      <td>30.43</td>\n",
              "      <td>1.26</td>\n",
              "      <td>68.91</td>\n",
              "    </tr>\n",
              "    <tr>\n",
              "      <th>3</th>\n",
              "      <td>12.32</td>\n",
              "      <td>0.88</td>\n",
              "      <td>26.38</td>\n",
              "    </tr>\n",
              "    <tr>\n",
              "      <th>4</th>\n",
              "      <td>15.23</td>\n",
              "      <td>0.90</td>\n",
              "      <td>30.22</td>\n",
              "    </tr>\n",
              "    <tr>\n",
              "      <th>...</th>\n",
              "      <td>...</td>\n",
              "      <td>...</td>\n",
              "      <td>...</td>\n",
              "    </tr>\n",
              "    <tr>\n",
              "      <th>14767</th>\n",
              "      <td>46.55</td>\n",
              "      <td>1.60</td>\n",
              "      <td>110.26</td>\n",
              "    </tr>\n",
              "    <tr>\n",
              "      <th>14768</th>\n",
              "      <td>20.13</td>\n",
              "      <td>1.03</td>\n",
              "      <td>43.21</td>\n",
              "    </tr>\n",
              "    <tr>\n",
              "      <th>14769</th>\n",
              "      <td>17.68</td>\n",
              "      <td>0.99</td>\n",
              "      <td>31.83</td>\n",
              "    </tr>\n",
              "    <tr>\n",
              "      <th>14770</th>\n",
              "      <td>77.46</td>\n",
              "      <td>2.24</td>\n",
              "      <td>172.28</td>\n",
              "    </tr>\n",
              "    <tr>\n",
              "      <th>14771</th>\n",
              "      <td>12.44</td>\n",
              "      <td>1.15</td>\n",
              "      <td>23.43</td>\n",
              "    </tr>\n",
              "  </tbody>\n",
              "</table>\n",
              "<p>14772 rows × 3 columns</p>\n",
              "</div>"
            ],
            "text/plain": [
              "         apm   pps      vs\n",
              "0      13.54  0.95   24.55\n",
              "1      11.65  0.86   26.27\n",
              "2      30.43  1.26   68.91\n",
              "3      12.32  0.88   26.38\n",
              "4      15.23  0.90   30.22\n",
              "...      ...   ...     ...\n",
              "14767  46.55  1.60  110.26\n",
              "14768  20.13  1.03   43.21\n",
              "14769  17.68  0.99   31.83\n",
              "14770  77.46  2.24  172.28\n",
              "14771  12.44  1.15   23.43\n",
              "\n",
              "[14772 rows x 3 columns]"
            ]
          },
          "metadata": {
            "tags": []
          },
          "execution_count": 48
        }
      ]
    },
    {
      "cell_type": "code",
      "metadata": {
        "colab": {
          "base_uri": "https://localhost:8080/"
        },
        "id": "q61eYQ7PkTSD",
        "outputId": "818aa63e-a1fb-4d47-bcb3-44a862bf4f3b"
      },
      "source": [
        "df_y = main_df.loc[:,\"rank_grouped\"]\r\n",
        "df_y"
      ],
      "execution_count": null,
      "outputs": [
        {
          "output_type": "execute_result",
          "data": {
            "text/plain": [
              "0        2\n",
              "1        3\n",
              "2        5\n",
              "3        3\n",
              "4        3\n",
              "        ..\n",
              "14767    6\n",
              "14768    4\n",
              "14769    2\n",
              "14770    7\n",
              "14771    2\n",
              "Name: rank_grouped, Length: 14772, dtype: int64"
            ]
          },
          "metadata": {
            "tags": []
          },
          "execution_count": 49
        }
      ]
    },
    {
      "cell_type": "code",
      "metadata": {
        "id": "cb75VqcekYTj"
      },
      "source": [
        "X_train, X_test, y_train, y_test = train_test_split(df_x, df_y, train_size=0.7, random_state=1)"
      ],
      "execution_count": null,
      "outputs": []
    },
    {
      "cell_type": "code",
      "metadata": {
        "colab": {
          "base_uri": "https://localhost:8080/"
        },
        "id": "LVYqfuOUk4XZ",
        "outputId": "2252a2f6-82e7-44af-c893-e7cf320e898f"
      },
      "source": [
        "X_train.shape, X_test.shape, y_train.shape, y_test.shape"
      ],
      "execution_count": null,
      "outputs": [
        {
          "output_type": "execute_result",
          "data": {
            "text/plain": [
              "((10340, 3), (4432, 3), (10340,), (4432,))"
            ]
          },
          "metadata": {
            "tags": []
          },
          "execution_count": 51
        }
      ]
    },
    {
      "cell_type": "code",
      "metadata": {
        "colab": {
          "base_uri": "https://localhost:8080/"
        },
        "id": "m3GbL24AkgYY",
        "outputId": "4b915564-9ea2-43f0-f7ff-d0e8e83b1268"
      },
      "source": [
        "fit_and_score(models=models, X_train=X_train, X_test=X_test, y_train=y_train, y_test=y_test)"
      ],
      "execution_count": null,
      "outputs": [
        {
          "output_type": "stream",
          "text": [
            "/usr/local/lib/python3.6/dist-packages/sklearn/linear_model/_logistic.py:940: ConvergenceWarning: lbfgs failed to converge (status=1):\n",
            "STOP: TOTAL NO. of ITERATIONS REACHED LIMIT.\n",
            "\n",
            "Increase the number of iterations (max_iter) or scale the data as shown in:\n",
            "    https://scikit-learn.org/stable/modules/preprocessing.html\n",
            "Please also refer to the documentation for alternative solver options:\n",
            "    https://scikit-learn.org/stable/modules/linear_model.html#logistic-regression\n",
            "  extra_warning_msg=_LOGISTIC_SOLVER_CONVERGENCE_MSG)\n"
          ],
          "name": "stderr"
        },
        {
          "output_type": "execute_result",
          "data": {
            "text/plain": [
              "{'KNN': 0.7578971119133574,\n",
              " 'Logistic Regression': 0.6101083032490975,\n",
              " 'Random Forest': 0.7630866425992779}"
            ]
          },
          "metadata": {
            "tags": []
          },
          "execution_count": 52
        }
      ]
    },
    {
      "cell_type": "markdown",
      "metadata": {
        "id": "OQPnJATBrDLl"
      },
      "source": [
        "A significant increase in prediction accuracy from 42% up to 76%. I yet again tune hyperparameters to see if I can get slightly better results."
      ]
    },
    {
      "cell_type": "code",
      "metadata": {
        "colab": {
          "base_uri": "https://localhost:8080/",
          "height": 52
        },
        "id": "3CXALV8Ykrls",
        "outputId": "4fc8b3ee-0957-4b00-f33a-2561e6dcb300"
      },
      "source": [
        "rf_grid = {\"n_estimators\": np.arange(10,1000,50),\r\n",
        "           \"max_depth\": [None, 3, 5, 10],\r\n",
        "           \"min_samples_split\": np.arange(2,20,2),\r\n",
        "           \"min_samples_leaf\": np.arange(1,20,2)}\r\n",
        "\r\n",
        "#Tune RFC with RandomizedSearchCV\r\n",
        "\r\n",
        "np.random.seed(42)\r\n",
        "\r\n",
        "rs_rf = RandomizedSearchCV(RandomForestClassifier(), param_distributions=rf_grid, cv=5, n_iter=20, verbose=True)\r\n",
        "\r\n",
        "rs_rf.fit(X_train, y_train)\r\n"
      ],
      "execution_count": null,
      "outputs": [
        {
          "output_type": "execute_result",
          "data": {
            "application/vnd.google.colaboratory.intrinsic+json": {
              "type": "string"
            },
            "text/plain": [
              "'\\nrf_grid = {\"n_estimators\": np.arange(10,1000,50),\\n           \"max_depth\": [None, 3, 5, 10],\\n           \"min_samples_split\": np.arange(2,20,2),\\n           \"min_samples_leaf\": np.arange(1,20,2)}\\n\\n#Tune RFC with RandomizedSearchCV\\n\\nnp.random.seed(42)\\n\\nrs_rf = RandomizedSearchCV(RandomForestClassifier(), param_distributions=rf_grid, cv=5, n_iter=20, verbose=True)\\n\\nrs_rf.fit(X_train, y_train)\\n'"
            ]
          },
          "metadata": {
            "tags": []
          },
          "execution_count": 53
        }
      ]
    },
    {
      "cell_type": "code",
      "metadata": {
        "colab": {
          "base_uri": "https://localhost:8080/",
          "height": 162
        },
        "id": "lOZX_Hp7lKdV",
        "outputId": "3db4eafb-51f0-4a61-d7d3-36eaf64e2cd4"
      },
      "source": [
        "rs_rf.best_params_"
      ],
      "execution_count": null,
      "outputs": [
        {
          "output_type": "error",
          "ename": "NameError",
          "evalue": "ignored",
          "traceback": [
            "\u001b[0;31m---------------------------------------------------------------------------\u001b[0m",
            "\u001b[0;31mNameError\u001b[0m                                 Traceback (most recent call last)",
            "\u001b[0;32m<ipython-input-54-65eaef416e00>\u001b[0m in \u001b[0;36m<module>\u001b[0;34m()\u001b[0m\n\u001b[0;32m----> 1\u001b[0;31m \u001b[0mrs_rf\u001b[0m\u001b[0;34m.\u001b[0m\u001b[0mbest_params_\u001b[0m\u001b[0;34m\u001b[0m\u001b[0;34m\u001b[0m\u001b[0m\n\u001b[0m",
            "\u001b[0;31mNameError\u001b[0m: name 'rs_rf' is not defined"
          ]
        }
      ]
    },
    {
      "cell_type": "markdown",
      "metadata": {
        "id": "ztpTzoivrUFJ"
      },
      "source": [
        "These parameters are what I got, and they may change as I use RandomizedSearchCV which does not check all possibilities. If I wanted to get the best possible model, GridSearchCV should be used."
      ]
    },
    {
      "cell_type": "code",
      "metadata": {
        "id": "KHaE0STDm2Wn"
      },
      "source": [
        "model = RandomForestClassifier(max_depth=None, min_samples_leaf=5, min_samples_split=12, n_estimators=310)\r\n",
        "model.fit(X_train, y_train)\r\n",
        "y_preds = model.predict(X_test)"
      ],
      "execution_count": null,
      "outputs": []
    },
    {
      "cell_type": "code",
      "metadata": {
        "colab": {
          "base_uri": "https://localhost:8080/"
        },
        "id": "fhC1T-rzm_wO",
        "outputId": "5913fb23-a8ac-4ce6-eea3-9ec1842fdb83"
      },
      "source": [
        "model.score(X_test, y_test)"
      ],
      "execution_count": null,
      "outputs": [
        {
          "output_type": "execute_result",
          "data": {
            "text/plain": [
              "0.7768501805054152"
            ]
          },
          "metadata": {
            "tags": []
          },
          "execution_count": 56
        }
      ]
    },
    {
      "cell_type": "markdown",
      "metadata": {
        "id": "He3dm7PnrrRJ"
      },
      "source": [
        "I wanted to see the deviation in the predicted values versus the actual values in terms of the prediction frequency. From the graph below, the predictions are on par with the actual values."
      ]
    },
    {
      "cell_type": "code",
      "metadata": {
        "colab": {
          "base_uri": "https://localhost:8080/",
          "height": 387
        },
        "id": "h8P5YK6BnFMP",
        "outputId": "a002b838-8a7f-4235-908e-5319ae4a970c"
      },
      "source": [
        "fig, ax = plt.subplots(figsize=(10,5))\r\n",
        "plt.hist(y_preds, color=\"purple\")\r\n",
        "plt.hist(y_test, color=\"green\")"
      ],
      "execution_count": null,
      "outputs": [
        {
          "output_type": "execute_result",
          "data": {
            "text/plain": [
              "(array([ 217.,  749., 1063.,    0., 1054.,  857.,    0.,  269.,  175.,\n",
              "          48.]),\n",
              " array([1. , 1.7, 2.4, 3.1, 3.8, 4.5, 5.2, 5.9, 6.6, 7.3, 8. ]),\n",
              " <a list of 10 Patch objects>)"
            ]
          },
          "metadata": {
            "tags": []
          },
          "execution_count": 57
        },
        {
          "output_type": "display_data",
          "data": {
            "image/png": "[encoded data removed]",
            "text/plain": [
              "<Figure size 720x360 with 1 Axes>"
            ]
          },
          "metadata": {
            "tags": [],
            "needs_background": "dark"
          }
        }
      ]
    },
    {
      "cell_type": "markdown",
      "metadata": {
        "id": "MJbRY16hr-US"
      },
      "source": [
        "Just out of curiosity sake, I look to see some of the wrong predictions and see their differences. "
      ]
    },
    {
      "cell_type": "code",
      "metadata": {
        "colab": {
          "base_uri": "https://localhost:8080/",
          "height": 402
        },
        "id": "2qqYeKG6oBCZ",
        "outputId": "047d8750-26c6-4349-c04c-d64cd61a5bcc"
      },
      "source": [
        "compare = pd.DataFrame([y_preds, y_test], index=[\"Predicted\", \"Actual\"]).T\r\n",
        "compare"
      ],
      "execution_count": null,
      "outputs": [
        {
          "output_type": "execute_result",
          "data": {
            "text/html": [
              "<div>\n",
              "<style scoped>\n",
              "    .dataframe tbody tr th:only-of-type {\n",
              "        vertical-align: middle;\n",
              "    }\n",
              "\n",
              "    .dataframe tbody tr th {\n",
              "        vertical-align: top;\n",
              "    }\n",
              "\n",
              "    .dataframe thead th {\n",
              "        text-align: right;\n",
              "    }\n",
              "</style>\n",
              "<table border=\"1\" class=\"dataframe\">\n",
              "  <thead>\n",
              "    <tr style=\"text-align: right;\">\n",
              "      <th></th>\n",
              "      <th>Predicted</th>\n",
              "      <th>Actual</th>\n",
              "    </tr>\n",
              "  </thead>\n",
              "  <tbody>\n",
              "    <tr>\n",
              "      <th>0</th>\n",
              "      <td>2</td>\n",
              "      <td>1</td>\n",
              "    </tr>\n",
              "    <tr>\n",
              "      <th>1</th>\n",
              "      <td>5</td>\n",
              "      <td>5</td>\n",
              "    </tr>\n",
              "    <tr>\n",
              "      <th>2</th>\n",
              "      <td>3</td>\n",
              "      <td>3</td>\n",
              "    </tr>\n",
              "    <tr>\n",
              "      <th>3</th>\n",
              "      <td>4</td>\n",
              "      <td>4</td>\n",
              "    </tr>\n",
              "    <tr>\n",
              "      <th>4</th>\n",
              "      <td>1</td>\n",
              "      <td>2</td>\n",
              "    </tr>\n",
              "    <tr>\n",
              "      <th>...</th>\n",
              "      <td>...</td>\n",
              "      <td>...</td>\n",
              "    </tr>\n",
              "    <tr>\n",
              "      <th>4427</th>\n",
              "      <td>4</td>\n",
              "      <td>4</td>\n",
              "    </tr>\n",
              "    <tr>\n",
              "      <th>4428</th>\n",
              "      <td>4</td>\n",
              "      <td>4</td>\n",
              "    </tr>\n",
              "    <tr>\n",
              "      <th>4429</th>\n",
              "      <td>5</td>\n",
              "      <td>5</td>\n",
              "    </tr>\n",
              "    <tr>\n",
              "      <th>4430</th>\n",
              "      <td>4</td>\n",
              "      <td>4</td>\n",
              "    </tr>\n",
              "    <tr>\n",
              "      <th>4431</th>\n",
              "      <td>5</td>\n",
              "      <td>5</td>\n",
              "    </tr>\n",
              "  </tbody>\n",
              "</table>\n",
              "<p>4432 rows × 2 columns</p>\n",
              "</div>"
            ],
            "text/plain": [
              "      Predicted  Actual\n",
              "0             2       1\n",
              "1             5       5\n",
              "2             3       3\n",
              "3             4       4\n",
              "4             1       2\n",
              "...         ...     ...\n",
              "4427          4       4\n",
              "4428          4       4\n",
              "4429          5       5\n",
              "4430          4       4\n",
              "4431          5       5\n",
              "\n",
              "[4432 rows x 2 columns]"
            ]
          },
          "metadata": {
            "tags": []
          },
          "execution_count": 61
        }
      ]
    },
    {
      "cell_type": "code",
      "metadata": {
        "colab": {
          "base_uri": "https://localhost:8080/",
          "height": 162
        },
        "id": "3ojHfAe4sJAi",
        "outputId": "4d8396d6-8e2d-4d5f-92c5-87af6a359db5"
      },
      "source": [
        "compare[compare.Predicted != compare.Actual]"
      ],
      "execution_count": 1,
      "outputs": [
        {
          "output_type": "error",
          "ename": "NameError",
          "evalue": "ignored",
          "traceback": [
            "\u001b[0;31m---------------------------------------------------------------------------\u001b[0m",
            "\u001b[0;31mNameError\u001b[0m                                 Traceback (most recent call last)",
            "\u001b[0;32m<ipython-input-1-88f883a1f4a9>\u001b[0m in \u001b[0;36m<module>\u001b[0;34m()\u001b[0m\n\u001b[0;32m----> 1\u001b[0;31m \u001b[0mcompare\u001b[0m\u001b[0;34m[\u001b[0m\u001b[0mcompare\u001b[0m\u001b[0;34m.\u001b[0m\u001b[0mPredicted\u001b[0m \u001b[0;34m!=\u001b[0m \u001b[0mcompare\u001b[0m\u001b[0;34m.\u001b[0m\u001b[0mActual\u001b[0m\u001b[0;34m]\u001b[0m\u001b[0;34m\u001b[0m\u001b[0;34m\u001b[0m\u001b[0m\n\u001b[0m",
            "\u001b[0;31mNameError\u001b[0m: name 'compare' is not defined"
          ]
        }
      ]
    },
    {
      "cell_type": "markdown",
      "metadata": {
        "id": "zYVc6mEWsSxF"
      },
      "source": [
        "As I expected, the wrong predictions are only off by 1 rank. "
      ]
    },
    {
      "cell_type": "markdown",
      "metadata": {
        "id": "qv8JTwhBsZGY"
      },
      "source": [
        "### Afterthought\r\n",
        "\r\n",
        "There was not too much data to begin with as Tetr.io is a rather small platform, so for what it is, the model did pretty decently. From the diagrams above, we could see that there wasn't a clear distinction between the ranks and there was a lot of overlap which directly affects prediction accuracy. I don't think the model could have done much better at its current state as the players in the data do not progress linearly in ranks aside their other statistics. Overall, 76% accuracy is pretty good considering all the problems that exist in this data. "
      ]
    },
    {
      "cell_type": "code",
      "metadata": {
        "id": "toWrj3hbivEc"
      },
      "source": [
        "\"\"\"\r\n",
        "import pickle\r\n",
        "\r\n",
        "pickle.dump(model,open(\"Tetrio_Model.sav\", 'wb'))\r\n",
        "\"\"\""
      ],
      "execution_count": null,
      "outputs": []
    },
    {
      "cell_type": "markdown",
      "metadata": {
        "id": "VxksF1Psjn3c"
      },
      "source": [
        ""
      ]
    },
    {
      "cell_type": "code",
      "metadata": {
        "id": "NmgkxOSwjVbL"
      },
      "source": [
        ""
      ],
      "execution_count": null,
      "outputs": []
    }
  ]
}